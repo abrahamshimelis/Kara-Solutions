{
 "cells": [
  {
   "cell_type": "code",
   "execution_count": 5,
   "metadata": {},
   "outputs": [],
   "source": [
    "import torch\n",
    "import cv2\n",
    "import os\n",
    "\n",
    "\n",
    "\n",
    "   "
   ]
  },
  {
   "cell_type": "markdown",
   "metadata": {},
   "source": [
    "#### Storing YOLO results"
   ]
  },
  {
   "cell_type": "code",
   "execution_count": 12,
   "metadata": {},
   "outputs": [
    {
     "name": "stderr",
     "output_type": "stream",
     "text": [
      "Using cache found in C:\\Users\\abraham.shimelis/.cache\\torch\\hub\\ultralytics_yolov5_master\n",
      "YOLOv5  2024-6-15 Python-3.12.1 torch-2.3.1+cpu CPU\n",
      "\n",
      "Fusing layers... \n",
      "YOLOv5s summary: 213 layers, 7225885 parameters, 0 gradients, 16.4 GFLOPs\n",
      "Adding AutoShape... \n",
      "Saved 1 image to \u001b[1mdetections\\chemed123403\u001b[0m\n"
     ]
    },
    {
     "name": "stdout",
     "output_type": "stream",
     "text": [
      "Detected bottle with confidence 0.65\n",
      "Detected bottle with confidence 0.47\n",
      "Detected bottle with confidence 0.37\n",
      "Detected remote with confidence 0.34\n",
      "Detected bottle with confidence 0.33\n",
      "Detected bottle with confidence 0.29\n",
      "Detected bottle with confidence 0.29\n",
      "Detected refrigerator with confidence 0.27\n",
      "Detected bottle with confidence 0.27\n",
      "Detected bottle with confidence 0.26\n"
     ]
    },
    {
     "name": "stderr",
     "output_type": "stream",
     "text": [
      "Saved 1 image to \u001b[1mdetections\\chemed123404\u001b[0m\n"
     ]
    },
    {
     "name": "stdout",
     "output_type": "stream",
     "text": [
      "Detected bottle with confidence 0.40\n",
      "Detected refrigerator with confidence 0.29\n",
      "Detected bottle with confidence 0.27\n"
     ]
    },
    {
     "name": "stderr",
     "output_type": "stream",
     "text": [
      "Saved 1 image to \u001b[1mdetections\\chemed123405\u001b[0m\n",
      "Saved 1 image to \u001b[1mdetections\\chemed123406\u001b[0m\n",
      "Saved 1 image to \u001b[1mdetections\\chemed123407\u001b[0m\n"
     ]
    },
    {
     "name": "stdout",
     "output_type": "stream",
     "text": [
      "Detected person with confidence 0.89\n",
      "Detected person with confidence 0.87\n",
      "Detected person with confidence 0.51\n",
      "Detected chair with confidence 0.26\n"
     ]
    },
    {
     "name": "stderr",
     "output_type": "stream",
     "text": [
      "Saved 1 image to \u001b[1mdetections\\chemed123408\u001b[0m\n"
     ]
    },
    {
     "name": "stdout",
     "output_type": "stream",
     "text": [
      "Detected person with confidence 0.89\n",
      "Detected person with confidence 0.84\n"
     ]
    },
    {
     "name": "stderr",
     "output_type": "stream",
     "text": [
      "Saved 1 image to \u001b[1mdetections\\chemed123409\u001b[0m\n"
     ]
    },
    {
     "name": "stdout",
     "output_type": "stream",
     "text": [
      "Detected person with confidence 0.89\n",
      "Detected person with confidence 0.84\n"
     ]
    },
    {
     "name": "stderr",
     "output_type": "stream",
     "text": [
      "Saved 1 image to \u001b[1mdetections\\chemed123410\u001b[0m\n",
      "Saved 1 image to \u001b[1mdetections\\chemed123411\u001b[0m\n",
      "Saved 1 image to \u001b[1mdetections\\chemed123412\u001b[0m\n"
     ]
    },
    {
     "name": "stdout",
     "output_type": "stream",
     "text": [
      "Detected cell phone with confidence 0.76\n",
      "Detected book with confidence 0.46\n"
     ]
    },
    {
     "name": "stderr",
     "output_type": "stream",
     "text": [
      "Saved 1 image to \u001b[1mdetections\\chemed123413\u001b[0m\n"
     ]
    },
    {
     "name": "stdout",
     "output_type": "stream",
     "text": [
      "Detected cell phone with confidence 0.68\n"
     ]
    },
    {
     "name": "stderr",
     "output_type": "stream",
     "text": [
      "Saved 1 image to \u001b[1mdetections\\chemed123414\u001b[0m\n"
     ]
    },
    {
     "name": "stdout",
     "output_type": "stream",
     "text": [
      "Detected book with confidence 0.29\n"
     ]
    },
    {
     "name": "stderr",
     "output_type": "stream",
     "text": [
      "Saved 1 image to \u001b[1mdetections\\chemed123415\u001b[0m\n"
     ]
    },
    {
     "name": "stdout",
     "output_type": "stream",
     "text": [
      "Detected cell phone with confidence 0.38\n"
     ]
    },
    {
     "name": "stderr",
     "output_type": "stream",
     "text": [
      "Saved 1 image to \u001b[1mdetections\\chemed123416\u001b[0m\n"
     ]
    },
    {
     "name": "stdout",
     "output_type": "stream",
     "text": [
      "Detected cell phone with confidence 0.55\n",
      "Detected person with confidence 0.27\n"
     ]
    },
    {
     "name": "stderr",
     "output_type": "stream",
     "text": [
      "Saved 1 image to \u001b[1mdetections\\chemed123417\u001b[0m\n"
     ]
    },
    {
     "name": "stdout",
     "output_type": "stream",
     "text": [
      "Detected cell phone with confidence 0.56\n"
     ]
    },
    {
     "name": "stderr",
     "output_type": "stream",
     "text": [
      "Saved 1 image to \u001b[1mdetections\\chemed123418\u001b[0m\n"
     ]
    },
    {
     "name": "stdout",
     "output_type": "stream",
     "text": [
      "Detected cup with confidence 0.48\n"
     ]
    },
    {
     "name": "stderr",
     "output_type": "stream",
     "text": [
      "Saved 1 image to \u001b[1mdetections\\chemed123419\u001b[0m\n",
      "Saved 1 image to \u001b[1mdetections\\chemed123420\u001b[0m\n",
      "Saved 1 image to \u001b[1mdetections\\chemed123421\u001b[0m\n",
      "Saved 1 image to \u001b[1mdetections\\chemed123422\u001b[0m\n"
     ]
    },
    {
     "name": "stdout",
     "output_type": "stream",
     "text": [
      "Detected sports ball with confidence 0.68\n",
      "Detected sports ball with confidence 0.58\n",
      "Detected sports ball with confidence 0.53\n",
      "Detected sports ball with confidence 0.48\n",
      "Detected sports ball with confidence 0.45\n",
      "Detected sports ball with confidence 0.45\n",
      "Detected sports ball with confidence 0.42\n",
      "Detected sports ball with confidence 0.34\n",
      "Detected sports ball with confidence 0.30\n",
      "Detected cake with confidence 0.28\n",
      "Detected sports ball with confidence 0.26\n"
     ]
    },
    {
     "name": "stderr",
     "output_type": "stream",
     "text": [
      "Saved 1 image to \u001b[1mdetections\\chemed123423\u001b[0m\n"
     ]
    },
    {
     "name": "stdout",
     "output_type": "stream",
     "text": [
      "Detected sports ball with confidence 0.66\n",
      "Detected sports ball with confidence 0.47\n",
      "Detected sports ball with confidence 0.35\n",
      "Detected cake with confidence 0.25\n"
     ]
    },
    {
     "name": "stderr",
     "output_type": "stream",
     "text": [
      "Saved 1 image to \u001b[1mdetections\\chemed123424\u001b[0m\n"
     ]
    },
    {
     "name": "stdout",
     "output_type": "stream",
     "text": [
      "Detected sports ball with confidence 0.66\n",
      "Detected sports ball with confidence 0.47\n",
      "Detected sports ball with confidence 0.35\n",
      "Detected cake with confidence 0.25\n"
     ]
    },
    {
     "name": "stderr",
     "output_type": "stream",
     "text": [
      "Saved 1 image to \u001b[1mdetections\\chemed123425\u001b[0m\n"
     ]
    },
    {
     "name": "stdout",
     "output_type": "stream",
     "text": [
      "Detected person with confidence 0.73\n",
      "Detected frisbee with confidence 0.38\n",
      "Detected laptop with confidence 0.28\n"
     ]
    },
    {
     "name": "stderr",
     "output_type": "stream",
     "text": [
      "Saved 1 image to \u001b[1mdetections\\chemed123426\u001b[0m\n"
     ]
    },
    {
     "name": "stdout",
     "output_type": "stream",
     "text": [
      "Detected person with confidence 0.73\n",
      "Detected laptop with confidence 0.25\n"
     ]
    },
    {
     "name": "stderr",
     "output_type": "stream",
     "text": [
      "Saved 1 image to \u001b[1mdetections\\chemed123427\u001b[0m\n"
     ]
    },
    {
     "name": "stdout",
     "output_type": "stream",
     "text": [
      "Detected clock with confidence 0.51\n",
      "Detected person with confidence 0.28\n"
     ]
    },
    {
     "name": "stderr",
     "output_type": "stream",
     "text": [
      "Saved 1 image to \u001b[1mdetections\\chemed123428\u001b[0m\n"
     ]
    },
    {
     "name": "stdout",
     "output_type": "stream",
     "text": [
      "Detected clock with confidence 0.75\n",
      "Detected person with confidence 0.31\n"
     ]
    },
    {
     "name": "stderr",
     "output_type": "stream",
     "text": [
      "Saved 1 image to \u001b[1mdetections\\chemed123429\u001b[0m\n"
     ]
    },
    {
     "name": "stdout",
     "output_type": "stream",
     "text": [
      "Detected bottle with confidence 0.65\n",
      "Detected bottle with confidence 0.47\n",
      "Detected bottle with confidence 0.36\n",
      "Detected remote with confidence 0.35\n",
      "Detected bottle with confidence 0.33\n",
      "Detected bottle with confidence 0.30\n",
      "Detected bottle with confidence 0.30\n",
      "Detected refrigerator with confidence 0.27\n",
      "Detected bottle with confidence 0.27\n",
      "Detected bottle with confidence 0.25\n"
     ]
    },
    {
     "name": "stderr",
     "output_type": "stream",
     "text": [
      "Saved 1 image to \u001b[1mdetections\\chemed123430\u001b[0m\n"
     ]
    },
    {
     "name": "stdout",
     "output_type": "stream",
     "text": [
      "Detected bottle with confidence 0.42\n",
      "Detected bottle with confidence 0.27\n",
      "Detected refrigerator with confidence 0.27\n"
     ]
    },
    {
     "name": "stderr",
     "output_type": "stream",
     "text": [
      "Saved 1 image to \u001b[1mdetections\\chemed123431\u001b[0m\n",
      "Saved 1 image to \u001b[1mdetections\\chemed123432\u001b[0m\n",
      "Saved 1 image to \u001b[1mdetections\\chemed123433\u001b[0m\n",
      "Saved 1 image to \u001b[1mdetections\\chemed123434\u001b[0m\n",
      "Saved 1 image to \u001b[1mdetections\\chemed123435\u001b[0m\n",
      "Saved 1 image to \u001b[1mdetections\\chemed123436\u001b[0m\n",
      "Saved 1 image to \u001b[1mdetections\\chemed123437\u001b[0m\n"
     ]
    },
    {
     "name": "stdout",
     "output_type": "stream",
     "text": [
      "Detected baseball bat with confidence 0.32\n",
      "Detected baseball bat with confidence 0.25\n"
     ]
    },
    {
     "name": "stderr",
     "output_type": "stream",
     "text": [
      "Saved 1 image to \u001b[1mdetections\\chemed123438\u001b[0m\n",
      "Saved 1 image to \u001b[1mdetections\\chemed123439\u001b[0m\n"
     ]
    },
    {
     "name": "stdout",
     "output_type": "stream",
     "text": [
      "Detected mouse with confidence 0.90\n",
      "Detected mouse with confidence 0.88\n",
      "Detected mouse with confidence 0.84\n",
      "Detected mouse with confidence 0.75\n",
      "Detected mouse with confidence 0.69\n",
      "Detected mouse with confidence 0.54\n",
      "Detected mouse with confidence 0.47\n",
      "Detected mouse with confidence 0.45\n"
     ]
    },
    {
     "name": "stderr",
     "output_type": "stream",
     "text": [
      "Saved 1 image to \u001b[1mdetections\\chemed123440\u001b[0m\n"
     ]
    },
    {
     "name": "stdout",
     "output_type": "stream",
     "text": [
      "Detected mouse with confidence 0.70\n",
      "Detected mouse with confidence 0.58\n",
      "Detected mouse with confidence 0.48\n",
      "Detected mouse with confidence 0.26\n"
     ]
    },
    {
     "name": "stderr",
     "output_type": "stream",
     "text": [
      "Saved 1 image to \u001b[1mdetections\\chemed123441\u001b[0m\n"
     ]
    },
    {
     "name": "stdout",
     "output_type": "stream",
     "text": [
      "Detected person with confidence 0.56\n",
      "Detected person with confidence 0.45\n",
      "Detected person with confidence 0.45\n",
      "Detected person with confidence 0.38\n",
      "Detected person with confidence 0.34\n"
     ]
    },
    {
     "name": "stderr",
     "output_type": "stream",
     "text": [
      "Saved 1 image to \u001b[1mdetections\\chemed123442\u001b[0m\n"
     ]
    },
    {
     "name": "stdout",
     "output_type": "stream",
     "text": [
      "Detected person with confidence 0.50\n",
      "Detected person with confidence 0.48\n",
      "Detected person with confidence 0.44\n",
      "Detected person with confidence 0.38\n",
      "Detected person with confidence 0.33\n"
     ]
    },
    {
     "name": "stderr",
     "output_type": "stream",
     "text": [
      "Saved 1 image to \u001b[1mdetections\\chemed123443\u001b[0m\n"
     ]
    },
    {
     "name": "stdout",
     "output_type": "stream",
     "text": [
      "Detected remote with confidence 0.77\n",
      "Detected remote with confidence 0.48\n"
     ]
    },
    {
     "name": "stderr",
     "output_type": "stream",
     "text": [
      "Saved 1 image to \u001b[1mdetections\\chemed123444\u001b[0m\n"
     ]
    },
    {
     "name": "stdout",
     "output_type": "stream",
     "text": [
      "Detected remote with confidence 0.83\n"
     ]
    },
    {
     "name": "stderr",
     "output_type": "stream",
     "text": [
      "Saved 1 image to \u001b[1mdetections\\chemed123445\u001b[0m\n",
      "Saved 1 image to \u001b[1mdetections\\chemed123446\u001b[0m\n",
      "Saved 1 image to \u001b[1mdetections\\chemed123447\u001b[0m\n"
     ]
    },
    {
     "name": "stdout",
     "output_type": "stream",
     "text": [
      "Detected person with confidence 0.59\n",
      "Detected keyboard with confidence 0.36\n",
      "Detected cell phone with confidence 0.30\n"
     ]
    },
    {
     "name": "stderr",
     "output_type": "stream",
     "text": [
      "Saved 1 image to \u001b[1mdetections\\chemed123448\u001b[0m\n"
     ]
    },
    {
     "name": "stdout",
     "output_type": "stream",
     "text": [
      "Detected person with confidence 0.54\n",
      "Detected keyboard with confidence 0.36\n",
      "Detected cell phone with confidence 0.27\n"
     ]
    },
    {
     "name": "stderr",
     "output_type": "stream",
     "text": [
      "Saved 1 image to \u001b[1mdetections\\chemed123449\u001b[0m\n"
     ]
    },
    {
     "name": "stdout",
     "output_type": "stream",
     "text": [
      "Detected cell phone with confidence 0.94\n",
      "Detected person with confidence 0.50\n"
     ]
    },
    {
     "name": "stderr",
     "output_type": "stream",
     "text": [
      "Saved 1 image to \u001b[1mdetections\\chemed123450\u001b[0m\n"
     ]
    },
    {
     "name": "stdout",
     "output_type": "stream",
     "text": [
      "Detected cell phone with confidence 0.93\n",
      "Detected person with confidence 0.40\n"
     ]
    },
    {
     "name": "stderr",
     "output_type": "stream",
     "text": [
      "Saved 1 image to \u001b[1mdetections\\chemed123451\u001b[0m\n"
     ]
    },
    {
     "name": "stdout",
     "output_type": "stream",
     "text": [
      "Detected knife with confidence 0.29\n",
      "Detected remote with confidence 0.25\n"
     ]
    },
    {
     "name": "stderr",
     "output_type": "stream",
     "text": [
      "Saved 1 image to \u001b[1mdetections\\chemed123452\u001b[0m\n"
     ]
    },
    {
     "name": "stdout",
     "output_type": "stream",
     "text": [
      "Detected knife with confidence 0.28\n"
     ]
    },
    {
     "name": "stderr",
     "output_type": "stream",
     "text": [
      "Saved 1 image to \u001b[1mdetections\\chemed123453\u001b[0m\n"
     ]
    },
    {
     "name": "stdout",
     "output_type": "stream",
     "text": [
      "Detected person with confidence 0.75\n"
     ]
    },
    {
     "name": "stderr",
     "output_type": "stream",
     "text": [
      "Saved 1 image to \u001b[1mdetections\\chemed123454\u001b[0m\n"
     ]
    },
    {
     "name": "stdout",
     "output_type": "stream",
     "text": [
      "Detected person with confidence 0.74\n",
      "Detected toothbrush with confidence 0.64\n",
      "Detected tv with confidence 0.27\n"
     ]
    },
    {
     "name": "stderr",
     "output_type": "stream",
     "text": [
      "Saved 1 image to \u001b[1mdetections\\chemed123455\u001b[0m\n"
     ]
    },
    {
     "name": "stdout",
     "output_type": "stream",
     "text": [
      "Detected clock with confidence 0.35\n"
     ]
    },
    {
     "name": "stderr",
     "output_type": "stream",
     "text": [
      "Saved 1 image to \u001b[1mdetections\\chemed123456\u001b[0m\n"
     ]
    },
    {
     "name": "stdout",
     "output_type": "stream",
     "text": [
      "Detected clock with confidence 0.33\n"
     ]
    },
    {
     "name": "stderr",
     "output_type": "stream",
     "text": [
      "Saved 1 image to \u001b[1mdetections\\chemed123457\u001b[0m\n"
     ]
    },
    {
     "name": "stdout",
     "output_type": "stream",
     "text": [
      "Detected cup with confidence 0.49\n",
      "Detected mouse with confidence 0.34\n"
     ]
    },
    {
     "name": "stderr",
     "output_type": "stream",
     "text": [
      "Saved 1 image to \u001b[1mdetections\\chemed123458\u001b[0m\n"
     ]
    },
    {
     "name": "stdout",
     "output_type": "stream",
     "text": [
      "Detected cup with confidence 0.56\n",
      "Detected mouse with confidence 0.34\n",
      "Detected cup with confidence 0.31\n"
     ]
    },
    {
     "name": "stderr",
     "output_type": "stream",
     "text": [
      "Saved 1 image to \u001b[1mdetections\\chemed123459\u001b[0m\n",
      "Saved 1 image to \u001b[1mdetections\\chemed123460\u001b[0m\n",
      "Saved 1 image to \u001b[1mdetections\\chemed123461\u001b[0m\n"
     ]
    },
    {
     "name": "stdout",
     "output_type": "stream",
     "text": [
      "Detected horse with confidence 0.86\n",
      "Detected person with confidence 0.73\n",
      "Detected person with confidence 0.66\n",
      "Detected person with confidence 0.61\n"
     ]
    },
    {
     "name": "stderr",
     "output_type": "stream",
     "text": [
      "Saved 1 image to \u001b[1mdetections\\chemed123462\u001b[0m\n"
     ]
    },
    {
     "name": "stdout",
     "output_type": "stream",
     "text": [
      "Detected horse with confidence 0.85\n",
      "Detected person with confidence 0.73\n",
      "Detected person with confidence 0.72\n",
      "Detected person with confidence 0.67\n"
     ]
    },
    {
     "name": "stderr",
     "output_type": "stream",
     "text": [
      "Saved 1 image to \u001b[1mdetections\\chemed123463\u001b[0m\n",
      "Saved 1 image to \u001b[1mdetections\\chemed123464\u001b[0m\n",
      "Saved 1 image to \u001b[1mdetections\\chemed123465\u001b[0m\n",
      "Saved 1 image to \u001b[1mdetections\\chemed123466\u001b[0m\n",
      "Saved 1 image to \u001b[1mdetections\\chemed123467\u001b[0m\n",
      "Saved 1 image to \u001b[1mdetections\\chemed123468\u001b[0m\n",
      "Saved 1 image to \u001b[1mdetections\\chemed123469\u001b[0m\n"
     ]
    },
    {
     "name": "stdout",
     "output_type": "stream",
     "text": [
      "Detected person with confidence 0.61\n"
     ]
    },
    {
     "name": "stderr",
     "output_type": "stream",
     "text": [
      "Saved 1 image to \u001b[1mdetections\\chemed123470\u001b[0m\n"
     ]
    },
    {
     "name": "stdout",
     "output_type": "stream",
     "text": [
      "Detected person with confidence 0.54\n"
     ]
    },
    {
     "name": "stderr",
     "output_type": "stream",
     "text": [
      "Saved 1 image to \u001b[1mdetections\\chemed123471\u001b[0m\n"
     ]
    },
    {
     "name": "stdout",
     "output_type": "stream",
     "text": [
      "Detected sports ball with confidence 0.68\n",
      "Detected sports ball with confidence 0.57\n",
      "Detected sports ball with confidence 0.56\n",
      "Detected sports ball with confidence 0.55\n",
      "Detected sports ball with confidence 0.48\n",
      "Detected sports ball with confidence 0.47\n",
      "Detected sports ball with confidence 0.44\n",
      "Detected sports ball with confidence 0.38\n",
      "Detected sports ball with confidence 0.34\n",
      "Detected cake with confidence 0.28\n",
      "Detected sports ball with confidence 0.28\n",
      "Detected sports ball with confidence 0.26\n"
     ]
    },
    {
     "name": "stderr",
     "output_type": "stream",
     "text": [
      "Saved 1 image to \u001b[1mdetections\\chemed123472\u001b[0m\n"
     ]
    },
    {
     "name": "stdout",
     "output_type": "stream",
     "text": [
      "Detected sports ball with confidence 0.67\n",
      "Detected sports ball with confidence 0.43\n",
      "Detected sports ball with confidence 0.32\n"
     ]
    },
    {
     "name": "stderr",
     "output_type": "stream",
     "text": [
      "Saved 1 image to \u001b[1mdetections\\chemed123473\u001b[0m\n"
     ]
    },
    {
     "name": "stdout",
     "output_type": "stream",
     "text": [
      "Detected bottle with confidence 0.44\n"
     ]
    },
    {
     "name": "stderr",
     "output_type": "stream",
     "text": [
      "Saved 1 image to \u001b[1mdetections\\chemed123474\u001b[0m\n",
      "Saved 1 image to \u001b[1mdetections\\chemed123475\u001b[0m\n",
      "Saved 1 image to \u001b[1mdetections\\chemed123476\u001b[0m\n",
      "Saved 1 image to \u001b[1mdetections\\chemed123477\u001b[0m\n"
     ]
    },
    {
     "name": "stdout",
     "output_type": "stream",
     "text": [
      "Detected clock with confidence 0.49\n",
      "Detected bed with confidence 0.27\n",
      "Detected chair with confidence 0.26\n"
     ]
    },
    {
     "name": "stderr",
     "output_type": "stream",
     "text": [
      "Saved 1 image to \u001b[1mdetections\\chemed123478\u001b[0m\n"
     ]
    },
    {
     "name": "stdout",
     "output_type": "stream",
     "text": [
      "Detected clock with confidence 0.66\n",
      "Detected chair with confidence 0.32\n"
     ]
    },
    {
     "name": "stderr",
     "output_type": "stream",
     "text": [
      "Saved 1 image to \u001b[1mdetections\\chemed123479\u001b[0m\n"
     ]
    },
    {
     "name": "stdout",
     "output_type": "stream",
     "text": [
      "Detected stop sign with confidence 0.73\n"
     ]
    },
    {
     "name": "stderr",
     "output_type": "stream",
     "text": [
      "Saved 1 image to \u001b[1mdetections\\chemed123480\u001b[0m\n"
     ]
    },
    {
     "name": "stdout",
     "output_type": "stream",
     "text": [
      "Detected stop sign with confidence 0.55\n"
     ]
    },
    {
     "name": "stderr",
     "output_type": "stream",
     "text": [
      "Saved 1 image to \u001b[1mdetections\\chemed123481\u001b[0m\n"
     ]
    },
    {
     "name": "stdout",
     "output_type": "stream",
     "text": [
      "Detected potted plant with confidence 0.84\n",
      "Detected person with confidence 0.71\n"
     ]
    },
    {
     "name": "stderr",
     "output_type": "stream",
     "text": [
      "Saved 1 image to \u001b[1mdetections\\chemed123482\u001b[0m\n"
     ]
    },
    {
     "name": "stdout",
     "output_type": "stream",
     "text": [
      "Detected potted plant with confidence 0.84\n",
      "Detected person with confidence 0.72\n",
      "Detected potted plant with confidence 0.40\n"
     ]
    },
    {
     "name": "stderr",
     "output_type": "stream",
     "text": [
      "Saved 1 image to \u001b[1mdetections\\chemed123483\u001b[0m\n"
     ]
    },
    {
     "name": "stdout",
     "output_type": "stream",
     "text": [
      "Detected person with confidence 0.91\n",
      "Detected person with confidence 0.83\n"
     ]
    },
    {
     "name": "stderr",
     "output_type": "stream",
     "text": [
      "Saved 1 image to \u001b[1mdetections\\chemed123484\u001b[0m\n"
     ]
    },
    {
     "name": "stdout",
     "output_type": "stream",
     "text": [
      "Detected person with confidence 0.90\n",
      "Detected person with confidence 0.83\n"
     ]
    },
    {
     "name": "stderr",
     "output_type": "stream",
     "text": [
      "Saved 1 image to \u001b[1mdetections\\chemed123485\u001b[0m\n"
     ]
    },
    {
     "name": "stdout",
     "output_type": "stream",
     "text": [
      "Detected sports ball with confidence 0.25\n"
     ]
    },
    {
     "name": "stderr",
     "output_type": "stream",
     "text": [
      "Saved 1 image to \u001b[1mdetections\\chemed123486\u001b[0m\n",
      "Saved 1 image to \u001b[1mdetections\\chemed123487\u001b[0m\n"
     ]
    },
    {
     "name": "stdout",
     "output_type": "stream",
     "text": [
      "Detected person with confidence 0.48\n"
     ]
    },
    {
     "name": "stderr",
     "output_type": "stream",
     "text": [
      "Saved 1 image to \u001b[1mdetections\\chemed123488\u001b[0m\n"
     ]
    },
    {
     "name": "stdout",
     "output_type": "stream",
     "text": [
      "Detected person with confidence 0.32\n"
     ]
    },
    {
     "name": "stderr",
     "output_type": "stream",
     "text": [
      "Saved 1 image to \u001b[1mdetections\\chemed123489\u001b[0m\n"
     ]
    },
    {
     "name": "stdout",
     "output_type": "stream",
     "text": [
      "Detected person with confidence 0.50\n"
     ]
    },
    {
     "name": "stderr",
     "output_type": "stream",
     "text": [
      "Saved 1 image to \u001b[1mdetections\\chemed123490\u001b[0m\n"
     ]
    },
    {
     "name": "stdout",
     "output_type": "stream",
     "text": [
      "Detected person with confidence 0.60\n"
     ]
    },
    {
     "name": "stderr",
     "output_type": "stream",
     "text": [
      "Saved 1 image to \u001b[1mdetections\\chemed123491\u001b[0m\n"
     ]
    },
    {
     "name": "stdout",
     "output_type": "stream",
     "text": [
      "Detected bottle with confidence 0.85\n",
      "Detected bottle with confidence 0.75\n",
      "Detected bottle with confidence 0.69\n",
      "Detected bottle with confidence 0.27\n"
     ]
    },
    {
     "name": "stderr",
     "output_type": "stream",
     "text": [
      "Saved 1 image to \u001b[1mdetections\\chemed123492\u001b[0m\n"
     ]
    },
    {
     "name": "stdout",
     "output_type": "stream",
     "text": [
      "Detected bottle with confidence 0.88\n",
      "Detected bottle with confidence 0.83\n",
      "Detected bottle with confidence 0.80\n",
      "Detected bottle with confidence 0.57\n"
     ]
    },
    {
     "name": "stderr",
     "output_type": "stream",
     "text": [
      "Saved 1 image to \u001b[1mdetections\\chemed123493\u001b[0m\n"
     ]
    },
    {
     "name": "stdout",
     "output_type": "stream",
     "text": [
      "Detected clock with confidence 0.42\n",
      "Detected donut with confidence 0.29\n"
     ]
    },
    {
     "name": "stderr",
     "output_type": "stream",
     "text": [
      "Saved 1 image to \u001b[1mdetections\\chemed123494\u001b[0m\n",
      "Saved 1 image to \u001b[1mdetections\\chemed123495\u001b[0m\n",
      "Saved 1 image to \u001b[1mdetections\\chemed123496\u001b[0m\n",
      "Saved 1 image to \u001b[1mdetections\\chemed123497\u001b[0m\n"
     ]
    },
    {
     "name": "stdout",
     "output_type": "stream",
     "text": [
      "Detected person with confidence 0.92\n",
      "Detected chair with confidence 0.64\n"
     ]
    },
    {
     "name": "stderr",
     "output_type": "stream",
     "text": [
      "Saved 1 image to \u001b[1mdetections\\chemed123498\u001b[0m\n"
     ]
    },
    {
     "name": "stdout",
     "output_type": "stream",
     "text": [
      "Detected person with confidence 0.92\n",
      "Detected chair with confidence 0.56\n"
     ]
    },
    {
     "name": "stderr",
     "output_type": "stream",
     "text": [
      "Saved 1 image to \u001b[1mdetections\\chemed123499\u001b[0m\n"
     ]
    },
    {
     "name": "stdout",
     "output_type": "stream",
     "text": [
      "Detected bottle with confidence 0.83\n",
      "Detected bottle with confidence 0.78\n",
      "Detected bottle with confidence 0.73\n",
      "Detected bottle with confidence 0.58\n",
      "Detected bottle with confidence 0.52\n"
     ]
    },
    {
     "name": "stderr",
     "output_type": "stream",
     "text": [
      "Saved 1 image to \u001b[1mdetections\\chemed123500\u001b[0m\n"
     ]
    },
    {
     "name": "stdout",
     "output_type": "stream",
     "text": [
      "Detected bottle with confidence 0.88\n",
      "Detected bottle with confidence 0.81\n",
      "Detected bottle with confidence 0.78\n",
      "Detected bottle with confidence 0.76\n",
      "Detected bottle with confidence 0.73\n"
     ]
    },
    {
     "name": "stderr",
     "output_type": "stream",
     "text": [
      "Saved 1 image to \u001b[1mdetections\\chemed123501\u001b[0m\n"
     ]
    },
    {
     "name": "stdout",
     "output_type": "stream",
     "text": [
      "Detected bottle with confidence 0.86\n",
      "Detected bottle with confidence 0.72\n",
      "Detected bottle with confidence 0.66\n",
      "Detected mouse with confidence 0.65\n"
     ]
    },
    {
     "name": "stderr",
     "output_type": "stream",
     "text": [
      "Saved 1 image to \u001b[1mdetections\\chemed123502\u001b[0m\n"
     ]
    },
    {
     "name": "stdout",
     "output_type": "stream",
     "text": [
      "Detected bottle with confidence 0.85\n",
      "Detected bottle with confidence 0.68\n",
      "Detected bottle with confidence 0.63\n"
     ]
    },
    {
     "name": "stderr",
     "output_type": "stream",
     "text": [
      "Saved 1 image to \u001b[1mdetections\\chemed123503\u001b[0m\n",
      "Saved 1 image to \u001b[1mdetections\\chemed123504\u001b[0m\n",
      "Saved 1 image to \u001b[1mdetections\\chemed123505\u001b[0m\n"
     ]
    },
    {
     "name": "stdout",
     "output_type": "stream",
     "text": [
      "Detected person with confidence 0.79\n",
      "Detected frisbee with confidence 0.76\n",
      "Detected frisbee with confidence 0.66\n",
      "Detected banana with confidence 0.52\n",
      "Detected banana with confidence 0.48\n",
      "Detected banana with confidence 0.42\n",
      "Detected banana with confidence 0.37\n",
      "Detected banana with confidence 0.26\n",
      "Detected banana with confidence 0.26\n"
     ]
    },
    {
     "name": "stderr",
     "output_type": "stream",
     "text": [
      "Saved 1 image to \u001b[1mdetections\\chemed123506\u001b[0m\n"
     ]
    },
    {
     "name": "stdout",
     "output_type": "stream",
     "text": [
      "Detected person with confidence 0.81\n",
      "Detected frisbee with confidence 0.50\n",
      "Detected frisbee with confidence 0.39\n",
      "Detected banana with confidence 0.28\n"
     ]
    },
    {
     "name": "stderr",
     "output_type": "stream",
     "text": [
      "Saved 1 image to \u001b[1mdetections\\chemed123507\u001b[0m\n",
      "Saved 1 image to \u001b[1mdetections\\chemed123508\u001b[0m\n",
      "Saved 1 image to \u001b[1mdetections\\chemed123509\u001b[0m\n"
     ]
    },
    {
     "name": "stdout",
     "output_type": "stream",
     "text": [
      "Detected toilet with confidence 0.63\n"
     ]
    },
    {
     "name": "stderr",
     "output_type": "stream",
     "text": [
      "Saved 1 image to \u001b[1mdetections\\chemed123510\u001b[0m\n",
      "Saved 1 image to \u001b[1mdetections\\chemed123511\u001b[0m\n",
      "Saved 1 image to \u001b[1mdetections\\chemed123512\u001b[0m\n",
      "Saved 1 image to \u001b[1mdetections\\chemed123513\u001b[0m\n",
      "Saved 1 image to \u001b[1mdetections\\chemed123514\u001b[0m\n",
      "Saved 1 image to \u001b[1mdetections\\chemed123515\u001b[0m\n",
      "Saved 1 image to \u001b[1mdetections\\chemed123516\u001b[0m\n",
      "Saved 1 image to \u001b[1mdetections\\chemed123517\u001b[0m\n"
     ]
    },
    {
     "name": "stdout",
     "output_type": "stream",
     "text": [
      "Detected person with confidence 0.53\n"
     ]
    },
    {
     "name": "stderr",
     "output_type": "stream",
     "text": [
      "Saved 1 image to \u001b[1mdetections\\chemed123518\u001b[0m\n"
     ]
    },
    {
     "name": "stdout",
     "output_type": "stream",
     "text": [
      "Detected person with confidence 0.30\n"
     ]
    },
    {
     "name": "stderr",
     "output_type": "stream",
     "text": [
      "Saved 1 image to \u001b[1mdetections\\chemed123519\u001b[0m\n"
     ]
    },
    {
     "name": "stdout",
     "output_type": "stream",
     "text": [
      "Detected person with confidence 0.87\n",
      "Detected zebra with confidence 0.41\n",
      "Detected sports ball with confidence 0.35\n"
     ]
    },
    {
     "name": "stderr",
     "output_type": "stream",
     "text": [
      "Saved 1 image to \u001b[1mdetections\\chemed123520\u001b[0m\n"
     ]
    },
    {
     "name": "stdout",
     "output_type": "stream",
     "text": [
      "Detected person with confidence 0.85\n",
      "Detected zebra with confidence 0.28\n",
      "Detected sports ball with confidence 0.25\n"
     ]
    },
    {
     "name": "stderr",
     "output_type": "stream",
     "text": [
      "Saved 1 image to \u001b[1mdetections\\chemed123521\u001b[0m\n"
     ]
    },
    {
     "name": "stdout",
     "output_type": "stream",
     "text": [
      "Detected person with confidence 0.66\n",
      "Detected vase with confidence 0.63\n",
      "Detected vase with confidence 0.59\n",
      "Detected cake with confidence 0.30\n"
     ]
    },
    {
     "name": "stderr",
     "output_type": "stream",
     "text": [
      "Saved 1 image to \u001b[1mdetections\\chemed123522\u001b[0m\n"
     ]
    },
    {
     "name": "stdout",
     "output_type": "stream",
     "text": [
      "Detected vase with confidence 0.61\n",
      "Detected person with confidence 0.58\n",
      "Detected vase with confidence 0.56\n"
     ]
    },
    {
     "name": "stderr",
     "output_type": "stream",
     "text": [
      "Saved 1 image to \u001b[1mdetections\\chemed123523\u001b[0m\n"
     ]
    },
    {
     "name": "stdout",
     "output_type": "stream",
     "text": [
      "Detected person with confidence 0.35\n",
      "Detected person with confidence 0.26\n"
     ]
    },
    {
     "name": "stderr",
     "output_type": "stream",
     "text": [
      "Saved 1 image to \u001b[1mdetections\\chemed123524\u001b[0m\n"
     ]
    },
    {
     "name": "stdout",
     "output_type": "stream",
     "text": [
      "Detected person with confidence 0.41\n",
      "Detected frisbee with confidence 0.32\n"
     ]
    },
    {
     "name": "stderr",
     "output_type": "stream",
     "text": [
      "Saved 1 image to \u001b[1mdetections\\chemed123525\u001b[0m\n"
     ]
    },
    {
     "name": "stdout",
     "output_type": "stream",
     "text": [
      "Detected sports ball with confidence 0.32\n"
     ]
    },
    {
     "name": "stderr",
     "output_type": "stream",
     "text": [
      "Saved 1 image to \u001b[1mdetections\\chemed123526\u001b[0m\n",
      "Saved 1 image to \u001b[1mdetections\\chemed123527\u001b[0m\n",
      "Saved 1 image to \u001b[1mdetections\\chemed123528\u001b[0m\n",
      "Saved 1 image to \u001b[1mdetections\\chemed123529\u001b[0m\n",
      "Saved 1 image to \u001b[1mdetections\\chemed123530\u001b[0m\n",
      "Saved 1 image to \u001b[1mdetections\\chemed123531\u001b[0m\n"
     ]
    },
    {
     "name": "stdout",
     "output_type": "stream",
     "text": [
      "Detected sports ball with confidence 0.43\n",
      "Detected sports ball with confidence 0.42\n",
      "Detected sports ball with confidence 0.28\n"
     ]
    },
    {
     "name": "stderr",
     "output_type": "stream",
     "text": [
      "Saved 1 image to \u001b[1mdetections\\chemed123532\u001b[0m\n",
      "Saved 1 image to \u001b[1mdetections\\chemed123533\u001b[0m\n",
      "Saved 1 image to \u001b[1mdetections\\chemed123534\u001b[0m\n",
      "Saved 1 image to \u001b[1mdetections\\chemed123535\u001b[0m\n",
      "Saved 1 image to \u001b[1mdetections\\chemed123536\u001b[0m\n"
     ]
    }
   ],
   "source": [
    "import logging\n",
    "import torch\n",
    "import cv2\n",
    "import os\n",
    "import psycopg2\n",
    "from psycopg2 import sql\n",
    "\n",
    "# Configure logging\n",
    "logging.basicConfig(filename='app.log', filemode='w', format='%(name)s - %(levelname)s - %(message)s', level=logging.INFO)\n",
    "\n",
    "# Connect to PostgreSQL database\n",
    "try:\n",
    "    conn = psycopg2.connect(\n",
    "        dbname='kara_solutions_db',\n",
    "        user='postgres',\n",
    "        password='postgres',\n",
    "        host='localhost',\n",
    "        port='5432'\n",
    "    )\n",
    "    cur = conn.cursor()\n",
    "    logging.info('Connected to PostgreSQL database')\n",
    "except Exception as e:\n",
    "    logging.error(f'Error connecting to PostgreSQL database: {e}')\n",
    "    raise\n",
    "\n",
    "# Load YOLO model\n",
    "model = torch.hub.load('ultralytics/yolov5', 'yolov5s')\n",
    "\n",
    "# Directory containing images\n",
    "image_dir = '../data/images/chemed123'\n",
    "\n",
    "# Output directory for results\n",
    "output_dir = '../data/detections/chemed123'\n",
    "if not os.path.exists(output_dir):\n",
    "    os.makedirs(output_dir)\n",
    "\n",
    "# Process each image in the directory\n",
    "for image_name in os.listdir(image_dir):\n",
    "    image_path = os.path.join(image_dir, image_name)\n",
    "    image = cv2.imread(image_path)\n",
    "\n",
    "    # Perform detection\n",
    "    results = model(image)\n",
    "\n",
    "    # Extract detection results\n",
    "    for result in results.xyxy[0].numpy():\n",
    "        x1, y1, x2, y2, conf, cls = result\n",
    "        x1, y1, x2, y2, conf = map(float, (x1, y1, x2, y2, conf))  # Convert to native Python types\n",
    "        label = model.names[int(cls)]\n",
    "        print(f\"Detected {label} with confidence {conf:.2f}\")\n",
    "\n",
    "        # Insert detection data into PostgreSQL\n",
    "        try:\n",
    "            insert_query = sql.SQL(\n",
    "                \"\"\"\n",
    "                INSERT INTO detections_chemed123 (image_name, x1, y1, x2, y2, confidence, classes)\n",
    "                VALUES (%s, %s, %s, %s, %s, %s, %s)\n",
    "                \"\"\"\n",
    "            )\n",
    "            cur.execute(insert_query, (image_name, x1, y1, x2, y2, conf, label))\n",
    "            logging.info(f'Inserted detection for {image_name}')\n",
    "            conn.commit()  # Commit after each successful insert\n",
    "        except Exception as e:\n",
    "            logging.error(f'Error inserting detection for {image_name}: {e}')\n",
    "            conn.rollback()  # Rollback the transaction if there's an error\n",
    "\n",
    "    # Save the results\n",
    "    results.save(save_dir=output_dir)\n",
    "\n",
    "# Close the connection\n",
    "try:\n",
    "    cur.close()\n",
    "    conn.close()\n",
    "    logging.info('PostgreSQL connection closed')\n",
    "except Exception as e:\n",
    "    logging.error(f'Error closing PostgreSQL connection: {e}')\n"
   ]
  },
  {
   "cell_type": "code",
   "execution_count": 13,
   "metadata": {},
   "outputs": [
    {
     "name": "stderr",
     "output_type": "stream",
     "text": [
      "Using cache found in C:\\Users\\abraham.shimelis/.cache\\torch\\hub\\ultralytics_yolov5_master\n",
      "YOLOv5  2024-6-15 Python-3.12.1 torch-2.3.1+cpu CPU\n",
      "\n",
      "Fusing layers... \n",
      "YOLOv5s summary: 213 layers, 7225885 parameters, 0 gradients, 16.4 GFLOPs\n",
      "Adding AutoShape... \n",
      "Saved 1 image to \u001b[1m..\\data\\detections\\lobelia4cosmetics2\u001b[0m\n",
      "Saved 1 image to \u001b[1m..\\data\\detections\\lobelia4cosmetics3\u001b[0m\n",
      "Saved 1 image to \u001b[1m..\\data\\detections\\lobelia4cosmetics4\u001b[0m\n"
     ]
    },
    {
     "name": "stdout",
     "output_type": "stream",
     "text": [
      "Detected bottle with confidence 0.49\n"
     ]
    },
    {
     "name": "stderr",
     "output_type": "stream",
     "text": [
      "Saved 1 image to \u001b[1m..\\data\\detections\\lobelia4cosmetics5\u001b[0m\n"
     ]
    },
    {
     "name": "stdout",
     "output_type": "stream",
     "text": [
      "Detected bottle with confidence 0.50\n"
     ]
    },
    {
     "name": "stderr",
     "output_type": "stream",
     "text": [
      "Saved 1 image to \u001b[1m..\\data\\detections\\lobelia4cosmetics6\u001b[0m\n"
     ]
    },
    {
     "name": "stdout",
     "output_type": "stream",
     "text": [
      "Detected tie with confidence 0.69\n"
     ]
    },
    {
     "name": "stderr",
     "output_type": "stream",
     "text": [
      "Saved 1 image to \u001b[1m..\\data\\detections\\lobelia4cosmetics7\u001b[0m\n"
     ]
    },
    {
     "name": "stdout",
     "output_type": "stream",
     "text": [
      "Detected tie with confidence 0.65\n"
     ]
    },
    {
     "name": "stderr",
     "output_type": "stream",
     "text": [
      "Saved 1 image to \u001b[1m..\\data\\detections\\lobelia4cosmetics8\u001b[0m\n"
     ]
    },
    {
     "name": "stdout",
     "output_type": "stream",
     "text": [
      "Detected tie with confidence 0.64\n"
     ]
    },
    {
     "name": "stderr",
     "output_type": "stream",
     "text": [
      "Saved 1 image to \u001b[1m..\\data\\detections\\lobelia4cosmetics9\u001b[0m\n"
     ]
    },
    {
     "name": "stdout",
     "output_type": "stream",
     "text": [
      "Detected tie with confidence 0.54\n"
     ]
    },
    {
     "name": "stderr",
     "output_type": "stream",
     "text": [
      "Saved 1 image to \u001b[1m..\\data\\detections\\lobelia4cosmetics10\u001b[0m\n"
     ]
    },
    {
     "name": "stdout",
     "output_type": "stream",
     "text": [
      "Detected book with confidence 0.48\n"
     ]
    },
    {
     "name": "stderr",
     "output_type": "stream",
     "text": [
      "Saved 1 image to \u001b[1m..\\data\\detections\\lobelia4cosmetics11\u001b[0m\n"
     ]
    },
    {
     "name": "stdout",
     "output_type": "stream",
     "text": [
      "Detected book with confidence 0.54\n"
     ]
    },
    {
     "name": "stderr",
     "output_type": "stream",
     "text": [
      "Saved 1 image to \u001b[1m..\\data\\detections\\lobelia4cosmetics12\u001b[0m\n",
      "Saved 1 image to \u001b[1m..\\data\\detections\\lobelia4cosmetics13\u001b[0m\n",
      "Saved 1 image to \u001b[1m..\\data\\detections\\lobelia4cosmetics14\u001b[0m\n",
      "Saved 1 image to \u001b[1m..\\data\\detections\\lobelia4cosmetics15\u001b[0m\n",
      "Saved 1 image to \u001b[1m..\\data\\detections\\lobelia4cosmetics16\u001b[0m\n",
      "Saved 1 image to \u001b[1m..\\data\\detections\\lobelia4cosmetics17\u001b[0m\n",
      "Saved 1 image to \u001b[1m..\\data\\detections\\lobelia4cosmetics18\u001b[0m\n",
      "Saved 1 image to \u001b[1m..\\data\\detections\\lobelia4cosmetics19\u001b[0m\n"
     ]
    },
    {
     "name": "stdout",
     "output_type": "stream",
     "text": [
      "Detected bottle with confidence 0.77\n"
     ]
    },
    {
     "name": "stderr",
     "output_type": "stream",
     "text": [
      "Saved 1 image to \u001b[1m..\\data\\detections\\lobelia4cosmetics20\u001b[0m\n"
     ]
    },
    {
     "name": "stdout",
     "output_type": "stream",
     "text": [
      "Detected bottle with confidence 0.74\n"
     ]
    },
    {
     "name": "stderr",
     "output_type": "stream",
     "text": [
      "Saved 1 image to \u001b[1m..\\data\\detections\\lobelia4cosmetics21\u001b[0m\n"
     ]
    },
    {
     "name": "stdout",
     "output_type": "stream",
     "text": [
      "Detected dining table with confidence 0.51\n"
     ]
    },
    {
     "name": "stderr",
     "output_type": "stream",
     "text": [
      "Saved 1 image to \u001b[1m..\\data\\detections\\lobelia4cosmetics22\u001b[0m\n"
     ]
    },
    {
     "name": "stdout",
     "output_type": "stream",
     "text": [
      "Detected dining table with confidence 0.53\n"
     ]
    },
    {
     "name": "stderr",
     "output_type": "stream",
     "text": [
      "Saved 1 image to \u001b[1m..\\data\\detections\\lobelia4cosmetics23\u001b[0m\n"
     ]
    },
    {
     "name": "stdout",
     "output_type": "stream",
     "text": [
      "Detected book with confidence 0.25\n"
     ]
    },
    {
     "name": "stderr",
     "output_type": "stream",
     "text": [
      "Saved 1 image to \u001b[1m..\\data\\detections\\lobelia4cosmetics24\u001b[0m\n",
      "Saved 1 image to \u001b[1m..\\data\\detections\\lobelia4cosmetics25\u001b[0m\n",
      "Saved 1 image to \u001b[1m..\\data\\detections\\lobelia4cosmetics26\u001b[0m\n",
      "Saved 1 image to \u001b[1m..\\data\\detections\\lobelia4cosmetics27\u001b[0m\n",
      "Saved 1 image to \u001b[1m..\\data\\detections\\lobelia4cosmetics28\u001b[0m\n",
      "Saved 1 image to \u001b[1m..\\data\\detections\\lobelia4cosmetics29\u001b[0m\n",
      "Saved 1 image to \u001b[1m..\\data\\detections\\lobelia4cosmetics30\u001b[0m\n",
      "Saved 1 image to \u001b[1m..\\data\\detections\\lobelia4cosmetics31\u001b[0m\n",
      "Saved 1 image to \u001b[1m..\\data\\detections\\lobelia4cosmetics32\u001b[0m\n",
      "Saved 1 image to \u001b[1m..\\data\\detections\\lobelia4cosmetics33\u001b[0m\n",
      "Saved 1 image to \u001b[1m..\\data\\detections\\lobelia4cosmetics34\u001b[0m\n",
      "Saved 1 image to \u001b[1m..\\data\\detections\\lobelia4cosmetics35\u001b[0m\n",
      "Saved 1 image to \u001b[1m..\\data\\detections\\lobelia4cosmetics36\u001b[0m\n",
      "Saved 1 image to \u001b[1m..\\data\\detections\\lobelia4cosmetics37\u001b[0m\n",
      "Saved 1 image to \u001b[1m..\\data\\detections\\lobelia4cosmetics38\u001b[0m\n",
      "Saved 1 image to \u001b[1m..\\data\\detections\\lobelia4cosmetics39\u001b[0m\n",
      "Saved 1 image to \u001b[1m..\\data\\detections\\lobelia4cosmetics40\u001b[0m\n",
      "Saved 1 image to \u001b[1m..\\data\\detections\\lobelia4cosmetics41\u001b[0m\n",
      "Saved 1 image to \u001b[1m..\\data\\detections\\lobelia4cosmetics42\u001b[0m\n",
      "Saved 1 image to \u001b[1m..\\data\\detections\\lobelia4cosmetics43\u001b[0m\n",
      "Saved 1 image to \u001b[1m..\\data\\detections\\lobelia4cosmetics44\u001b[0m\n",
      "Saved 1 image to \u001b[1m..\\data\\detections\\lobelia4cosmetics45\u001b[0m\n"
     ]
    },
    {
     "name": "stdout",
     "output_type": "stream",
     "text": [
      "Detected book with confidence 0.61\n"
     ]
    },
    {
     "name": "stderr",
     "output_type": "stream",
     "text": [
      "Saved 1 image to \u001b[1m..\\data\\detections\\lobelia4cosmetics46\u001b[0m\n"
     ]
    },
    {
     "name": "stdout",
     "output_type": "stream",
     "text": [
      "Detected book with confidence 0.54\n"
     ]
    },
    {
     "name": "stderr",
     "output_type": "stream",
     "text": [
      "Saved 1 image to \u001b[1m..\\data\\detections\\lobelia4cosmetics47\u001b[0m\n"
     ]
    },
    {
     "name": "stdout",
     "output_type": "stream",
     "text": [
      "Detected book with confidence 0.54\n"
     ]
    },
    {
     "name": "stderr",
     "output_type": "stream",
     "text": [
      "Saved 1 image to \u001b[1m..\\data\\detections\\lobelia4cosmetics48\u001b[0m\n"
     ]
    },
    {
     "name": "stdout",
     "output_type": "stream",
     "text": [
      "Detected book with confidence 0.54\n"
     ]
    },
    {
     "name": "stderr",
     "output_type": "stream",
     "text": [
      "Saved 1 image to \u001b[1m..\\data\\detections\\lobelia4cosmetics49\u001b[0m\n",
      "Saved 1 image to \u001b[1m..\\data\\detections\\lobelia4cosmetics50\u001b[0m\n",
      "Saved 1 image to \u001b[1m..\\data\\detections\\lobelia4cosmetics51\u001b[0m\n",
      "Saved 1 image to \u001b[1m..\\data\\detections\\lobelia4cosmetics52\u001b[0m\n",
      "Saved 1 image to \u001b[1m..\\data\\detections\\lobelia4cosmetics53\u001b[0m\n"
     ]
    },
    {
     "name": "stdout",
     "output_type": "stream",
     "text": [
      "Detected book with confidence 0.32\n"
     ]
    },
    {
     "name": "stderr",
     "output_type": "stream",
     "text": [
      "Saved 1 image to \u001b[1m..\\data\\detections\\lobelia4cosmetics54\u001b[0m\n"
     ]
    },
    {
     "name": "stdout",
     "output_type": "stream",
     "text": [
      "Detected book with confidence 0.32\n"
     ]
    },
    {
     "name": "stderr",
     "output_type": "stream",
     "text": [
      "Saved 1 image to \u001b[1m..\\data\\detections\\lobelia4cosmetics55\u001b[0m\n"
     ]
    },
    {
     "name": "stdout",
     "output_type": "stream",
     "text": [
      "Detected book with confidence 0.29\n"
     ]
    },
    {
     "name": "stderr",
     "output_type": "stream",
     "text": [
      "Saved 1 image to \u001b[1m..\\data\\detections\\lobelia4cosmetics56\u001b[0m\n"
     ]
    },
    {
     "name": "stdout",
     "output_type": "stream",
     "text": [
      "Detected book with confidence 0.29\n"
     ]
    },
    {
     "name": "stderr",
     "output_type": "stream",
     "text": [
      "Saved 1 image to \u001b[1m..\\data\\detections\\lobelia4cosmetics57\u001b[0m\n"
     ]
    },
    {
     "name": "stdout",
     "output_type": "stream",
     "text": [
      "Detected book with confidence 0.29\n"
     ]
    },
    {
     "name": "stderr",
     "output_type": "stream",
     "text": [
      "Saved 1 image to \u001b[1m..\\data\\detections\\lobelia4cosmetics58\u001b[0m\n"
     ]
    },
    {
     "name": "stdout",
     "output_type": "stream",
     "text": [
      "Detected book with confidence 0.29\n"
     ]
    },
    {
     "name": "stderr",
     "output_type": "stream",
     "text": [
      "Saved 1 image to \u001b[1m..\\data\\detections\\lobelia4cosmetics59\u001b[0m\n"
     ]
    },
    {
     "name": "stdout",
     "output_type": "stream",
     "text": [
      "Detected book with confidence 0.29\n"
     ]
    },
    {
     "name": "stderr",
     "output_type": "stream",
     "text": [
      "Saved 1 image to \u001b[1m..\\data\\detections\\lobelia4cosmetics60\u001b[0m\n"
     ]
    },
    {
     "name": "stdout",
     "output_type": "stream",
     "text": [
      "Detected book with confidence 0.29\n"
     ]
    },
    {
     "name": "stderr",
     "output_type": "stream",
     "text": [
      "Saved 1 image to \u001b[1m..\\data\\detections\\lobelia4cosmetics61\u001b[0m\n"
     ]
    },
    {
     "name": "stdout",
     "output_type": "stream",
     "text": [
      "Detected vase with confidence 0.26\n",
      "Detected vase with confidence 0.25\n",
      "Detected vase with confidence 0.25\n"
     ]
    },
    {
     "name": "stderr",
     "output_type": "stream",
     "text": [
      "Saved 1 image to \u001b[1m..\\data\\detections\\lobelia4cosmetics62\u001b[0m\n"
     ]
    },
    {
     "name": "stdout",
     "output_type": "stream",
     "text": [
      "Detected bottle with confidence 0.27\n"
     ]
    },
    {
     "name": "stderr",
     "output_type": "stream",
     "text": [
      "Saved 1 image to \u001b[1m..\\data\\detections\\lobelia4cosmetics63\u001b[0m\n"
     ]
    },
    {
     "name": "stdout",
     "output_type": "stream",
     "text": [
      "Detected bottle with confidence 0.43\n",
      "Detected bottle with confidence 0.42\n",
      "Detected bottle with confidence 0.37\n",
      "Detected bottle with confidence 0.34\n"
     ]
    },
    {
     "name": "stderr",
     "output_type": "stream",
     "text": [
      "Saved 1 image to \u001b[1m..\\data\\detections\\lobelia4cosmetics64\u001b[0m\n"
     ]
    },
    {
     "name": "stdout",
     "output_type": "stream",
     "text": [
      "Detected bottle with confidence 0.47\n",
      "Detected bottle with confidence 0.42\n",
      "Detected bottle with confidence 0.38\n",
      "Detected bottle with confidence 0.38\n"
     ]
    },
    {
     "name": "stderr",
     "output_type": "stream",
     "text": [
      "Saved 1 image to \u001b[1m..\\data\\detections\\lobelia4cosmetics65\u001b[0m\n",
      "Saved 1 image to \u001b[1m..\\data\\detections\\lobelia4cosmetics66\u001b[0m\n"
     ]
    },
    {
     "name": "stdout",
     "output_type": "stream",
     "text": [
      "Detected bottle with confidence 0.27\n"
     ]
    },
    {
     "name": "stderr",
     "output_type": "stream",
     "text": [
      "Saved 1 image to \u001b[1m..\\data\\detections\\lobelia4cosmetics67\u001b[0m\n",
      "Saved 1 image to \u001b[1m..\\data\\detections\\lobelia4cosmetics68\u001b[0m\n",
      "Saved 1 image to \u001b[1m..\\data\\detections\\lobelia4cosmetics69\u001b[0m\n",
      "Saved 1 image to \u001b[1m..\\data\\detections\\lobelia4cosmetics70\u001b[0m\n",
      "Saved 1 image to \u001b[1m..\\data\\detections\\lobelia4cosmetics71\u001b[0m\n",
      "Saved 1 image to \u001b[1m..\\data\\detections\\lobelia4cosmetics72\u001b[0m\n",
      "Saved 1 image to \u001b[1m..\\data\\detections\\lobelia4cosmetics73\u001b[0m\n",
      "Saved 1 image to \u001b[1m..\\data\\detections\\lobelia4cosmetics74\u001b[0m\n",
      "Saved 1 image to \u001b[1m..\\data\\detections\\lobelia4cosmetics75\u001b[0m\n"
     ]
    },
    {
     "name": "stdout",
     "output_type": "stream",
     "text": [
      "Detected train with confidence 0.26\n"
     ]
    },
    {
     "name": "stderr",
     "output_type": "stream",
     "text": [
      "Saved 1 image to \u001b[1m..\\data\\detections\\lobelia4cosmetics76\u001b[0m\n",
      "Saved 1 image to \u001b[1m..\\data\\detections\\lobelia4cosmetics77\u001b[0m\n",
      "Saved 1 image to \u001b[1m..\\data\\detections\\lobelia4cosmetics78\u001b[0m\n",
      "Saved 1 image to \u001b[1m..\\data\\detections\\lobelia4cosmetics79\u001b[0m\n",
      "Saved 1 image to \u001b[1m..\\data\\detections\\lobelia4cosmetics80\u001b[0m\n",
      "Saved 1 image to \u001b[1m..\\data\\detections\\lobelia4cosmetics81\u001b[0m\n",
      "Saved 1 image to \u001b[1m..\\data\\detections\\lobelia4cosmetics82\u001b[0m\n",
      "Saved 1 image to \u001b[1m..\\data\\detections\\lobelia4cosmetics83\u001b[0m\n",
      "Saved 1 image to \u001b[1m..\\data\\detections\\lobelia4cosmetics84\u001b[0m\n",
      "Saved 1 image to \u001b[1m..\\data\\detections\\lobelia4cosmetics85\u001b[0m\n",
      "Saved 1 image to \u001b[1m..\\data\\detections\\lobelia4cosmetics86\u001b[0m\n",
      "Saved 1 image to \u001b[1m..\\data\\detections\\lobelia4cosmetics87\u001b[0m\n"
     ]
    },
    {
     "name": "stdout",
     "output_type": "stream",
     "text": [
      "Detected book with confidence 0.34\n"
     ]
    },
    {
     "name": "stderr",
     "output_type": "stream",
     "text": [
      "Saved 1 image to \u001b[1m..\\data\\detections\\lobelia4cosmetics88\u001b[0m\n"
     ]
    },
    {
     "name": "stdout",
     "output_type": "stream",
     "text": [
      "Detected book with confidence 0.35\n"
     ]
    },
    {
     "name": "stderr",
     "output_type": "stream",
     "text": [
      "Saved 1 image to \u001b[1m..\\data\\detections\\lobelia4cosmetics89\u001b[0m\n",
      "Saved 1 image to \u001b[1m..\\data\\detections\\lobelia4cosmetics90\u001b[0m\n",
      "Saved 1 image to \u001b[1m..\\data\\detections\\lobelia4cosmetics91\u001b[0m\n"
     ]
    },
    {
     "name": "stdout",
     "output_type": "stream",
     "text": [
      "Detected person with confidence 0.56\n"
     ]
    },
    {
     "name": "stderr",
     "output_type": "stream",
     "text": [
      "Saved 1 image to \u001b[1m..\\data\\detections\\lobelia4cosmetics92\u001b[0m\n"
     ]
    },
    {
     "name": "stdout",
     "output_type": "stream",
     "text": [
      "Detected person with confidence 0.55\n",
      "Detected bus with confidence 0.42\n"
     ]
    },
    {
     "name": "stderr",
     "output_type": "stream",
     "text": [
      "Saved 1 image to \u001b[1m..\\data\\detections\\lobelia4cosmetics93\u001b[0m\n",
      "Saved 1 image to \u001b[1m..\\data\\detections\\lobelia4cosmetics94\u001b[0m\n",
      "Saved 1 image to \u001b[1m..\\data\\detections\\lobelia4cosmetics95\u001b[0m\n",
      "Saved 1 image to \u001b[1m..\\data\\detections\\lobelia4cosmetics96\u001b[0m\n"
     ]
    },
    {
     "name": "stdout",
     "output_type": "stream",
     "text": [
      "Detected bottle with confidence 0.45\n",
      "Detected bottle with confidence 0.41\n"
     ]
    },
    {
     "name": "stderr",
     "output_type": "stream",
     "text": [
      "Saved 1 image to \u001b[1m..\\data\\detections\\lobelia4cosmetics97\u001b[0m\n"
     ]
    },
    {
     "name": "stdout",
     "output_type": "stream",
     "text": [
      "Detected cup with confidence 0.33\n",
      "Detected bottle with confidence 0.32\n",
      "Detected bottle with confidence 0.27\n"
     ]
    },
    {
     "name": "stderr",
     "output_type": "stream",
     "text": [
      "Saved 1 image to \u001b[1m..\\data\\detections\\lobelia4cosmetics98\u001b[0m\n",
      "Saved 1 image to \u001b[1m..\\data\\detections\\lobelia4cosmetics99\u001b[0m\n",
      "Saved 1 image to \u001b[1m..\\data\\detections\\lobelia4cosmetics100\u001b[0m\n",
      "Saved 1 image to \u001b[1m..\\data\\detections\\lobelia4cosmetics101\u001b[0m\n"
     ]
    },
    {
     "name": "stdout",
     "output_type": "stream",
     "text": [
      "Detected bottle with confidence 0.37\n"
     ]
    },
    {
     "name": "stderr",
     "output_type": "stream",
     "text": [
      "Saved 1 image to \u001b[1m..\\data\\detections\\lobelia4cosmetics102\u001b[0m\n"
     ]
    },
    {
     "name": "stdout",
     "output_type": "stream",
     "text": [
      "Detected bottle with confidence 0.46\n"
     ]
    },
    {
     "name": "stderr",
     "output_type": "stream",
     "text": [
      "Saved 1 image to \u001b[1m..\\data\\detections\\lobelia4cosmetics103\u001b[0m\n"
     ]
    },
    {
     "name": "stdout",
     "output_type": "stream",
     "text": [
      "Detected bottle with confidence 0.46\n"
     ]
    },
    {
     "name": "stderr",
     "output_type": "stream",
     "text": [
      "Saved 1 image to \u001b[1m..\\data\\detections\\lobelia4cosmetics104\u001b[0m\n",
      "Saved 1 image to \u001b[1m..\\data\\detections\\lobelia4cosmetics105\u001b[0m\n",
      "Saved 1 image to \u001b[1m..\\data\\detections\\lobelia4cosmetics106\u001b[0m\n",
      "Saved 1 image to \u001b[1m..\\data\\detections\\lobelia4cosmetics107\u001b[0m\n"
     ]
    },
    {
     "name": "stdout",
     "output_type": "stream",
     "text": [
      "Detected bottle with confidence 0.72\n"
     ]
    },
    {
     "name": "stderr",
     "output_type": "stream",
     "text": [
      "Saved 1 image to \u001b[1m..\\data\\detections\\lobelia4cosmetics108\u001b[0m\n"
     ]
    },
    {
     "name": "stdout",
     "output_type": "stream",
     "text": [
      "Detected bottle with confidence 0.71\n"
     ]
    },
    {
     "name": "stderr",
     "output_type": "stream",
     "text": [
      "Saved 1 image to \u001b[1m..\\data\\detections\\lobelia4cosmetics109\u001b[0m\n"
     ]
    },
    {
     "name": "stdout",
     "output_type": "stream",
     "text": [
      "Detected bottle with confidence 0.71\n"
     ]
    },
    {
     "name": "stderr",
     "output_type": "stream",
     "text": [
      "Saved 1 image to \u001b[1m..\\data\\detections\\lobelia4cosmetics110\u001b[0m\n"
     ]
    },
    {
     "name": "stdout",
     "output_type": "stream",
     "text": [
      "Detected bottle with confidence 0.71\n"
     ]
    },
    {
     "name": "stderr",
     "output_type": "stream",
     "text": [
      "Saved 1 image to \u001b[1m..\\data\\detections\\lobelia4cosmetics111\u001b[0m\n"
     ]
    },
    {
     "name": "stdout",
     "output_type": "stream",
     "text": [
      "Detected bottle with confidence 0.71\n"
     ]
    },
    {
     "name": "stderr",
     "output_type": "stream",
     "text": [
      "Saved 1 image to \u001b[1m..\\data\\detections\\lobelia4cosmetics112\u001b[0m\n",
      "Saved 1 image to \u001b[1m..\\data\\detections\\lobelia4cosmetics113\u001b[0m\n",
      "Saved 1 image to \u001b[1m..\\data\\detections\\lobelia4cosmetics114\u001b[0m\n",
      "Saved 1 image to \u001b[1m..\\data\\detections\\lobelia4cosmetics115\u001b[0m\n",
      "Saved 1 image to \u001b[1m..\\data\\detections\\lobelia4cosmetics116\u001b[0m\n",
      "Saved 1 image to \u001b[1m..\\data\\detections\\lobelia4cosmetics117\u001b[0m\n",
      "Saved 1 image to \u001b[1m..\\data\\detections\\lobelia4cosmetics118\u001b[0m\n",
      "Saved 1 image to \u001b[1m..\\data\\detections\\lobelia4cosmetics119\u001b[0m\n",
      "Saved 1 image to \u001b[1m..\\data\\detections\\lobelia4cosmetics120\u001b[0m\n",
      "Saved 1 image to \u001b[1m..\\data\\detections\\lobelia4cosmetics121\u001b[0m\n",
      "Saved 1 image to \u001b[1m..\\data\\detections\\lobelia4cosmetics122\u001b[0m\n",
      "Saved 1 image to \u001b[1m..\\data\\detections\\lobelia4cosmetics123\u001b[0m\n",
      "Saved 1 image to \u001b[1m..\\data\\detections\\lobelia4cosmetics124\u001b[0m\n",
      "Saved 1 image to \u001b[1m..\\data\\detections\\lobelia4cosmetics125\u001b[0m\n",
      "Saved 1 image to \u001b[1m..\\data\\detections\\lobelia4cosmetics126\u001b[0m\n",
      "Saved 1 image to \u001b[1m..\\data\\detections\\lobelia4cosmetics127\u001b[0m\n",
      "Saved 1 image to \u001b[1m..\\data\\detections\\lobelia4cosmetics128\u001b[0m\n",
      "Saved 1 image to \u001b[1m..\\data\\detections\\lobelia4cosmetics129\u001b[0m\n",
      "Saved 1 image to \u001b[1m..\\data\\detections\\lobelia4cosmetics130\u001b[0m\n"
     ]
    },
    {
     "name": "stdout",
     "output_type": "stream",
     "text": [
      "Detected cup with confidence 0.25\n"
     ]
    },
    {
     "name": "stderr",
     "output_type": "stream",
     "text": [
      "Saved 1 image to \u001b[1m..\\data\\detections\\lobelia4cosmetics131\u001b[0m\n",
      "Saved 1 image to \u001b[1m..\\data\\detections\\lobelia4cosmetics132\u001b[0m\n",
      "Saved 1 image to \u001b[1m..\\data\\detections\\lobelia4cosmetics133\u001b[0m\n",
      "Saved 1 image to \u001b[1m..\\data\\detections\\lobelia4cosmetics134\u001b[0m\n",
      "Saved 1 image to \u001b[1m..\\data\\detections\\lobelia4cosmetics135\u001b[0m\n",
      "Saved 1 image to \u001b[1m..\\data\\detections\\lobelia4cosmetics136\u001b[0m\n",
      "Saved 1 image to \u001b[1m..\\data\\detections\\lobelia4cosmetics137\u001b[0m\n",
      "Saved 1 image to \u001b[1m..\\data\\detections\\lobelia4cosmetics138\u001b[0m\n",
      "Saved 1 image to \u001b[1m..\\data\\detections\\lobelia4cosmetics139\u001b[0m\n",
      "Saved 1 image to \u001b[1m..\\data\\detections\\lobelia4cosmetics140\u001b[0m\n"
     ]
    },
    {
     "name": "stdout",
     "output_type": "stream",
     "text": [
      "Detected cup with confidence 0.50\n"
     ]
    },
    {
     "name": "stderr",
     "output_type": "stream",
     "text": [
      "Saved 1 image to \u001b[1m..\\data\\detections\\lobelia4cosmetics141\u001b[0m\n"
     ]
    },
    {
     "name": "stdout",
     "output_type": "stream",
     "text": [
      "Detected bottle with confidence 0.48\n",
      "Detected cup with confidence 0.31\n"
     ]
    },
    {
     "name": "stderr",
     "output_type": "stream",
     "text": [
      "Saved 1 image to \u001b[1m..\\data\\detections\\lobelia4cosmetics142\u001b[0m\n",
      "Saved 1 image to \u001b[1m..\\data\\detections\\lobelia4cosmetics143\u001b[0m\n",
      "Saved 1 image to \u001b[1m..\\data\\detections\\lobelia4cosmetics144\u001b[0m\n",
      "Saved 1 image to \u001b[1m..\\data\\detections\\lobelia4cosmetics145\u001b[0m\n",
      "Saved 1 image to \u001b[1m..\\data\\detections\\lobelia4cosmetics146\u001b[0m\n"
     ]
    },
    {
     "name": "stdout",
     "output_type": "stream",
     "text": [
      "Detected bottle with confidence 0.28\n"
     ]
    },
    {
     "name": "stderr",
     "output_type": "stream",
     "text": [
      "Saved 1 image to \u001b[1m..\\data\\detections\\lobelia4cosmetics147\u001b[0m\n"
     ]
    },
    {
     "name": "stdout",
     "output_type": "stream",
     "text": [
      "Detected bottle with confidence 0.35\n"
     ]
    },
    {
     "name": "stderr",
     "output_type": "stream",
     "text": [
      "Saved 1 image to \u001b[1m..\\data\\detections\\lobelia4cosmetics148\u001b[0m\n",
      "Saved 1 image to \u001b[1m..\\data\\detections\\lobelia4cosmetics149\u001b[0m\n",
      "Saved 1 image to \u001b[1m..\\data\\detections\\lobelia4cosmetics150\u001b[0m\n",
      "Saved 1 image to \u001b[1m..\\data\\detections\\lobelia4cosmetics151\u001b[0m\n",
      "Saved 1 image to \u001b[1m..\\data\\detections\\lobelia4cosmetics152\u001b[0m\n",
      "Saved 1 image to \u001b[1m..\\data\\detections\\lobelia4cosmetics153\u001b[0m\n"
     ]
    },
    {
     "name": "stdout",
     "output_type": "stream",
     "text": [
      "Detected book with confidence 0.31\n"
     ]
    },
    {
     "name": "stderr",
     "output_type": "stream",
     "text": [
      "Saved 1 image to \u001b[1m..\\data\\detections\\lobelia4cosmetics154\u001b[0m\n"
     ]
    },
    {
     "name": "stdout",
     "output_type": "stream",
     "text": [
      "Detected bottle with confidence 0.29\n"
     ]
    },
    {
     "name": "stderr",
     "output_type": "stream",
     "text": [
      "Saved 1 image to \u001b[1m..\\data\\detections\\lobelia4cosmetics155\u001b[0m\n"
     ]
    },
    {
     "name": "stdout",
     "output_type": "stream",
     "text": [
      "Detected bottle with confidence 0.33\n"
     ]
    },
    {
     "name": "stderr",
     "output_type": "stream",
     "text": [
      "Saved 1 image to \u001b[1m..\\data\\detections\\lobelia4cosmetics156\u001b[0m\n",
      "Saved 1 image to \u001b[1m..\\data\\detections\\lobelia4cosmetics157\u001b[0m\n",
      "Saved 1 image to \u001b[1m..\\data\\detections\\lobelia4cosmetics158\u001b[0m\n",
      "Saved 1 image to \u001b[1m..\\data\\detections\\lobelia4cosmetics159\u001b[0m\n",
      "Saved 1 image to \u001b[1m..\\data\\detections\\lobelia4cosmetics160\u001b[0m\n",
      "Saved 1 image to \u001b[1m..\\data\\detections\\lobelia4cosmetics161\u001b[0m\n",
      "Saved 1 image to \u001b[1m..\\data\\detections\\lobelia4cosmetics162\u001b[0m\n",
      "Saved 1 image to \u001b[1m..\\data\\detections\\lobelia4cosmetics163\u001b[0m\n"
     ]
    },
    {
     "name": "stdout",
     "output_type": "stream",
     "text": [
      "Detected bottle with confidence 0.27\n"
     ]
    },
    {
     "name": "stderr",
     "output_type": "stream",
     "text": [
      "Saved 1 image to \u001b[1m..\\data\\detections\\lobelia4cosmetics164\u001b[0m\n"
     ]
    },
    {
     "name": "stdout",
     "output_type": "stream",
     "text": [
      "Detected bottle with confidence 0.47\n"
     ]
    },
    {
     "name": "stderr",
     "output_type": "stream",
     "text": [
      "Saved 1 image to \u001b[1m..\\data\\detections\\lobelia4cosmetics165\u001b[0m\n"
     ]
    },
    {
     "name": "stdout",
     "output_type": "stream",
     "text": [
      "Detected bottle with confidence 0.55\n"
     ]
    },
    {
     "name": "stderr",
     "output_type": "stream",
     "text": [
      "Saved 1 image to \u001b[1m..\\data\\detections\\lobelia4cosmetics166\u001b[0m\n"
     ]
    },
    {
     "name": "stdout",
     "output_type": "stream",
     "text": [
      "Detected bottle with confidence 0.49\n"
     ]
    },
    {
     "name": "stderr",
     "output_type": "stream",
     "text": [
      "Saved 1 image to \u001b[1m..\\data\\detections\\lobelia4cosmetics167\u001b[0m\n"
     ]
    },
    {
     "name": "stdout",
     "output_type": "stream",
     "text": [
      "Detected bottle with confidence 0.49\n"
     ]
    },
    {
     "name": "stderr",
     "output_type": "stream",
     "text": [
      "Saved 1 image to \u001b[1m..\\data\\detections\\lobelia4cosmetics168\u001b[0m\n"
     ]
    },
    {
     "name": "stdout",
     "output_type": "stream",
     "text": [
      "Detected parking meter with confidence 0.34\n",
      "Detected bottle with confidence 0.25\n"
     ]
    },
    {
     "name": "stderr",
     "output_type": "stream",
     "text": [
      "Saved 1 image to \u001b[1m..\\data\\detections\\lobelia4cosmetics169\u001b[0m\n"
     ]
    },
    {
     "name": "stdout",
     "output_type": "stream",
     "text": [
      "Detected bottle with confidence 0.32\n",
      "Detected parking meter with confidence 0.29\n"
     ]
    },
    {
     "name": "stderr",
     "output_type": "stream",
     "text": [
      "Saved 1 image to \u001b[1m..\\data\\detections\\lobelia4cosmetics170\u001b[0m\n"
     ]
    },
    {
     "name": "stdout",
     "output_type": "stream",
     "text": [
      "Detected bottle with confidence 0.50\n"
     ]
    },
    {
     "name": "stderr",
     "output_type": "stream",
     "text": [
      "Saved 1 image to \u001b[1m..\\data\\detections\\lobelia4cosmetics171\u001b[0m\n"
     ]
    },
    {
     "name": "stdout",
     "output_type": "stream",
     "text": [
      "Detected bottle with confidence 0.56\n"
     ]
    },
    {
     "name": "stderr",
     "output_type": "stream",
     "text": [
      "Saved 1 image to \u001b[1m..\\data\\detections\\lobelia4cosmetics172\u001b[0m\n"
     ]
    },
    {
     "name": "stdout",
     "output_type": "stream",
     "text": [
      "Detected bottle with confidence 0.56\n"
     ]
    },
    {
     "name": "stderr",
     "output_type": "stream",
     "text": [
      "Saved 1 image to \u001b[1m..\\data\\detections\\lobelia4cosmetics173\u001b[0m\n"
     ]
    },
    {
     "name": "stdout",
     "output_type": "stream",
     "text": [
      "Detected bottle with confidence 0.56\n"
     ]
    },
    {
     "name": "stderr",
     "output_type": "stream",
     "text": [
      "Saved 1 image to \u001b[1m..\\data\\detections\\lobelia4cosmetics174\u001b[0m\n",
      "Saved 1 image to \u001b[1m..\\data\\detections\\lobelia4cosmetics175\u001b[0m\n",
      "Saved 1 image to \u001b[1m..\\data\\detections\\lobelia4cosmetics176\u001b[0m\n",
      "Saved 1 image to \u001b[1m..\\data\\detections\\lobelia4cosmetics177\u001b[0m\n",
      "Saved 1 image to \u001b[1m..\\data\\detections\\lobelia4cosmetics178\u001b[0m\n",
      "Saved 1 image to \u001b[1m..\\data\\detections\\lobelia4cosmetics179\u001b[0m\n",
      "Saved 1 image to \u001b[1m..\\data\\detections\\lobelia4cosmetics180\u001b[0m\n",
      "Saved 1 image to \u001b[1m..\\data\\detections\\lobelia4cosmetics181\u001b[0m\n"
     ]
    },
    {
     "name": "stdout",
     "output_type": "stream",
     "text": [
      "Detected cell phone with confidence 0.43\n"
     ]
    },
    {
     "name": "stderr",
     "output_type": "stream",
     "text": [
      "Saved 1 image to \u001b[1m..\\data\\detections\\lobelia4cosmetics182\u001b[0m\n"
     ]
    },
    {
     "name": "stdout",
     "output_type": "stream",
     "text": [
      "Detected cell phone with confidence 0.43\n"
     ]
    },
    {
     "name": "stderr",
     "output_type": "stream",
     "text": [
      "Saved 1 image to \u001b[1m..\\data\\detections\\lobelia4cosmetics183\u001b[0m\n"
     ]
    },
    {
     "name": "stdout",
     "output_type": "stream",
     "text": [
      "Detected cell phone with confidence 0.43\n"
     ]
    },
    {
     "name": "stderr",
     "output_type": "stream",
     "text": [
      "Saved 1 image to \u001b[1m..\\data\\detections\\lobelia4cosmetics184\u001b[0m\n"
     ]
    },
    {
     "name": "stdout",
     "output_type": "stream",
     "text": [
      "Detected cell phone with confidence 0.43\n"
     ]
    },
    {
     "name": "stderr",
     "output_type": "stream",
     "text": [
      "Saved 1 image to \u001b[1m..\\data\\detections\\lobelia4cosmetics185\u001b[0m\n",
      "Saved 1 image to \u001b[1m..\\data\\detections\\lobelia4cosmetics186\u001b[0m\n",
      "Saved 1 image to \u001b[1m..\\data\\detections\\lobelia4cosmetics187\u001b[0m\n",
      "Saved 1 image to \u001b[1m..\\data\\detections\\lobelia4cosmetics188\u001b[0m\n",
      "Saved 1 image to \u001b[1m..\\data\\detections\\lobelia4cosmetics189\u001b[0m\n"
     ]
    },
    {
     "name": "stdout",
     "output_type": "stream",
     "text": [
      "Detected cell phone with confidence 0.56\n"
     ]
    },
    {
     "name": "stderr",
     "output_type": "stream",
     "text": [
      "Saved 1 image to \u001b[1m..\\data\\detections\\lobelia4cosmetics190\u001b[0m\n"
     ]
    },
    {
     "name": "stdout",
     "output_type": "stream",
     "text": [
      "Detected cell phone with confidence 0.53\n",
      "Detected cell phone with confidence 0.25\n"
     ]
    },
    {
     "name": "stderr",
     "output_type": "stream",
     "text": [
      "Saved 1 image to \u001b[1m..\\data\\detections\\lobelia4cosmetics191\u001b[0m\n"
     ]
    },
    {
     "name": "stdout",
     "output_type": "stream",
     "text": [
      "Detected cell phone with confidence 0.53\n",
      "Detected cell phone with confidence 0.25\n"
     ]
    },
    {
     "name": "stderr",
     "output_type": "stream",
     "text": [
      "Saved 1 image to \u001b[1m..\\data\\detections\\lobelia4cosmetics192\u001b[0m\n"
     ]
    },
    {
     "name": "stdout",
     "output_type": "stream",
     "text": [
      "Detected cell phone with confidence 0.53\n",
      "Detected cell phone with confidence 0.25\n"
     ]
    },
    {
     "name": "stderr",
     "output_type": "stream",
     "text": [
      "Saved 1 image to \u001b[1m..\\data\\detections\\lobelia4cosmetics193\u001b[0m\n"
     ]
    },
    {
     "name": "stdout",
     "output_type": "stream",
     "text": [
      "Detected cup with confidence 0.46\n"
     ]
    },
    {
     "name": "stderr",
     "output_type": "stream",
     "text": [
      "Saved 1 image to \u001b[1m..\\data\\detections\\lobelia4cosmetics194\u001b[0m\n"
     ]
    },
    {
     "name": "stdout",
     "output_type": "stream",
     "text": [
      "Detected cup with confidence 0.35\n"
     ]
    },
    {
     "name": "stderr",
     "output_type": "stream",
     "text": [
      "Saved 1 image to \u001b[1m..\\data\\detections\\lobelia4cosmetics195\u001b[0m\n"
     ]
    },
    {
     "name": "stdout",
     "output_type": "stream",
     "text": [
      "Detected cup with confidence 0.35\n"
     ]
    },
    {
     "name": "stderr",
     "output_type": "stream",
     "text": [
      "Saved 1 image to \u001b[1m..\\data\\detections\\lobelia4cosmetics196\u001b[0m\n"
     ]
    },
    {
     "name": "stdout",
     "output_type": "stream",
     "text": [
      "Detected cup with confidence 0.35\n"
     ]
    },
    {
     "name": "stderr",
     "output_type": "stream",
     "text": [
      "Saved 1 image to \u001b[1m..\\data\\detections\\lobelia4cosmetics197\u001b[0m\n",
      "Saved 1 image to \u001b[1m..\\data\\detections\\lobelia4cosmetics198\u001b[0m\n",
      "Saved 1 image to \u001b[1m..\\data\\detections\\lobelia4cosmetics199\u001b[0m\n",
      "Saved 1 image to \u001b[1m..\\data\\detections\\lobelia4cosmetics200\u001b[0m\n",
      "Saved 1 image to \u001b[1m..\\data\\detections\\lobelia4cosmetics201\u001b[0m\n",
      "Saved 1 image to \u001b[1m..\\data\\detections\\lobelia4cosmetics202\u001b[0m\n"
     ]
    },
    {
     "name": "stdout",
     "output_type": "stream",
     "text": [
      "Detected cup with confidence 0.33\n"
     ]
    },
    {
     "name": "stderr",
     "output_type": "stream",
     "text": [
      "Saved 1 image to \u001b[1m..\\data\\detections\\lobelia4cosmetics203\u001b[0m\n"
     ]
    },
    {
     "name": "stdout",
     "output_type": "stream",
     "text": [
      "Detected cell phone with confidence 0.37\n",
      "Detected cup with confidence 0.31\n"
     ]
    },
    {
     "name": "stderr",
     "output_type": "stream",
     "text": [
      "Saved 1 image to \u001b[1m..\\data\\detections\\lobelia4cosmetics204\u001b[0m\n"
     ]
    },
    {
     "name": "stdout",
     "output_type": "stream",
     "text": [
      "Detected cell phone with confidence 0.37\n",
      "Detected cup with confidence 0.31\n"
     ]
    },
    {
     "name": "stderr",
     "output_type": "stream",
     "text": [
      "Saved 1 image to \u001b[1m..\\data\\detections\\lobelia4cosmetics205\u001b[0m\n"
     ]
    },
    {
     "name": "stdout",
     "output_type": "stream",
     "text": [
      "Detected cell phone with confidence 0.37\n",
      "Detected cup with confidence 0.31\n"
     ]
    },
    {
     "name": "stderr",
     "output_type": "stream",
     "text": [
      "Saved 1 image to \u001b[1m..\\data\\detections\\lobelia4cosmetics206\u001b[0m\n"
     ]
    },
    {
     "name": "stdout",
     "output_type": "stream",
     "text": [
      "Detected cup with confidence 0.30\n",
      "Detected cup with confidence 0.28\n"
     ]
    },
    {
     "name": "stderr",
     "output_type": "stream",
     "text": [
      "Saved 1 image to \u001b[1m..\\data\\detections\\lobelia4cosmetics207\u001b[0m\n"
     ]
    },
    {
     "name": "stdout",
     "output_type": "stream",
     "text": [
      "Detected cell phone with confidence 0.41\n"
     ]
    },
    {
     "name": "stderr",
     "output_type": "stream",
     "text": [
      "Saved 1 image to \u001b[1m..\\data\\detections\\lobelia4cosmetics208\u001b[0m\n"
     ]
    },
    {
     "name": "stdout",
     "output_type": "stream",
     "text": [
      "Detected cell phone with confidence 0.41\n"
     ]
    },
    {
     "name": "stderr",
     "output_type": "stream",
     "text": [
      "Saved 1 image to \u001b[1m..\\data\\detections\\lobelia4cosmetics209\u001b[0m\n"
     ]
    },
    {
     "name": "stdout",
     "output_type": "stream",
     "text": [
      "Detected cell phone with confidence 0.41\n"
     ]
    },
    {
     "name": "stderr",
     "output_type": "stream",
     "text": [
      "Saved 1 image to \u001b[1m..\\data\\detections\\lobelia4cosmetics210\u001b[0m\n",
      "Saved 1 image to \u001b[1m..\\data\\detections\\lobelia4cosmetics211\u001b[0m\n"
     ]
    },
    {
     "name": "stdout",
     "output_type": "stream",
     "text": [
      "Detected bottle with confidence 0.28\n",
      "Detected cell phone with confidence 0.25\n"
     ]
    },
    {
     "name": "stderr",
     "output_type": "stream",
     "text": [
      "Saved 1 image to \u001b[1m..\\data\\detections\\lobelia4cosmetics212\u001b[0m\n"
     ]
    },
    {
     "name": "stdout",
     "output_type": "stream",
     "text": [
      "Detected bottle with confidence 0.64\n"
     ]
    },
    {
     "name": "stderr",
     "output_type": "stream",
     "text": [
      "Saved 1 image to \u001b[1m..\\data\\detections\\lobelia4cosmetics213\u001b[0m\n"
     ]
    },
    {
     "name": "stdout",
     "output_type": "stream",
     "text": [
      "Detected bottle with confidence 0.60\n"
     ]
    },
    {
     "name": "stderr",
     "output_type": "stream",
     "text": [
      "Saved 1 image to \u001b[1m..\\data\\detections\\lobelia4cosmetics214\u001b[0m\n"
     ]
    },
    {
     "name": "stdout",
     "output_type": "stream",
     "text": [
      "Detected bottle with confidence 0.31\n"
     ]
    },
    {
     "name": "stderr",
     "output_type": "stream",
     "text": [
      "Saved 1 image to \u001b[1m..\\data\\detections\\lobelia4cosmetics215\u001b[0m\n"
     ]
    },
    {
     "name": "stdout",
     "output_type": "stream",
     "text": [
      "Detected suitcase with confidence 0.32\n"
     ]
    },
    {
     "name": "stderr",
     "output_type": "stream",
     "text": [
      "Saved 1 image to \u001b[1m..\\data\\detections\\lobelia4cosmetics216\u001b[0m\n"
     ]
    },
    {
     "name": "stdout",
     "output_type": "stream",
     "text": [
      "Detected bottle with confidence 0.46\n"
     ]
    },
    {
     "name": "stderr",
     "output_type": "stream",
     "text": [
      "Saved 1 image to \u001b[1m..\\data\\detections\\lobelia4cosmetics217\u001b[0m\n"
     ]
    },
    {
     "name": "stdout",
     "output_type": "stream",
     "text": [
      "Detected bottle with confidence 0.47\n"
     ]
    },
    {
     "name": "stderr",
     "output_type": "stream",
     "text": [
      "Saved 1 image to \u001b[1m..\\data\\detections\\lobelia4cosmetics218\u001b[0m\n"
     ]
    },
    {
     "name": "stdout",
     "output_type": "stream",
     "text": [
      "Detected mouse with confidence 0.53\n",
      "Detected mouse with confidence 0.40\n",
      "Detected mouse with confidence 0.36\n"
     ]
    },
    {
     "name": "stderr",
     "output_type": "stream",
     "text": [
      "Saved 1 image to \u001b[1m..\\data\\detections\\lobelia4cosmetics219\u001b[0m\n"
     ]
    },
    {
     "name": "stdout",
     "output_type": "stream",
     "text": [
      "Detected mouse with confidence 0.27\n"
     ]
    },
    {
     "name": "stderr",
     "output_type": "stream",
     "text": [
      "Saved 1 image to \u001b[1m..\\data\\detections\\lobelia4cosmetics220\u001b[0m\n"
     ]
    },
    {
     "name": "stdout",
     "output_type": "stream",
     "text": [
      "Detected bottle with confidence 0.37\n"
     ]
    },
    {
     "name": "stderr",
     "output_type": "stream",
     "text": [
      "Saved 1 image to \u001b[1m..\\data\\detections\\lobelia4cosmetics221\u001b[0m\n"
     ]
    },
    {
     "name": "stdout",
     "output_type": "stream",
     "text": [
      "Detected bottle with confidence 0.37\n"
     ]
    },
    {
     "name": "stderr",
     "output_type": "stream",
     "text": [
      "Saved 1 image to \u001b[1m..\\data\\detections\\lobelia4cosmetics222\u001b[0m\n",
      "Saved 1 image to \u001b[1m..\\data\\detections\\lobelia4cosmetics223\u001b[0m\n"
     ]
    },
    {
     "name": "stdout",
     "output_type": "stream",
     "text": [
      "Detected bottle with confidence 0.37\n"
     ]
    },
    {
     "name": "stderr",
     "output_type": "stream",
     "text": [
      "Saved 1 image to \u001b[1m..\\data\\detections\\lobelia4cosmetics224\u001b[0m\n",
      "Saved 1 image to \u001b[1m..\\data\\detections\\lobelia4cosmetics225\u001b[0m\n",
      "Saved 1 image to \u001b[1m..\\data\\detections\\lobelia4cosmetics226\u001b[0m\n",
      "Saved 1 image to \u001b[1m..\\data\\detections\\lobelia4cosmetics227\u001b[0m\n",
      "Saved 1 image to \u001b[1m..\\data\\detections\\lobelia4cosmetics228\u001b[0m\n"
     ]
    },
    {
     "name": "stdout",
     "output_type": "stream",
     "text": [
      "Detected bottle with confidence 0.30\n"
     ]
    },
    {
     "name": "stderr",
     "output_type": "stream",
     "text": [
      "Saved 1 image to \u001b[1m..\\data\\detections\\lobelia4cosmetics229\u001b[0m\n"
     ]
    },
    {
     "name": "stdout",
     "output_type": "stream",
     "text": [
      "Detected bottle with confidence 0.45\n"
     ]
    },
    {
     "name": "stderr",
     "output_type": "stream",
     "text": [
      "Saved 1 image to \u001b[1m..\\data\\detections\\lobelia4cosmetics230\u001b[0m\n"
     ]
    },
    {
     "name": "stdout",
     "output_type": "stream",
     "text": [
      "Detected bottle with confidence 0.45\n"
     ]
    },
    {
     "name": "stderr",
     "output_type": "stream",
     "text": [
      "Saved 1 image to \u001b[1m..\\data\\detections\\lobelia4cosmetics231\u001b[0m\n"
     ]
    },
    {
     "name": "stdout",
     "output_type": "stream",
     "text": [
      "Detected bottle with confidence 0.45\n"
     ]
    },
    {
     "name": "stderr",
     "output_type": "stream",
     "text": [
      "Saved 1 image to \u001b[1m..\\data\\detections\\lobelia4cosmetics232\u001b[0m\n",
      "Saved 1 image to \u001b[1m..\\data\\detections\\lobelia4cosmetics233\u001b[0m\n",
      "Saved 1 image to \u001b[1m..\\data\\detections\\lobelia4cosmetics234\u001b[0m\n",
      "Saved 1 image to \u001b[1m..\\data\\detections\\lobelia4cosmetics235\u001b[0m\n",
      "Saved 1 image to \u001b[1m..\\data\\detections\\lobelia4cosmetics236\u001b[0m\n",
      "Saved 1 image to \u001b[1m..\\data\\detections\\lobelia4cosmetics237\u001b[0m\n",
      "Saved 1 image to \u001b[1m..\\data\\detections\\lobelia4cosmetics238\u001b[0m\n",
      "Saved 1 image to \u001b[1m..\\data\\detections\\lobelia4cosmetics239\u001b[0m\n"
     ]
    },
    {
     "name": "stdout",
     "output_type": "stream",
     "text": [
      "Detected bottle with confidence 0.28\n"
     ]
    },
    {
     "name": "stderr",
     "output_type": "stream",
     "text": [
      "Saved 1 image to \u001b[1m..\\data\\detections\\lobelia4cosmetics240\u001b[0m\n"
     ]
    },
    {
     "name": "stdout",
     "output_type": "stream",
     "text": [
      "Detected bottle with confidence 0.37\n"
     ]
    },
    {
     "name": "stderr",
     "output_type": "stream",
     "text": [
      "Saved 1 image to \u001b[1m..\\data\\detections\\lobelia4cosmetics241\u001b[0m\n"
     ]
    },
    {
     "name": "stdout",
     "output_type": "stream",
     "text": [
      "Detected bottle with confidence 0.37\n"
     ]
    },
    {
     "name": "stderr",
     "output_type": "stream",
     "text": [
      "Saved 1 image to \u001b[1m..\\data\\detections\\lobelia4cosmetics242\u001b[0m\n"
     ]
    },
    {
     "name": "stdout",
     "output_type": "stream",
     "text": [
      "Detected bottle with confidence 0.37\n"
     ]
    },
    {
     "name": "stderr",
     "output_type": "stream",
     "text": [
      "Saved 1 image to \u001b[1m..\\data\\detections\\lobelia4cosmetics243\u001b[0m\n"
     ]
    },
    {
     "name": "stdout",
     "output_type": "stream",
     "text": [
      "Detected bottle with confidence 0.33\n"
     ]
    },
    {
     "name": "stderr",
     "output_type": "stream",
     "text": [
      "Saved 1 image to \u001b[1m..\\data\\detections\\lobelia4cosmetics244\u001b[0m\n"
     ]
    },
    {
     "name": "stdout",
     "output_type": "stream",
     "text": [
      "Detected bottle with confidence 0.44\n"
     ]
    },
    {
     "name": "stderr",
     "output_type": "stream",
     "text": [
      "Saved 1 image to \u001b[1m..\\data\\detections\\lobelia4cosmetics245\u001b[0m\n"
     ]
    },
    {
     "name": "stdout",
     "output_type": "stream",
     "text": [
      "Detected bottle with confidence 0.44\n"
     ]
    },
    {
     "name": "stderr",
     "output_type": "stream",
     "text": [
      "Saved 1 image to \u001b[1m..\\data\\detections\\lobelia4cosmetics246\u001b[0m\n"
     ]
    },
    {
     "name": "stdout",
     "output_type": "stream",
     "text": [
      "Detected bottle with confidence 0.44\n"
     ]
    },
    {
     "name": "stderr",
     "output_type": "stream",
     "text": [
      "Saved 1 image to \u001b[1m..\\data\\detections\\lobelia4cosmetics247\u001b[0m\n"
     ]
    },
    {
     "name": "stdout",
     "output_type": "stream",
     "text": [
      "Detected bottle with confidence 0.44\n"
     ]
    },
    {
     "name": "stderr",
     "output_type": "stream",
     "text": [
      "Saved 1 image to \u001b[1m..\\data\\detections\\lobelia4cosmetics248\u001b[0m\n"
     ]
    },
    {
     "name": "stdout",
     "output_type": "stream",
     "text": [
      "Detected bottle with confidence 0.28\n"
     ]
    },
    {
     "name": "stderr",
     "output_type": "stream",
     "text": [
      "Saved 1 image to \u001b[1m..\\data\\detections\\lobelia4cosmetics249\u001b[0m\n"
     ]
    },
    {
     "name": "stdout",
     "output_type": "stream",
     "text": [
      "Detected bottle with confidence 0.28\n"
     ]
    },
    {
     "name": "stderr",
     "output_type": "stream",
     "text": [
      "Saved 1 image to \u001b[1m..\\data\\detections\\lobelia4cosmetics250\u001b[0m\n"
     ]
    },
    {
     "name": "stdout",
     "output_type": "stream",
     "text": [
      "Detected bottle with confidence 0.28\n"
     ]
    },
    {
     "name": "stderr",
     "output_type": "stream",
     "text": [
      "Saved 1 image to \u001b[1m..\\data\\detections\\lobelia4cosmetics251\u001b[0m\n",
      "Saved 1 image to \u001b[1m..\\data\\detections\\lobelia4cosmetics252\u001b[0m\n",
      "Saved 1 image to \u001b[1m..\\data\\detections\\lobelia4cosmetics253\u001b[0m\n",
      "Saved 1 image to \u001b[1m..\\data\\detections\\lobelia4cosmetics254\u001b[0m\n",
      "Saved 1 image to \u001b[1m..\\data\\detections\\lobelia4cosmetics255\u001b[0m\n",
      "Saved 1 image to \u001b[1m..\\data\\detections\\lobelia4cosmetics256\u001b[0m\n",
      "Saved 1 image to \u001b[1m..\\data\\detections\\lobelia4cosmetics257\u001b[0m\n",
      "Saved 1 image to \u001b[1m..\\data\\detections\\lobelia4cosmetics258\u001b[0m\n",
      "Saved 1 image to \u001b[1m..\\data\\detections\\lobelia4cosmetics259\u001b[0m\n",
      "Saved 1 image to \u001b[1m..\\data\\detections\\lobelia4cosmetics260\u001b[0m\n",
      "Saved 1 image to \u001b[1m..\\data\\detections\\lobelia4cosmetics261\u001b[0m\n"
     ]
    },
    {
     "name": "stdout",
     "output_type": "stream",
     "text": [
      "Detected parking meter with confidence 0.33\n"
     ]
    },
    {
     "name": "stderr",
     "output_type": "stream",
     "text": [
      "Saved 1 image to \u001b[1m..\\data\\detections\\lobelia4cosmetics262\u001b[0m\n"
     ]
    },
    {
     "name": "stdout",
     "output_type": "stream",
     "text": [
      "Detected parking meter with confidence 0.39\n"
     ]
    },
    {
     "name": "stderr",
     "output_type": "stream",
     "text": [
      "Saved 1 image to \u001b[1m..\\data\\detections\\lobelia4cosmetics263\u001b[0m\n"
     ]
    },
    {
     "name": "stdout",
     "output_type": "stream",
     "text": [
      "Detected parking meter with confidence 0.39\n"
     ]
    },
    {
     "name": "stderr",
     "output_type": "stream",
     "text": [
      "Saved 1 image to \u001b[1m..\\data\\detections\\lobelia4cosmetics264\u001b[0m\n"
     ]
    },
    {
     "name": "stdout",
     "output_type": "stream",
     "text": [
      "Detected parking meter with confidence 0.39\n"
     ]
    },
    {
     "name": "stderr",
     "output_type": "stream",
     "text": [
      "Saved 1 image to \u001b[1m..\\data\\detections\\lobelia4cosmetics265\u001b[0m\n"
     ]
    },
    {
     "name": "stdout",
     "output_type": "stream",
     "text": [
      "Detected parking meter with confidence 0.39\n"
     ]
    },
    {
     "name": "stderr",
     "output_type": "stream",
     "text": [
      "Saved 1 image to \u001b[1m..\\data\\detections\\lobelia4cosmetics266\u001b[0m\n"
     ]
    },
    {
     "name": "stdout",
     "output_type": "stream",
     "text": [
      "Detected parking meter with confidence 0.39\n"
     ]
    },
    {
     "name": "stderr",
     "output_type": "stream",
     "text": [
      "Saved 1 image to \u001b[1m..\\data\\detections\\lobelia4cosmetics267\u001b[0m\n"
     ]
    },
    {
     "name": "stdout",
     "output_type": "stream",
     "text": [
      "Detected parking meter with confidence 0.39\n"
     ]
    },
    {
     "name": "stderr",
     "output_type": "stream",
     "text": [
      "Saved 1 image to \u001b[1m..\\data\\detections\\lobelia4cosmetics268\u001b[0m\n"
     ]
    },
    {
     "name": "stdout",
     "output_type": "stream",
     "text": [
      "Detected parking meter with confidence 0.39\n"
     ]
    },
    {
     "name": "stderr",
     "output_type": "stream",
     "text": [
      "Saved 1 image to \u001b[1m..\\data\\detections\\lobelia4cosmetics269\u001b[0m\n"
     ]
    },
    {
     "name": "stdout",
     "output_type": "stream",
     "text": [
      "Detected parking meter with confidence 0.39\n"
     ]
    },
    {
     "name": "stderr",
     "output_type": "stream",
     "text": [
      "Saved 1 image to \u001b[1m..\\data\\detections\\lobelia4cosmetics270\u001b[0m\n"
     ]
    },
    {
     "name": "stdout",
     "output_type": "stream",
     "text": [
      "Detected bottle with confidence 0.38\n"
     ]
    },
    {
     "name": "stderr",
     "output_type": "stream",
     "text": [
      "Saved 1 image to \u001b[1m..\\data\\detections\\lobelia4cosmetics271\u001b[0m\n"
     ]
    },
    {
     "name": "stdout",
     "output_type": "stream",
     "text": [
      "Detected bottle with confidence 0.33\n"
     ]
    },
    {
     "name": "stderr",
     "output_type": "stream",
     "text": [
      "Saved 1 image to \u001b[1m..\\data\\detections\\lobelia4cosmetics272\u001b[0m\n",
      "Saved 1 image to \u001b[1m..\\data\\detections\\lobelia4cosmetics273\u001b[0m\n",
      "Saved 1 image to \u001b[1m..\\data\\detections\\lobelia4cosmetics274\u001b[0m\n",
      "Saved 1 image to \u001b[1m..\\data\\detections\\lobelia4cosmetics275\u001b[0m\n",
      "Saved 1 image to \u001b[1m..\\data\\detections\\lobelia4cosmetics276\u001b[0m\n",
      "Saved 1 image to \u001b[1m..\\data\\detections\\lobelia4cosmetics277\u001b[0m\n"
     ]
    },
    {
     "name": "stdout",
     "output_type": "stream",
     "text": [
      "Detected parking meter with confidence 0.37\n"
     ]
    },
    {
     "name": "stderr",
     "output_type": "stream",
     "text": [
      "Saved 1 image to \u001b[1m..\\data\\detections\\lobelia4cosmetics278\u001b[0m\n"
     ]
    },
    {
     "name": "stdout",
     "output_type": "stream",
     "text": [
      "Detected parking meter with confidence 0.37\n"
     ]
    },
    {
     "name": "stderr",
     "output_type": "stream",
     "text": [
      "Saved 1 image to \u001b[1m..\\data\\detections\\lobelia4cosmetics279\u001b[0m\n",
      "Saved 1 image to \u001b[1m..\\data\\detections\\lobelia4cosmetics280\u001b[0m\n",
      "Saved 1 image to \u001b[1m..\\data\\detections\\lobelia4cosmetics281\u001b[0m\n",
      "Saved 1 image to \u001b[1m..\\data\\detections\\lobelia4cosmetics282\u001b[0m\n",
      "Saved 1 image to \u001b[1m..\\data\\detections\\lobelia4cosmetics283\u001b[0m\n",
      "Saved 1 image to \u001b[1m..\\data\\detections\\lobelia4cosmetics284\u001b[0m\n",
      "Saved 1 image to \u001b[1m..\\data\\detections\\lobelia4cosmetics285\u001b[0m\n",
      "Saved 1 image to \u001b[1m..\\data\\detections\\lobelia4cosmetics286\u001b[0m\n",
      "Saved 1 image to \u001b[1m..\\data\\detections\\lobelia4cosmetics287\u001b[0m\n",
      "Saved 1 image to \u001b[1m..\\data\\detections\\lobelia4cosmetics288\u001b[0m\n",
      "Saved 1 image to \u001b[1m..\\data\\detections\\lobelia4cosmetics289\u001b[0m\n",
      "Saved 1 image to \u001b[1m..\\data\\detections\\lobelia4cosmetics290\u001b[0m\n"
     ]
    },
    {
     "name": "stdout",
     "output_type": "stream",
     "text": [
      "Detected bottle with confidence 0.43\n"
     ]
    },
    {
     "name": "stderr",
     "output_type": "stream",
     "text": [
      "Saved 1 image to \u001b[1m..\\data\\detections\\lobelia4cosmetics291\u001b[0m\n"
     ]
    },
    {
     "name": "stdout",
     "output_type": "stream",
     "text": [
      "Detected refrigerator with confidence 0.30\n"
     ]
    },
    {
     "name": "stderr",
     "output_type": "stream",
     "text": [
      "Saved 1 image to \u001b[1m..\\data\\detections\\lobelia4cosmetics292\u001b[0m\n"
     ]
    },
    {
     "name": "stdout",
     "output_type": "stream",
     "text": [
      "Detected refrigerator with confidence 0.27\n"
     ]
    },
    {
     "name": "stderr",
     "output_type": "stream",
     "text": [
      "Saved 1 image to \u001b[1m..\\data\\detections\\lobelia4cosmetics293\u001b[0m\n",
      "Saved 1 image to \u001b[1m..\\data\\detections\\lobelia4cosmetics294\u001b[0m\n",
      "Saved 1 image to \u001b[1m..\\data\\detections\\lobelia4cosmetics295\u001b[0m\n",
      "Saved 1 image to \u001b[1m..\\data\\detections\\lobelia4cosmetics296\u001b[0m\n"
     ]
    },
    {
     "name": "stdout",
     "output_type": "stream",
     "text": [
      "Detected toilet with confidence 0.46\n"
     ]
    },
    {
     "name": "stderr",
     "output_type": "stream",
     "text": [
      "Saved 1 image to \u001b[1m..\\data\\detections\\lobelia4cosmetics297\u001b[0m\n"
     ]
    },
    {
     "name": "stdout",
     "output_type": "stream",
     "text": [
      "Detected book with confidence 0.43\n",
      "Detected book with confidence 0.40\n"
     ]
    },
    {
     "name": "stderr",
     "output_type": "stream",
     "text": [
      "Saved 1 image to \u001b[1m..\\data\\detections\\lobelia4cosmetics298\u001b[0m\n"
     ]
    },
    {
     "name": "stdout",
     "output_type": "stream",
     "text": [
      "Detected book with confidence 0.38\n",
      "Detected book with confidence 0.30\n"
     ]
    },
    {
     "name": "stderr",
     "output_type": "stream",
     "text": [
      "Saved 1 image to \u001b[1m..\\data\\detections\\lobelia4cosmetics299\u001b[0m\n"
     ]
    },
    {
     "name": "stdout",
     "output_type": "stream",
     "text": [
      "Detected book with confidence 0.38\n",
      "Detected book with confidence 0.30\n"
     ]
    },
    {
     "name": "stderr",
     "output_type": "stream",
     "text": [
      "Saved 1 image to \u001b[1m..\\data\\detections\\lobelia4cosmetics300\u001b[0m\n"
     ]
    },
    {
     "name": "stdout",
     "output_type": "stream",
     "text": [
      "Detected book with confidence 0.38\n",
      "Detected book with confidence 0.30\n"
     ]
    },
    {
     "name": "stderr",
     "output_type": "stream",
     "text": [
      "Saved 1 image to \u001b[1m..\\data\\detections\\lobelia4cosmetics301\u001b[0m\n"
     ]
    },
    {
     "name": "stdout",
     "output_type": "stream",
     "text": [
      "Detected bottle with confidence 0.59\n"
     ]
    },
    {
     "name": "stderr",
     "output_type": "stream",
     "text": [
      "Saved 1 image to \u001b[1m..\\data\\detections\\lobelia4cosmetics302\u001b[0m\n"
     ]
    },
    {
     "name": "stdout",
     "output_type": "stream",
     "text": [
      "Detected bottle with confidence 0.75\n"
     ]
    },
    {
     "name": "stderr",
     "output_type": "stream",
     "text": [
      "Saved 1 image to \u001b[1m..\\data\\detections\\lobelia4cosmetics303\u001b[0m\n"
     ]
    },
    {
     "name": "stdout",
     "output_type": "stream",
     "text": [
      "Detected bottle with confidence 0.75\n"
     ]
    },
    {
     "name": "stderr",
     "output_type": "stream",
     "text": [
      "Saved 1 image to \u001b[1m..\\data\\detections\\lobelia4cosmetics304\u001b[0m\n",
      "Saved 1 image to \u001b[1m..\\data\\detections\\lobelia4cosmetics305\u001b[0m\n",
      "Saved 1 image to \u001b[1m..\\data\\detections\\lobelia4cosmetics306\u001b[0m\n",
      "Saved 1 image to \u001b[1m..\\data\\detections\\lobelia4cosmetics307\u001b[0m\n",
      "Saved 1 image to \u001b[1m..\\data\\detections\\lobelia4cosmetics308\u001b[0m\n",
      "Saved 1 image to \u001b[1m..\\data\\detections\\lobelia4cosmetics309\u001b[0m\n",
      "Saved 1 image to \u001b[1m..\\data\\detections\\lobelia4cosmetics310\u001b[0m\n",
      "Saved 1 image to \u001b[1m..\\data\\detections\\lobelia4cosmetics311\u001b[0m\n",
      "Saved 1 image to \u001b[1m..\\data\\detections\\lobelia4cosmetics312\u001b[0m\n",
      "Saved 1 image to \u001b[1m..\\data\\detections\\lobelia4cosmetics313\u001b[0m\n",
      "Saved 1 image to \u001b[1m..\\data\\detections\\lobelia4cosmetics314\u001b[0m\n",
      "Saved 1 image to \u001b[1m..\\data\\detections\\lobelia4cosmetics315\u001b[0m\n",
      "Saved 1 image to \u001b[1m..\\data\\detections\\lobelia4cosmetics316\u001b[0m\n",
      "Saved 1 image to \u001b[1m..\\data\\detections\\lobelia4cosmetics317\u001b[0m\n",
      "Saved 1 image to \u001b[1m..\\data\\detections\\lobelia4cosmetics318\u001b[0m\n",
      "Saved 1 image to \u001b[1m..\\data\\detections\\lobelia4cosmetics319\u001b[0m\n",
      "Saved 1 image to \u001b[1m..\\data\\detections\\lobelia4cosmetics320\u001b[0m\n",
      "Saved 1 image to \u001b[1m..\\data\\detections\\lobelia4cosmetics321\u001b[0m\n",
      "Saved 1 image to \u001b[1m..\\data\\detections\\lobelia4cosmetics322\u001b[0m\n",
      "Saved 1 image to \u001b[1m..\\data\\detections\\lobelia4cosmetics323\u001b[0m\n",
      "Saved 1 image to \u001b[1m..\\data\\detections\\lobelia4cosmetics324\u001b[0m\n",
      "Saved 1 image to \u001b[1m..\\data\\detections\\lobelia4cosmetics325\u001b[0m\n",
      "Saved 1 image to \u001b[1m..\\data\\detections\\lobelia4cosmetics326\u001b[0m\n"
     ]
    },
    {
     "name": "stdout",
     "output_type": "stream",
     "text": [
      "Detected book with confidence 0.40\n"
     ]
    },
    {
     "name": "stderr",
     "output_type": "stream",
     "text": [
      "Saved 1 image to \u001b[1m..\\data\\detections\\lobelia4cosmetics327\u001b[0m\n"
     ]
    },
    {
     "name": "stdout",
     "output_type": "stream",
     "text": [
      "Detected book with confidence 0.42\n",
      "Detected book with confidence 0.28\n",
      "Detected book with confidence 0.28\n"
     ]
    },
    {
     "name": "stderr",
     "output_type": "stream",
     "text": [
      "Saved 1 image to \u001b[1m..\\data\\detections\\lobelia4cosmetics328\u001b[0m\n"
     ]
    },
    {
     "name": "stdout",
     "output_type": "stream",
     "text": [
      "Detected book with confidence 0.42\n",
      "Detected book with confidence 0.28\n",
      "Detected book with confidence 0.28\n"
     ]
    },
    {
     "name": "stderr",
     "output_type": "stream",
     "text": [
      "Saved 1 image to \u001b[1m..\\data\\detections\\lobelia4cosmetics329\u001b[0m\n",
      "Saved 1 image to \u001b[1m..\\data\\detections\\lobelia4cosmetics330\u001b[0m\n",
      "Saved 1 image to \u001b[1m..\\data\\detections\\lobelia4cosmetics331\u001b[0m\n",
      "Saved 1 image to \u001b[1m..\\data\\detections\\lobelia4cosmetics332\u001b[0m\n",
      "Saved 1 image to \u001b[1m..\\data\\detections\\lobelia4cosmetics333\u001b[0m\n",
      "Saved 1 image to \u001b[1m..\\data\\detections\\lobelia4cosmetics334\u001b[0m\n",
      "Saved 1 image to \u001b[1m..\\data\\detections\\lobelia4cosmetics335\u001b[0m\n",
      "Saved 1 image to \u001b[1m..\\data\\detections\\lobelia4cosmetics336\u001b[0m\n",
      "Saved 1 image to \u001b[1m..\\data\\detections\\lobelia4cosmetics337\u001b[0m\n",
      "Saved 1 image to \u001b[1m..\\data\\detections\\lobelia4cosmetics338\u001b[0m\n",
      "Saved 1 image to \u001b[1m..\\data\\detections\\lobelia4cosmetics339\u001b[0m\n",
      "Saved 1 image to \u001b[1m..\\data\\detections\\lobelia4cosmetics340\u001b[0m\n",
      "Saved 1 image to \u001b[1m..\\data\\detections\\lobelia4cosmetics341\u001b[0m\n",
      "Saved 1 image to \u001b[1m..\\data\\detections\\lobelia4cosmetics342\u001b[0m\n",
      "Saved 1 image to \u001b[1m..\\data\\detections\\lobelia4cosmetics343\u001b[0m\n",
      "Saved 1 image to \u001b[1m..\\data\\detections\\lobelia4cosmetics344\u001b[0m\n",
      "Saved 1 image to \u001b[1m..\\data\\detections\\lobelia4cosmetics345\u001b[0m\n",
      "Saved 1 image to \u001b[1m..\\data\\detections\\lobelia4cosmetics346\u001b[0m\n",
      "Saved 1 image to \u001b[1m..\\data\\detections\\lobelia4cosmetics347\u001b[0m\n",
      "Saved 1 image to \u001b[1m..\\data\\detections\\lobelia4cosmetics348\u001b[0m\n",
      "Saved 1 image to \u001b[1m..\\data\\detections\\lobelia4cosmetics349\u001b[0m\n",
      "Saved 1 image to \u001b[1m..\\data\\detections\\lobelia4cosmetics350\u001b[0m\n",
      "Saved 1 image to \u001b[1m..\\data\\detections\\lobelia4cosmetics351\u001b[0m\n",
      "Saved 1 image to \u001b[1m..\\data\\detections\\lobelia4cosmetics352\u001b[0m\n"
     ]
    },
    {
     "name": "stdout",
     "output_type": "stream",
     "text": [
      "Detected remote with confidence 0.31\n"
     ]
    },
    {
     "name": "stderr",
     "output_type": "stream",
     "text": [
      "Saved 1 image to \u001b[1m..\\data\\detections\\lobelia4cosmetics353\u001b[0m\n"
     ]
    },
    {
     "name": "stdout",
     "output_type": "stream",
     "text": [
      "Detected remote with confidence 0.31\n"
     ]
    },
    {
     "name": "stderr",
     "output_type": "stream",
     "text": [
      "Saved 1 image to \u001b[1m..\\data\\detections\\lobelia4cosmetics354\u001b[0m\n"
     ]
    },
    {
     "name": "stdout",
     "output_type": "stream",
     "text": [
      "Detected remote with confidence 0.31\n"
     ]
    },
    {
     "name": "stderr",
     "output_type": "stream",
     "text": [
      "Saved 1 image to \u001b[1m..\\data\\detections\\lobelia4cosmetics355\u001b[0m\n",
      "Saved 1 image to \u001b[1m..\\data\\detections\\lobelia4cosmetics356\u001b[0m\n",
      "Saved 1 image to \u001b[1m..\\data\\detections\\lobelia4cosmetics357\u001b[0m\n",
      "Saved 1 image to \u001b[1m..\\data\\detections\\lobelia4cosmetics358\u001b[0m\n",
      "Saved 1 image to \u001b[1m..\\data\\detections\\lobelia4cosmetics359\u001b[0m\n",
      "Saved 1 image to \u001b[1m..\\data\\detections\\lobelia4cosmetics360\u001b[0m\n",
      "Saved 1 image to \u001b[1m..\\data\\detections\\lobelia4cosmetics361\u001b[0m\n"
     ]
    },
    {
     "name": "stdout",
     "output_type": "stream",
     "text": [
      "Detected bottle with confidence 0.77\n"
     ]
    },
    {
     "name": "stderr",
     "output_type": "stream",
     "text": [
      "Saved 1 image to \u001b[1m..\\data\\detections\\lobelia4cosmetics362\u001b[0m\n"
     ]
    },
    {
     "name": "stdout",
     "output_type": "stream",
     "text": [
      "Detected bottle with confidence 0.80\n"
     ]
    },
    {
     "name": "stderr",
     "output_type": "stream",
     "text": [
      "Saved 1 image to \u001b[1m..\\data\\detections\\lobelia4cosmetics363\u001b[0m\n"
     ]
    },
    {
     "name": "stdout",
     "output_type": "stream",
     "text": [
      "Detected bottle with confidence 0.80\n"
     ]
    },
    {
     "name": "stderr",
     "output_type": "stream",
     "text": [
      "Saved 1 image to \u001b[1m..\\data\\detections\\lobelia4cosmetics364\u001b[0m\n"
     ]
    },
    {
     "name": "stdout",
     "output_type": "stream",
     "text": [
      "Detected bottle with confidence 0.80\n"
     ]
    },
    {
     "name": "stderr",
     "output_type": "stream",
     "text": [
      "Saved 1 image to \u001b[1m..\\data\\detections\\lobelia4cosmetics365\u001b[0m\n"
     ]
    },
    {
     "name": "stdout",
     "output_type": "stream",
     "text": [
      "Detected bottle with confidence 0.80\n"
     ]
    },
    {
     "name": "stderr",
     "output_type": "stream",
     "text": [
      "Saved 1 image to \u001b[1m..\\data\\detections\\lobelia4cosmetics366\u001b[0m\n"
     ]
    },
    {
     "name": "stdout",
     "output_type": "stream",
     "text": [
      "Detected bottle with confidence 0.80\n"
     ]
    },
    {
     "name": "stderr",
     "output_type": "stream",
     "text": [
      "Saved 1 image to \u001b[1m..\\data\\detections\\lobelia4cosmetics367\u001b[0m\n"
     ]
    },
    {
     "name": "stdout",
     "output_type": "stream",
     "text": [
      "Detected bottle with confidence 0.59\n"
     ]
    },
    {
     "name": "stderr",
     "output_type": "stream",
     "text": [
      "Saved 1 image to \u001b[1m..\\data\\detections\\lobelia4cosmetics368\u001b[0m\n"
     ]
    },
    {
     "name": "stdout",
     "output_type": "stream",
     "text": [
      "Detected bottle with confidence 0.54\n"
     ]
    },
    {
     "name": "stderr",
     "output_type": "stream",
     "text": [
      "Saved 1 image to \u001b[1m..\\data\\detections\\lobelia4cosmetics369\u001b[0m\n"
     ]
    },
    {
     "name": "stdout",
     "output_type": "stream",
     "text": [
      "Detected bottle with confidence 0.54\n"
     ]
    },
    {
     "name": "stderr",
     "output_type": "stream",
     "text": [
      "Saved 1 image to \u001b[1m..\\data\\detections\\lobelia4cosmetics370\u001b[0m\n"
     ]
    },
    {
     "name": "stdout",
     "output_type": "stream",
     "text": [
      "Detected bottle with confidence 0.54\n"
     ]
    },
    {
     "name": "stderr",
     "output_type": "stream",
     "text": [
      "Saved 1 image to \u001b[1m..\\data\\detections\\lobelia4cosmetics371\u001b[0m\n"
     ]
    },
    {
     "name": "stdout",
     "output_type": "stream",
     "text": [
      "Detected bottle with confidence 0.54\n"
     ]
    },
    {
     "name": "stderr",
     "output_type": "stream",
     "text": [
      "Saved 1 image to \u001b[1m..\\data\\detections\\lobelia4cosmetics372\u001b[0m\n"
     ]
    },
    {
     "name": "stdout",
     "output_type": "stream",
     "text": [
      "Detected bottle with confidence 0.54\n"
     ]
    },
    {
     "name": "stderr",
     "output_type": "stream",
     "text": [
      "Saved 1 image to \u001b[1m..\\data\\detections\\lobelia4cosmetics373\u001b[0m\n",
      "Saved 1 image to \u001b[1m..\\data\\detections\\lobelia4cosmetics374\u001b[0m\n",
      "Saved 1 image to \u001b[1m..\\data\\detections\\lobelia4cosmetics375\u001b[0m\n",
      "Saved 1 image to \u001b[1m..\\data\\detections\\lobelia4cosmetics376\u001b[0m\n",
      "Saved 1 image to \u001b[1m..\\data\\detections\\lobelia4cosmetics377\u001b[0m\n",
      "Saved 1 image to \u001b[1m..\\data\\detections\\lobelia4cosmetics378\u001b[0m\n",
      "Saved 1 image to \u001b[1m..\\data\\detections\\lobelia4cosmetics379\u001b[0m\n",
      "Saved 1 image to \u001b[1m..\\data\\detections\\lobelia4cosmetics380\u001b[0m\n",
      "Saved 1 image to \u001b[1m..\\data\\detections\\lobelia4cosmetics381\u001b[0m\n",
      "Saved 1 image to \u001b[1m..\\data\\detections\\lobelia4cosmetics382\u001b[0m\n"
     ]
    },
    {
     "name": "stdout",
     "output_type": "stream",
     "text": [
      "Detected parking meter with confidence 0.47\n"
     ]
    },
    {
     "name": "stderr",
     "output_type": "stream",
     "text": [
      "Saved 1 image to \u001b[1m..\\data\\detections\\lobelia4cosmetics383\u001b[0m\n"
     ]
    },
    {
     "name": "stdout",
     "output_type": "stream",
     "text": [
      "Detected parking meter with confidence 0.46\n"
     ]
    },
    {
     "name": "stderr",
     "output_type": "stream",
     "text": [
      "Saved 1 image to \u001b[1m..\\data\\detections\\lobelia4cosmetics384\u001b[0m\n"
     ]
    },
    {
     "name": "stdout",
     "output_type": "stream",
     "text": [
      "Detected parking meter with confidence 0.46\n"
     ]
    },
    {
     "name": "stderr",
     "output_type": "stream",
     "text": [
      "Saved 1 image to \u001b[1m..\\data\\detections\\lobelia4cosmetics385\u001b[0m\n",
      "Saved 1 image to \u001b[1m..\\data\\detections\\lobelia4cosmetics386\u001b[0m\n",
      "Saved 1 image to \u001b[1m..\\data\\detections\\lobelia4cosmetics387\u001b[0m\n",
      "Saved 1 image to \u001b[1m..\\data\\detections\\lobelia4cosmetics388\u001b[0m\n",
      "Saved 1 image to \u001b[1m..\\data\\detections\\lobelia4cosmetics389\u001b[0m\n",
      "Saved 1 image to \u001b[1m..\\data\\detections\\lobelia4cosmetics390\u001b[0m\n",
      "Saved 1 image to \u001b[1m..\\data\\detections\\lobelia4cosmetics391\u001b[0m\n",
      "Saved 1 image to \u001b[1m..\\data\\detections\\lobelia4cosmetics392\u001b[0m\n",
      "Saved 1 image to \u001b[1m..\\data\\detections\\lobelia4cosmetics393\u001b[0m\n",
      "Saved 1 image to \u001b[1m..\\data\\detections\\lobelia4cosmetics394\u001b[0m\n"
     ]
    },
    {
     "name": "stdout",
     "output_type": "stream",
     "text": [
      "Detected person with confidence 0.48\n"
     ]
    },
    {
     "name": "stderr",
     "output_type": "stream",
     "text": [
      "Saved 1 image to \u001b[1m..\\data\\detections\\lobelia4cosmetics395\u001b[0m\n"
     ]
    },
    {
     "name": "stdout",
     "output_type": "stream",
     "text": [
      "Detected person with confidence 0.46\n"
     ]
    },
    {
     "name": "stderr",
     "output_type": "stream",
     "text": [
      "Saved 1 image to \u001b[1m..\\data\\detections\\lobelia4cosmetics396\u001b[0m\n"
     ]
    },
    {
     "name": "stdout",
     "output_type": "stream",
     "text": [
      "Detected person with confidence 0.41\n"
     ]
    },
    {
     "name": "stderr",
     "output_type": "stream",
     "text": [
      "Saved 1 image to \u001b[1m..\\data\\detections\\lobelia4cosmetics397\u001b[0m\n"
     ]
    },
    {
     "name": "stdout",
     "output_type": "stream",
     "text": [
      "Detected person with confidence 0.36\n"
     ]
    },
    {
     "name": "stderr",
     "output_type": "stream",
     "text": [
      "Saved 1 image to \u001b[1m..\\data\\detections\\lobelia4cosmetics398\u001b[0m\n",
      "Saved 1 image to \u001b[1m..\\data\\detections\\lobelia4cosmetics399\u001b[0m\n",
      "Saved 1 image to \u001b[1m..\\data\\detections\\lobelia4cosmetics400\u001b[0m\n"
     ]
    },
    {
     "name": "stdout",
     "output_type": "stream",
     "text": [
      "Detected parking meter with confidence 0.34\n"
     ]
    },
    {
     "name": "stderr",
     "output_type": "stream",
     "text": [
      "Saved 1 image to \u001b[1m..\\data\\detections\\lobelia4cosmetics401\u001b[0m\n",
      "Saved 1 image to \u001b[1m..\\data\\detections\\lobelia4cosmetics402\u001b[0m\n",
      "Saved 1 image to \u001b[1m..\\data\\detections\\lobelia4cosmetics403\u001b[0m\n",
      "Saved 1 image to \u001b[1m..\\data\\detections\\lobelia4cosmetics404\u001b[0m\n",
      "Saved 1 image to \u001b[1m..\\data\\detections\\lobelia4cosmetics405\u001b[0m\n",
      "Saved 1 image to \u001b[1m..\\data\\detections\\lobelia4cosmetics406\u001b[0m\n",
      "Saved 1 image to \u001b[1m..\\data\\detections\\lobelia4cosmetics407\u001b[0m\n",
      "Saved 1 image to \u001b[1m..\\data\\detections\\lobelia4cosmetics408\u001b[0m\n",
      "Saved 1 image to \u001b[1m..\\data\\detections\\lobelia4cosmetics409\u001b[0m\n",
      "Saved 1 image to \u001b[1m..\\data\\detections\\lobelia4cosmetics410\u001b[0m\n",
      "Saved 1 image to \u001b[1m..\\data\\detections\\lobelia4cosmetics411\u001b[0m\n",
      "Saved 1 image to \u001b[1m..\\data\\detections\\lobelia4cosmetics412\u001b[0m\n",
      "Saved 1 image to \u001b[1m..\\data\\detections\\lobelia4cosmetics413\u001b[0m\n",
      "Saved 1 image to \u001b[1m..\\data\\detections\\lobelia4cosmetics414\u001b[0m\n"
     ]
    },
    {
     "name": "stdout",
     "output_type": "stream",
     "text": [
      "Detected book with confidence 0.30\n"
     ]
    },
    {
     "name": "stderr",
     "output_type": "stream",
     "text": [
      "Saved 1 image to \u001b[1m..\\data\\detections\\lobelia4cosmetics415\u001b[0m\n",
      "Saved 1 image to \u001b[1m..\\data\\detections\\lobelia4cosmetics416\u001b[0m\n"
     ]
    },
    {
     "name": "stdout",
     "output_type": "stream",
     "text": [
      "Detected tie with confidence 0.64\n"
     ]
    },
    {
     "name": "stderr",
     "output_type": "stream",
     "text": [
      "Saved 1 image to \u001b[1m..\\data\\detections\\lobelia4cosmetics417\u001b[0m\n"
     ]
    },
    {
     "name": "stdout",
     "output_type": "stream",
     "text": [
      "Detected tie with confidence 0.54\n"
     ]
    },
    {
     "name": "stderr",
     "output_type": "stream",
     "text": [
      "Saved 1 image to \u001b[1m..\\data\\detections\\lobelia4cosmetics418\u001b[0m\n"
     ]
    },
    {
     "name": "stdout",
     "output_type": "stream",
     "text": [
      "Detected surfboard with confidence 0.56\n"
     ]
    },
    {
     "name": "stderr",
     "output_type": "stream",
     "text": [
      "Saved 1 image to \u001b[1m..\\data\\detections\\lobelia4cosmetics419\u001b[0m\n"
     ]
    },
    {
     "name": "stdout",
     "output_type": "stream",
     "text": [
      "Detected surfboard with confidence 0.72\n"
     ]
    },
    {
     "name": "stderr",
     "output_type": "stream",
     "text": [
      "Saved 1 image to \u001b[1m..\\data\\detections\\lobelia4cosmetics420\u001b[0m\n",
      "Saved 1 image to \u001b[1m..\\data\\detections\\lobelia4cosmetics421\u001b[0m\n",
      "Saved 1 image to \u001b[1m..\\data\\detections\\lobelia4cosmetics422\u001b[0m\n",
      "Saved 1 image to \u001b[1m..\\data\\detections\\lobelia4cosmetics423\u001b[0m\n",
      "Saved 1 image to \u001b[1m..\\data\\detections\\lobelia4cosmetics424\u001b[0m\n"
     ]
    },
    {
     "name": "stdout",
     "output_type": "stream",
     "text": [
      "Detected tie with confidence 0.69\n"
     ]
    },
    {
     "name": "stderr",
     "output_type": "stream",
     "text": [
      "Saved 1 image to \u001b[1m..\\data\\detections\\lobelia4cosmetics425\u001b[0m\n"
     ]
    },
    {
     "name": "stdout",
     "output_type": "stream",
     "text": [
      "Detected tie with confidence 0.65\n"
     ]
    },
    {
     "name": "stderr",
     "output_type": "stream",
     "text": [
      "Saved 1 image to \u001b[1m..\\data\\detections\\lobelia4cosmetics426\u001b[0m\n"
     ]
    },
    {
     "name": "stdout",
     "output_type": "stream",
     "text": [
      "Detected bottle with confidence 0.28\n"
     ]
    },
    {
     "name": "stderr",
     "output_type": "stream",
     "text": [
      "Saved 1 image to \u001b[1m..\\data\\detections\\lobelia4cosmetics427\u001b[0m\n"
     ]
    },
    {
     "name": "stdout",
     "output_type": "stream",
     "text": [
      "Detected bottle with confidence 0.37\n"
     ]
    },
    {
     "name": "stderr",
     "output_type": "stream",
     "text": [
      "Saved 1 image to \u001b[1m..\\data\\detections\\lobelia4cosmetics428\u001b[0m\n"
     ]
    },
    {
     "name": "stdout",
     "output_type": "stream",
     "text": [
      "Detected bottle with confidence 0.70\n"
     ]
    },
    {
     "name": "stderr",
     "output_type": "stream",
     "text": [
      "Saved 1 image to \u001b[1m..\\data\\detections\\lobelia4cosmetics429\u001b[0m\n"
     ]
    },
    {
     "name": "stdout",
     "output_type": "stream",
     "text": [
      "Detected bottle with confidence 0.70\n"
     ]
    },
    {
     "name": "stderr",
     "output_type": "stream",
     "text": [
      "Saved 1 image to \u001b[1m..\\data\\detections\\lobelia4cosmetics430\u001b[0m\n"
     ]
    },
    {
     "name": "stdout",
     "output_type": "stream",
     "text": [
      "Detected bottle with confidence 0.49\n"
     ]
    },
    {
     "name": "stderr",
     "output_type": "stream",
     "text": [
      "Saved 1 image to \u001b[1m..\\data\\detections\\lobelia4cosmetics431\u001b[0m\n"
     ]
    },
    {
     "name": "stdout",
     "output_type": "stream",
     "text": [
      "Detected bottle with confidence 0.50\n"
     ]
    },
    {
     "name": "stderr",
     "output_type": "stream",
     "text": [
      "Saved 1 image to \u001b[1m..\\data\\detections\\lobelia4cosmetics432\u001b[0m\n"
     ]
    },
    {
     "name": "stdout",
     "output_type": "stream",
     "text": [
      "Detected cake with confidence 0.41\n"
     ]
    },
    {
     "name": "stderr",
     "output_type": "stream",
     "text": [
      "Saved 1 image to \u001b[1m..\\data\\detections\\lobelia4cosmetics433\u001b[0m\n"
     ]
    },
    {
     "name": "stdout",
     "output_type": "stream",
     "text": [
      "Detected cake with confidence 0.35\n"
     ]
    },
    {
     "name": "stderr",
     "output_type": "stream",
     "text": [
      "Saved 1 image to \u001b[1m..\\data\\detections\\lobelia4cosmetics434\u001b[0m\n"
     ]
    },
    {
     "name": "stdout",
     "output_type": "stream",
     "text": [
      "Detected bottle with confidence 0.43\n",
      "Detected bird with confidence 0.28\n"
     ]
    },
    {
     "name": "stderr",
     "output_type": "stream",
     "text": [
      "Saved 1 image to \u001b[1m..\\data\\detections\\lobelia4cosmetics435\u001b[0m\n"
     ]
    },
    {
     "name": "stdout",
     "output_type": "stream",
     "text": [
      "Detected bird with confidence 0.32\n",
      "Detected bottle with confidence 0.31\n"
     ]
    },
    {
     "name": "stderr",
     "output_type": "stream",
     "text": [
      "Saved 1 image to \u001b[1m..\\data\\detections\\lobelia4cosmetics436\u001b[0m\n"
     ]
    },
    {
     "name": "stdout",
     "output_type": "stream",
     "text": [
      "Detected bird with confidence 0.32\n",
      "Detected bottle with confidence 0.31\n"
     ]
    },
    {
     "name": "stderr",
     "output_type": "stream",
     "text": [
      "Saved 1 image to \u001b[1m..\\data\\detections\\lobelia4cosmetics437\u001b[0m\n"
     ]
    },
    {
     "name": "stdout",
     "output_type": "stream",
     "text": [
      "Detected bird with confidence 0.32\n",
      "Detected bottle with confidence 0.31\n"
     ]
    },
    {
     "name": "stderr",
     "output_type": "stream",
     "text": [
      "Saved 1 image to \u001b[1m..\\data\\detections\\lobelia4cosmetics438\u001b[0m\n"
     ]
    },
    {
     "name": "stdout",
     "output_type": "stream",
     "text": [
      "Detected bird with confidence 0.32\n",
      "Detected bottle with confidence 0.31\n"
     ]
    },
    {
     "name": "stderr",
     "output_type": "stream",
     "text": [
      "Saved 1 image to \u001b[1m..\\data\\detections\\lobelia4cosmetics439\u001b[0m\n"
     ]
    },
    {
     "name": "stdout",
     "output_type": "stream",
     "text": [
      "Detected bird with confidence 0.32\n",
      "Detected bottle with confidence 0.31\n"
     ]
    },
    {
     "name": "stderr",
     "output_type": "stream",
     "text": [
      "Saved 1 image to \u001b[1m..\\data\\detections\\lobelia4cosmetics440\u001b[0m\n"
     ]
    },
    {
     "name": "stdout",
     "output_type": "stream",
     "text": [
      "Detected bird with confidence 0.32\n",
      "Detected bottle with confidence 0.31\n"
     ]
    },
    {
     "name": "stderr",
     "output_type": "stream",
     "text": [
      "Saved 1 image to \u001b[1m..\\data\\detections\\lobelia4cosmetics441\u001b[0m\n"
     ]
    },
    {
     "name": "stdout",
     "output_type": "stream",
     "text": [
      "Detected bird with confidence 0.32\n",
      "Detected bottle with confidence 0.31\n"
     ]
    },
    {
     "name": "stderr",
     "output_type": "stream",
     "text": [
      "Saved 1 image to \u001b[1m..\\data\\detections\\lobelia4cosmetics442\u001b[0m\n"
     ]
    },
    {
     "name": "stdout",
     "output_type": "stream",
     "text": [
      "Detected bird with confidence 0.32\n",
      "Detected bottle with confidence 0.31\n"
     ]
    },
    {
     "name": "stderr",
     "output_type": "stream",
     "text": [
      "Saved 1 image to \u001b[1m..\\data\\detections\\lobelia4cosmetics443\u001b[0m\n"
     ]
    },
    {
     "name": "stdout",
     "output_type": "stream",
     "text": [
      "Detected bird with confidence 0.32\n",
      "Detected bottle with confidence 0.31\n"
     ]
    },
    {
     "name": "stderr",
     "output_type": "stream",
     "text": [
      "Saved 1 image to \u001b[1m..\\data\\detections\\lobelia4cosmetics444\u001b[0m\n"
     ]
    },
    {
     "name": "stdout",
     "output_type": "stream",
     "text": [
      "Detected bottle with confidence 0.54\n",
      "Detected banana with confidence 0.26\n"
     ]
    },
    {
     "name": "stderr",
     "output_type": "stream",
     "text": [
      "Saved 1 image to \u001b[1m..\\data\\detections\\lobelia4cosmetics445\u001b[0m\n"
     ]
    },
    {
     "name": "stdout",
     "output_type": "stream",
     "text": [
      "Detected bottle with confidence 0.59\n",
      "Detected bottle with confidence 0.25\n"
     ]
    },
    {
     "name": "stderr",
     "output_type": "stream",
     "text": [
      "Saved 1 image to \u001b[1m..\\data\\detections\\lobelia4cosmetics446\u001b[0m\n",
      "Saved 1 image to \u001b[1m..\\data\\detections\\lobelia4cosmetics447\u001b[0m\n",
      "Saved 1 image to \u001b[1m..\\data\\detections\\lobelia4cosmetics448\u001b[0m\n",
      "Saved 1 image to \u001b[1m..\\data\\detections\\lobelia4cosmetics449\u001b[0m\n",
      "Saved 1 image to \u001b[1m..\\data\\detections\\lobelia4cosmetics450\u001b[0m\n",
      "Saved 1 image to \u001b[1m..\\data\\detections\\lobelia4cosmetics451\u001b[0m\n",
      "Saved 1 image to \u001b[1m..\\data\\detections\\lobelia4cosmetics452\u001b[0m\n",
      "Saved 1 image to \u001b[1m..\\data\\detections\\lobelia4cosmetics453\u001b[0m\n",
      "Saved 1 image to \u001b[1m..\\data\\detections\\lobelia4cosmetics454\u001b[0m\n",
      "Saved 1 image to \u001b[1m..\\data\\detections\\lobelia4cosmetics455\u001b[0m\n",
      "Saved 1 image to \u001b[1m..\\data\\detections\\lobelia4cosmetics456\u001b[0m\n",
      "Saved 1 image to \u001b[1m..\\data\\detections\\lobelia4cosmetics457\u001b[0m\n",
      "Saved 1 image to \u001b[1m..\\data\\detections\\lobelia4cosmetics458\u001b[0m\n",
      "Saved 1 image to \u001b[1m..\\data\\detections\\lobelia4cosmetics459\u001b[0m\n"
     ]
    },
    {
     "name": "stdout",
     "output_type": "stream",
     "text": [
      "Detected bottle with confidence 0.25\n"
     ]
    },
    {
     "name": "stderr",
     "output_type": "stream",
     "text": [
      "Saved 1 image to \u001b[1m..\\data\\detections\\lobelia4cosmetics460\u001b[0m\n",
      "Saved 1 image to \u001b[1m..\\data\\detections\\lobelia4cosmetics461\u001b[0m\n",
      "Saved 1 image to \u001b[1m..\\data\\detections\\lobelia4cosmetics462\u001b[0m\n",
      "Saved 1 image to \u001b[1m..\\data\\detections\\lobelia4cosmetics463\u001b[0m\n",
      "Saved 1 image to \u001b[1m..\\data\\detections\\lobelia4cosmetics464\u001b[0m\n"
     ]
    },
    {
     "name": "stdout",
     "output_type": "stream",
     "text": [
      "Detected bottle with confidence 0.33\n",
      "Detected bottle with confidence 0.28\n"
     ]
    },
    {
     "name": "stderr",
     "output_type": "stream",
     "text": [
      "Saved 1 image to \u001b[1m..\\data\\detections\\lobelia4cosmetics465\u001b[0m\n"
     ]
    },
    {
     "name": "stdout",
     "output_type": "stream",
     "text": [
      "Detected bottle with confidence 0.37\n",
      "Detected bottle with confidence 0.31\n",
      "Detected bottle with confidence 0.30\n",
      "Detected bottle with confidence 0.28\n",
      "Detected bottle with confidence 0.27\n"
     ]
    },
    {
     "name": "stderr",
     "output_type": "stream",
     "text": [
      "Saved 1 image to \u001b[1m..\\data\\detections\\lobelia4cosmetics466\u001b[0m\n"
     ]
    },
    {
     "name": "stdout",
     "output_type": "stream",
     "text": [
      "Detected bottle with confidence 0.37\n",
      "Detected bottle with confidence 0.31\n",
      "Detected bottle with confidence 0.30\n",
      "Detected bottle with confidence 0.28\n",
      "Detected bottle with confidence 0.27\n"
     ]
    },
    {
     "name": "stderr",
     "output_type": "stream",
     "text": [
      "Saved 1 image to \u001b[1m..\\data\\detections\\lobelia4cosmetics467\u001b[0m\n"
     ]
    },
    {
     "name": "stdout",
     "output_type": "stream",
     "text": [
      "Detected bottle with confidence 0.37\n",
      "Detected bottle with confidence 0.31\n",
      "Detected bottle with confidence 0.30\n",
      "Detected bottle with confidence 0.28\n",
      "Detected bottle with confidence 0.27\n"
     ]
    },
    {
     "name": "stderr",
     "output_type": "stream",
     "text": [
      "Saved 1 image to \u001b[1m..\\data\\detections\\lobelia4cosmetics468\u001b[0m\n",
      "Saved 1 image to \u001b[1m..\\data\\detections\\lobelia4cosmetics469\u001b[0m\n",
      "Saved 1 image to \u001b[1m..\\data\\detections\\lobelia4cosmetics470\u001b[0m\n",
      "Saved 1 image to \u001b[1m..\\data\\detections\\lobelia4cosmetics471\u001b[0m\n",
      "Saved 1 image to \u001b[1m..\\data\\detections\\lobelia4cosmetics472\u001b[0m\n",
      "Saved 1 image to \u001b[1m..\\data\\detections\\lobelia4cosmetics473\u001b[0m\n",
      "Saved 1 image to \u001b[1m..\\data\\detections\\lobelia4cosmetics474\u001b[0m\n",
      "Saved 1 image to \u001b[1m..\\data\\detections\\lobelia4cosmetics475\u001b[0m\n",
      "Saved 1 image to \u001b[1m..\\data\\detections\\lobelia4cosmetics476\u001b[0m\n",
      "Saved 1 image to \u001b[1m..\\data\\detections\\lobelia4cosmetics477\u001b[0m\n",
      "Saved 1 image to \u001b[1m..\\data\\detections\\lobelia4cosmetics478\u001b[0m\n",
      "Saved 1 image to \u001b[1m..\\data\\detections\\lobelia4cosmetics479\u001b[0m\n",
      "Saved 1 image to \u001b[1m..\\data\\detections\\lobelia4cosmetics480\u001b[0m\n",
      "Saved 1 image to \u001b[1m..\\data\\detections\\lobelia4cosmetics481\u001b[0m\n",
      "Saved 1 image to \u001b[1m..\\data\\detections\\lobelia4cosmetics482\u001b[0m\n",
      "Saved 1 image to \u001b[1m..\\data\\detections\\lobelia4cosmetics483\u001b[0m\n",
      "Saved 1 image to \u001b[1m..\\data\\detections\\lobelia4cosmetics484\u001b[0m\n"
     ]
    },
    {
     "name": "stdout",
     "output_type": "stream",
     "text": [
      "Detected parking meter with confidence 0.32\n"
     ]
    },
    {
     "name": "stderr",
     "output_type": "stream",
     "text": [
      "Saved 1 image to \u001b[1m..\\data\\detections\\lobelia4cosmetics485\u001b[0m\n",
      "Saved 1 image to \u001b[1m..\\data\\detections\\lobelia4cosmetics486\u001b[0m\n",
      "Saved 1 image to \u001b[1m..\\data\\detections\\lobelia4cosmetics487\u001b[0m\n",
      "Saved 1 image to \u001b[1m..\\data\\detections\\lobelia4cosmetics488\u001b[0m\n"
     ]
    },
    {
     "name": "stdout",
     "output_type": "stream",
     "text": [
      "Detected vase with confidence 0.31\n"
     ]
    },
    {
     "name": "stderr",
     "output_type": "stream",
     "text": [
      "Saved 1 image to \u001b[1m..\\data\\detections\\lobelia4cosmetics489\u001b[0m\n",
      "Saved 1 image to \u001b[1m..\\data\\detections\\lobelia4cosmetics490\u001b[0m\n",
      "Saved 1 image to \u001b[1m..\\data\\detections\\lobelia4cosmetics491\u001b[0m\n"
     ]
    },
    {
     "name": "stdout",
     "output_type": "stream",
     "text": [
      "Detected bottle with confidence 0.26\n"
     ]
    },
    {
     "name": "stderr",
     "output_type": "stream",
     "text": [
      "Saved 1 image to \u001b[1m..\\data\\detections\\lobelia4cosmetics492\u001b[0m\n"
     ]
    },
    {
     "name": "stdout",
     "output_type": "stream",
     "text": [
      "Detected bottle with confidence 0.26\n"
     ]
    },
    {
     "name": "stderr",
     "output_type": "stream",
     "text": [
      "Saved 1 image to \u001b[1m..\\data\\detections\\lobelia4cosmetics493\u001b[0m\n",
      "Saved 1 image to \u001b[1m..\\data\\detections\\lobelia4cosmetics494\u001b[0m\n",
      "Saved 1 image to \u001b[1m..\\data\\detections\\lobelia4cosmetics495\u001b[0m\n",
      "Saved 1 image to \u001b[1m..\\data\\detections\\lobelia4cosmetics496\u001b[0m\n",
      "Saved 1 image to \u001b[1m..\\data\\detections\\lobelia4cosmetics497\u001b[0m\n",
      "Saved 1 image to \u001b[1m..\\data\\detections\\lobelia4cosmetics498\u001b[0m\n",
      "Saved 1 image to \u001b[1m..\\data\\detections\\lobelia4cosmetics499\u001b[0m\n",
      "Saved 1 image to \u001b[1m..\\data\\detections\\lobelia4cosmetics500\u001b[0m\n",
      "Saved 1 image to \u001b[1m..\\data\\detections\\lobelia4cosmetics501\u001b[0m\n",
      "Saved 1 image to \u001b[1m..\\data\\detections\\lobelia4cosmetics502\u001b[0m\n",
      "Saved 1 image to \u001b[1m..\\data\\detections\\lobelia4cosmetics503\u001b[0m\n",
      "Saved 1 image to \u001b[1m..\\data\\detections\\lobelia4cosmetics504\u001b[0m\n",
      "Saved 1 image to \u001b[1m..\\data\\detections\\lobelia4cosmetics505\u001b[0m\n",
      "Saved 1 image to \u001b[1m..\\data\\detections\\lobelia4cosmetics506\u001b[0m\n",
      "Saved 1 image to \u001b[1m..\\data\\detections\\lobelia4cosmetics507\u001b[0m\n",
      "Saved 1 image to \u001b[1m..\\data\\detections\\lobelia4cosmetics508\u001b[0m\n",
      "Saved 1 image to \u001b[1m..\\data\\detections\\lobelia4cosmetics509\u001b[0m\n",
      "Saved 1 image to \u001b[1m..\\data\\detections\\lobelia4cosmetics510\u001b[0m\n",
      "Saved 1 image to \u001b[1m..\\data\\detections\\lobelia4cosmetics511\u001b[0m\n",
      "Saved 1 image to \u001b[1m..\\data\\detections\\lobelia4cosmetics512\u001b[0m\n",
      "Saved 1 image to \u001b[1m..\\data\\detections\\lobelia4cosmetics513\u001b[0m\n",
      "Saved 1 image to \u001b[1m..\\data\\detections\\lobelia4cosmetics514\u001b[0m\n",
      "Saved 1 image to \u001b[1m..\\data\\detections\\lobelia4cosmetics515\u001b[0m\n",
      "Saved 1 image to \u001b[1m..\\data\\detections\\lobelia4cosmetics516\u001b[0m\n",
      "Saved 1 image to \u001b[1m..\\data\\detections\\lobelia4cosmetics517\u001b[0m\n"
     ]
    },
    {
     "name": "stdout",
     "output_type": "stream",
     "text": [
      "Detected cup with confidence 0.44\n"
     ]
    },
    {
     "name": "stderr",
     "output_type": "stream",
     "text": [
      "Saved 1 image to \u001b[1m..\\data\\detections\\lobelia4cosmetics518\u001b[0m\n"
     ]
    },
    {
     "name": "stdout",
     "output_type": "stream",
     "text": [
      "Detected cup with confidence 0.41\n"
     ]
    },
    {
     "name": "stderr",
     "output_type": "stream",
     "text": [
      "Saved 1 image to \u001b[1m..\\data\\detections\\lobelia4cosmetics519\u001b[0m\n",
      "Saved 1 image to \u001b[1m..\\data\\detections\\lobelia4cosmetics520\u001b[0m\n",
      "Saved 1 image to \u001b[1m..\\data\\detections\\lobelia4cosmetics521\u001b[0m\n",
      "Saved 1 image to \u001b[1m..\\data\\detections\\lobelia4cosmetics522\u001b[0m\n",
      "Saved 1 image to \u001b[1m..\\data\\detections\\lobelia4cosmetics523\u001b[0m\n"
     ]
    },
    {
     "name": "stdout",
     "output_type": "stream",
     "text": [
      "Detected bottle with confidence 0.68\n"
     ]
    },
    {
     "name": "stderr",
     "output_type": "stream",
     "text": [
      "Saved 1 image to \u001b[1m..\\data\\detections\\lobelia4cosmetics524\u001b[0m\n"
     ]
    },
    {
     "name": "stdout",
     "output_type": "stream",
     "text": [
      "Detected bottle with confidence 0.73\n"
     ]
    },
    {
     "name": "stderr",
     "output_type": "stream",
     "text": [
      "Saved 1 image to \u001b[1m..\\data\\detections\\lobelia4cosmetics525\u001b[0m\n"
     ]
    },
    {
     "name": "stdout",
     "output_type": "stream",
     "text": [
      "Detected book with confidence 0.73\n",
      "Detected book with confidence 0.68\n",
      "Detected book with confidence 0.65\n",
      "Detected book with confidence 0.62\n",
      "Detected book with confidence 0.57\n",
      "Detected book with confidence 0.51\n",
      "Detected book with confidence 0.51\n",
      "Detected book with confidence 0.48\n",
      "Detected book with confidence 0.44\n"
     ]
    },
    {
     "name": "stderr",
     "output_type": "stream",
     "text": [
      "Saved 1 image to \u001b[1m..\\data\\detections\\lobelia4cosmetics526\u001b[0m\n"
     ]
    },
    {
     "name": "stdout",
     "output_type": "stream",
     "text": [
      "Detected book with confidence 0.74\n",
      "Detected book with confidence 0.68\n",
      "Detected book with confidence 0.67\n",
      "Detected book with confidence 0.67\n",
      "Detected book with confidence 0.55\n",
      "Detected book with confidence 0.54\n",
      "Detected book with confidence 0.53\n",
      "Detected book with confidence 0.51\n",
      "Detected book with confidence 0.49\n"
     ]
    },
    {
     "name": "stderr",
     "output_type": "stream",
     "text": [
      "Saved 1 image to \u001b[1m..\\data\\detections\\lobelia4cosmetics527\u001b[0m\n"
     ]
    },
    {
     "name": "stdout",
     "output_type": "stream",
     "text": [
      "Detected book with confidence 0.74\n",
      "Detected book with confidence 0.68\n",
      "Detected book with confidence 0.67\n",
      "Detected book with confidence 0.67\n",
      "Detected book with confidence 0.55\n",
      "Detected book with confidence 0.54\n",
      "Detected book with confidence 0.53\n",
      "Detected book with confidence 0.51\n",
      "Detected book with confidence 0.49\n"
     ]
    },
    {
     "name": "stderr",
     "output_type": "stream",
     "text": [
      "Saved 1 image to \u001b[1m..\\data\\detections\\lobelia4cosmetics528\u001b[0m\n"
     ]
    },
    {
     "name": "stdout",
     "output_type": "stream",
     "text": [
      "Detected bottle with confidence 0.54\n"
     ]
    },
    {
     "name": "stderr",
     "output_type": "stream",
     "text": [
      "Saved 1 image to \u001b[1m..\\data\\detections\\lobelia4cosmetics529\u001b[0m\n"
     ]
    },
    {
     "name": "stdout",
     "output_type": "stream",
     "text": [
      "Detected bottle with confidence 0.53\n"
     ]
    },
    {
     "name": "stderr",
     "output_type": "stream",
     "text": [
      "Saved 1 image to \u001b[1m..\\data\\detections\\lobelia4cosmetics530\u001b[0m\n",
      "Saved 1 image to \u001b[1m..\\data\\detections\\lobelia4cosmetics531\u001b[0m\n",
      "Saved 1 image to \u001b[1m..\\data\\detections\\lobelia4cosmetics532\u001b[0m\n",
      "Saved 1 image to \u001b[1m..\\data\\detections\\lobelia4cosmetics533\u001b[0m\n",
      "Saved 1 image to \u001b[1m..\\data\\detections\\lobelia4cosmetics534\u001b[0m\n",
      "Saved 1 image to \u001b[1m..\\data\\detections\\lobelia4cosmetics535\u001b[0m\n",
      "Saved 1 image to \u001b[1m..\\data\\detections\\lobelia4cosmetics536\u001b[0m\n",
      "Saved 1 image to \u001b[1m..\\data\\detections\\lobelia4cosmetics537\u001b[0m\n",
      "Saved 1 image to \u001b[1m..\\data\\detections\\lobelia4cosmetics538\u001b[0m\n",
      "Saved 1 image to \u001b[1m..\\data\\detections\\lobelia4cosmetics539\u001b[0m\n",
      "Saved 1 image to \u001b[1m..\\data\\detections\\lobelia4cosmetics540\u001b[0m\n"
     ]
    },
    {
     "name": "stdout",
     "output_type": "stream",
     "text": [
      "Detected toothbrush with confidence 0.44\n",
      "Detected toothbrush with confidence 0.32\n",
      "Detected toothbrush with confidence 0.31\n"
     ]
    },
    {
     "name": "stderr",
     "output_type": "stream",
     "text": [
      "Saved 1 image to \u001b[1m..\\data\\detections\\lobelia4cosmetics541\u001b[0m\n",
      "Saved 1 image to \u001b[1m..\\data\\detections\\lobelia4cosmetics542\u001b[0m\n",
      "Saved 1 image to \u001b[1m..\\data\\detections\\lobelia4cosmetics543\u001b[0m\n",
      "Saved 1 image to \u001b[1m..\\data\\detections\\lobelia4cosmetics544\u001b[0m\n",
      "Saved 1 image to \u001b[1m..\\data\\detections\\lobelia4cosmetics545\u001b[0m\n",
      "Saved 1 image to \u001b[1m..\\data\\detections\\lobelia4cosmetics546\u001b[0m\n",
      "Saved 1 image to \u001b[1m..\\data\\detections\\lobelia4cosmetics547\u001b[0m\n",
      "Saved 1 image to \u001b[1m..\\data\\detections\\lobelia4cosmetics548\u001b[0m\n",
      "Saved 1 image to \u001b[1m..\\data\\detections\\lobelia4cosmetics549\u001b[0m\n",
      "Saved 1 image to \u001b[1m..\\data\\detections\\lobelia4cosmetics550\u001b[0m\n",
      "Saved 1 image to \u001b[1m..\\data\\detections\\lobelia4cosmetics551\u001b[0m\n",
      "Saved 1 image to \u001b[1m..\\data\\detections\\lobelia4cosmetics552\u001b[0m\n",
      "Saved 1 image to \u001b[1m..\\data\\detections\\lobelia4cosmetics553\u001b[0m\n"
     ]
    },
    {
     "name": "stdout",
     "output_type": "stream",
     "text": [
      "Detected bottle with confidence 0.62\n"
     ]
    },
    {
     "name": "stderr",
     "output_type": "stream",
     "text": [
      "Saved 1 image to \u001b[1m..\\data\\detections\\lobelia4cosmetics554\u001b[0m\n"
     ]
    },
    {
     "name": "stdout",
     "output_type": "stream",
     "text": [
      "Detected bottle with confidence 0.70\n"
     ]
    },
    {
     "name": "stderr",
     "output_type": "stream",
     "text": [
      "Saved 1 image to \u001b[1m..\\data\\detections\\lobelia4cosmetics555\u001b[0m\n"
     ]
    },
    {
     "name": "stdout",
     "output_type": "stream",
     "text": [
      "Detected bottle with confidence 0.70\n"
     ]
    },
    {
     "name": "stderr",
     "output_type": "stream",
     "text": [
      "Saved 1 image to \u001b[1m..\\data\\detections\\lobelia4cosmetics556\u001b[0m\n"
     ]
    },
    {
     "name": "stdout",
     "output_type": "stream",
     "text": [
      "Detected stop sign with confidence 0.72\n"
     ]
    },
    {
     "name": "stderr",
     "output_type": "stream",
     "text": [
      "Saved 1 image to \u001b[1m..\\data\\detections\\lobelia4cosmetics557\u001b[0m\n"
     ]
    },
    {
     "name": "stdout",
     "output_type": "stream",
     "text": [
      "Detected stop sign with confidence 0.74\n"
     ]
    },
    {
     "name": "stderr",
     "output_type": "stream",
     "text": [
      "Saved 1 image to \u001b[1m..\\data\\detections\\lobelia4cosmetics558\u001b[0m\n"
     ]
    },
    {
     "name": "stdout",
     "output_type": "stream",
     "text": [
      "Detected stop sign with confidence 0.74\n"
     ]
    },
    {
     "name": "stderr",
     "output_type": "stream",
     "text": [
      "Saved 1 image to \u001b[1m..\\data\\detections\\lobelia4cosmetics559\u001b[0m\n"
     ]
    },
    {
     "name": "stdout",
     "output_type": "stream",
     "text": [
      "Detected stop sign with confidence 0.74\n"
     ]
    },
    {
     "name": "stderr",
     "output_type": "stream",
     "text": [
      "Saved 1 image to \u001b[1m..\\data\\detections\\lobelia4cosmetics560\u001b[0m\n"
     ]
    },
    {
     "name": "stdout",
     "output_type": "stream",
     "text": [
      "Detected stop sign with confidence 0.55\n"
     ]
    },
    {
     "name": "stderr",
     "output_type": "stream",
     "text": [
      "Saved 1 image to \u001b[1m..\\data\\detections\\lobelia4cosmetics561\u001b[0m\n"
     ]
    },
    {
     "name": "stdout",
     "output_type": "stream",
     "text": [
      "Detected stop sign with confidence 0.74\n"
     ]
    },
    {
     "name": "stderr",
     "output_type": "stream",
     "text": [
      "Saved 1 image to \u001b[1m..\\data\\detections\\lobelia4cosmetics562\u001b[0m\n"
     ]
    },
    {
     "name": "stdout",
     "output_type": "stream",
     "text": [
      "Detected stop sign with confidence 0.74\n"
     ]
    },
    {
     "name": "stderr",
     "output_type": "stream",
     "text": [
      "Saved 1 image to \u001b[1m..\\data\\detections\\lobelia4cosmetics563\u001b[0m\n"
     ]
    },
    {
     "name": "stdout",
     "output_type": "stream",
     "text": [
      "Detected stop sign with confidence 0.74\n"
     ]
    },
    {
     "name": "stderr",
     "output_type": "stream",
     "text": [
      "Saved 1 image to \u001b[1m..\\data\\detections\\lobelia4cosmetics564\u001b[0m\n"
     ]
    },
    {
     "name": "stdout",
     "output_type": "stream",
     "text": [
      "Detected stop sign with confidence 0.74\n"
     ]
    },
    {
     "name": "stderr",
     "output_type": "stream",
     "text": [
      "Saved 1 image to \u001b[1m..\\data\\detections\\lobelia4cosmetics565\u001b[0m\n"
     ]
    },
    {
     "name": "stdout",
     "output_type": "stream",
     "text": [
      "Detected stop sign with confidence 0.74\n"
     ]
    },
    {
     "name": "stderr",
     "output_type": "stream",
     "text": [
      "Saved 1 image to \u001b[1m..\\data\\detections\\lobelia4cosmetics566\u001b[0m\n",
      "Saved 1 image to \u001b[1m..\\data\\detections\\lobelia4cosmetics567\u001b[0m\n",
      "Saved 1 image to \u001b[1m..\\data\\detections\\lobelia4cosmetics568\u001b[0m\n"
     ]
    },
    {
     "name": "stdout",
     "output_type": "stream",
     "text": [
      "Detected bottle with confidence 0.43\n"
     ]
    },
    {
     "name": "stderr",
     "output_type": "stream",
     "text": [
      "Saved 1 image to \u001b[1m..\\data\\detections\\lobelia4cosmetics569\u001b[0m\n"
     ]
    },
    {
     "name": "stdout",
     "output_type": "stream",
     "text": [
      "Detected bottle with confidence 0.55\n"
     ]
    },
    {
     "name": "stderr",
     "output_type": "stream",
     "text": [
      "Saved 1 image to \u001b[1m..\\data\\detections\\lobelia4cosmetics570\u001b[0m\n"
     ]
    },
    {
     "name": "stdout",
     "output_type": "stream",
     "text": [
      "Detected bottle with confidence 0.74\n"
     ]
    },
    {
     "name": "stderr",
     "output_type": "stream",
     "text": [
      "Saved 1 image to \u001b[1m..\\data\\detections\\lobelia4cosmetics571\u001b[0m\n"
     ]
    },
    {
     "name": "stdout",
     "output_type": "stream",
     "text": [
      "Detected bottle with confidence 0.65\n"
     ]
    },
    {
     "name": "stderr",
     "output_type": "stream",
     "text": [
      "Saved 1 image to \u001b[1m..\\data\\detections\\lobelia4cosmetics572\u001b[0m\n"
     ]
    },
    {
     "name": "stdout",
     "output_type": "stream",
     "text": [
      "Detected book with confidence 0.30\n"
     ]
    },
    {
     "name": "stderr",
     "output_type": "stream",
     "text": [
      "Saved 1 image to \u001b[1m..\\data\\detections\\lobelia4cosmetics573\u001b[0m\n",
      "Saved 1 image to \u001b[1m..\\data\\detections\\lobelia4cosmetics574\u001b[0m\n"
     ]
    },
    {
     "name": "stdout",
     "output_type": "stream",
     "text": [
      "Detected surfboard with confidence 0.49\n"
     ]
    },
    {
     "name": "stderr",
     "output_type": "stream",
     "text": [
      "Saved 1 image to \u001b[1m..\\data\\detections\\lobelia4cosmetics575\u001b[0m\n",
      "Saved 1 image to \u001b[1m..\\data\\detections\\lobelia4cosmetics576\u001b[0m\n",
      "Saved 1 image to \u001b[1m..\\data\\detections\\lobelia4cosmetics577\u001b[0m\n",
      "Saved 1 image to \u001b[1m..\\data\\detections\\lobelia4cosmetics578\u001b[0m\n",
      "Saved 1 image to \u001b[1m..\\data\\detections\\lobelia4cosmetics579\u001b[0m\n",
      "Saved 1 image to \u001b[1m..\\data\\detections\\lobelia4cosmetics580\u001b[0m\n",
      "Saved 1 image to \u001b[1m..\\data\\detections\\lobelia4cosmetics581\u001b[0m\n",
      "Saved 1 image to \u001b[1m..\\data\\detections\\lobelia4cosmetics582\u001b[0m\n",
      "Saved 1 image to \u001b[1m..\\data\\detections\\lobelia4cosmetics583\u001b[0m\n",
      "Saved 1 image to \u001b[1m..\\data\\detections\\lobelia4cosmetics584\u001b[0m\n",
      "Saved 1 image to \u001b[1m..\\data\\detections\\lobelia4cosmetics585\u001b[0m\n"
     ]
    },
    {
     "name": "stdout",
     "output_type": "stream",
     "text": [
      "Detected book with confidence 0.30\n"
     ]
    },
    {
     "name": "stderr",
     "output_type": "stream",
     "text": [
      "Saved 1 image to \u001b[1m..\\data\\detections\\lobelia4cosmetics586\u001b[0m\n",
      "Saved 1 image to \u001b[1m..\\data\\detections\\lobelia4cosmetics587\u001b[0m\n",
      "Saved 1 image to \u001b[1m..\\data\\detections\\lobelia4cosmetics588\u001b[0m\n",
      "Saved 1 image to \u001b[1m..\\data\\detections\\lobelia4cosmetics589\u001b[0m\n",
      "Saved 1 image to \u001b[1m..\\data\\detections\\lobelia4cosmetics590\u001b[0m\n",
      "Saved 1 image to \u001b[1m..\\data\\detections\\lobelia4cosmetics591\u001b[0m\n",
      "Saved 1 image to \u001b[1m..\\data\\detections\\lobelia4cosmetics592\u001b[0m\n",
      "Saved 1 image to \u001b[1m..\\data\\detections\\lobelia4cosmetics593\u001b[0m\n",
      "Saved 1 image to \u001b[1m..\\data\\detections\\lobelia4cosmetics594\u001b[0m\n",
      "Saved 1 image to \u001b[1m..\\data\\detections\\lobelia4cosmetics595\u001b[0m\n",
      "Saved 1 image to \u001b[1m..\\data\\detections\\lobelia4cosmetics596\u001b[0m\n",
      "Saved 1 image to \u001b[1m..\\data\\detections\\lobelia4cosmetics597\u001b[0m\n",
      "Saved 1 image to \u001b[1m..\\data\\detections\\lobelia4cosmetics598\u001b[0m\n",
      "Saved 1 image to \u001b[1m..\\data\\detections\\lobelia4cosmetics599\u001b[0m\n",
      "Saved 1 image to \u001b[1m..\\data\\detections\\lobelia4cosmetics600\u001b[0m\n"
     ]
    },
    {
     "name": "stdout",
     "output_type": "stream",
     "text": [
      "Detected book with confidence 0.39\n"
     ]
    },
    {
     "name": "stderr",
     "output_type": "stream",
     "text": [
      "Saved 1 image to \u001b[1m..\\data\\detections\\lobelia4cosmetics601\u001b[0m\n",
      "Saved 1 image to \u001b[1m..\\data\\detections\\lobelia4cosmetics602\u001b[0m\n",
      "Saved 1 image to \u001b[1m..\\data\\detections\\lobelia4cosmetics603\u001b[0m\n",
      "Saved 1 image to \u001b[1m..\\data\\detections\\lobelia4cosmetics604\u001b[0m\n",
      "Saved 1 image to \u001b[1m..\\data\\detections\\lobelia4cosmetics605\u001b[0m\n",
      "Saved 1 image to \u001b[1m..\\data\\detections\\lobelia4cosmetics606\u001b[0m\n",
      "Saved 1 image to \u001b[1m..\\data\\detections\\lobelia4cosmetics607\u001b[0m\n",
      "Saved 1 image to \u001b[1m..\\data\\detections\\lobelia4cosmetics608\u001b[0m\n",
      "Saved 1 image to \u001b[1m..\\data\\detections\\lobelia4cosmetics609\u001b[0m\n",
      "Saved 1 image to \u001b[1m..\\data\\detections\\lobelia4cosmetics610\u001b[0m\n",
      "Saved 1 image to \u001b[1m..\\data\\detections\\lobelia4cosmetics611\u001b[0m\n",
      "Saved 1 image to \u001b[1m..\\data\\detections\\lobelia4cosmetics612\u001b[0m\n",
      "Saved 1 image to \u001b[1m..\\data\\detections\\lobelia4cosmetics613\u001b[0m\n",
      "Saved 1 image to \u001b[1m..\\data\\detections\\lobelia4cosmetics614\u001b[0m\n",
      "Saved 1 image to \u001b[1m..\\data\\detections\\lobelia4cosmetics615\u001b[0m\n",
      "Saved 1 image to \u001b[1m..\\data\\detections\\lobelia4cosmetics616\u001b[0m\n",
      "Saved 1 image to \u001b[1m..\\data\\detections\\lobelia4cosmetics617\u001b[0m\n",
      "Saved 1 image to \u001b[1m..\\data\\detections\\lobelia4cosmetics618\u001b[0m\n",
      "Saved 1 image to \u001b[1m..\\data\\detections\\lobelia4cosmetics619\u001b[0m\n",
      "Saved 1 image to \u001b[1m..\\data\\detections\\lobelia4cosmetics620\u001b[0m\n",
      "Saved 1 image to \u001b[1m..\\data\\detections\\lobelia4cosmetics621\u001b[0m\n",
      "Saved 1 image to \u001b[1m..\\data\\detections\\lobelia4cosmetics622\u001b[0m\n",
      "Saved 1 image to \u001b[1m..\\data\\detections\\lobelia4cosmetics623\u001b[0m\n",
      "Saved 1 image to \u001b[1m..\\data\\detections\\lobelia4cosmetics624\u001b[0m\n"
     ]
    },
    {
     "name": "stdout",
     "output_type": "stream",
     "text": [
      "Detected vase with confidence 0.27\n"
     ]
    },
    {
     "name": "stderr",
     "output_type": "stream",
     "text": [
      "Saved 1 image to \u001b[1m..\\data\\detections\\lobelia4cosmetics625\u001b[0m\n",
      "Saved 1 image to \u001b[1m..\\data\\detections\\lobelia4cosmetics626\u001b[0m\n",
      "Saved 1 image to \u001b[1m..\\data\\detections\\lobelia4cosmetics627\u001b[0m\n",
      "Saved 1 image to \u001b[1m..\\data\\detections\\lobelia4cosmetics628\u001b[0m\n"
     ]
    },
    {
     "name": "stdout",
     "output_type": "stream",
     "text": [
      "Detected tie with confidence 0.58\n"
     ]
    },
    {
     "name": "stderr",
     "output_type": "stream",
     "text": [
      "Saved 1 image to \u001b[1m..\\data\\detections\\lobelia4cosmetics629\u001b[0m\n"
     ]
    },
    {
     "name": "stdout",
     "output_type": "stream",
     "text": [
      "Detected tie with confidence 0.63\n"
     ]
    },
    {
     "name": "stderr",
     "output_type": "stream",
     "text": [
      "Saved 1 image to \u001b[1m..\\data\\detections\\lobelia4cosmetics630\u001b[0m\n"
     ]
    },
    {
     "name": "stdout",
     "output_type": "stream",
     "text": [
      "Detected bottle with confidence 0.68\n"
     ]
    },
    {
     "name": "stderr",
     "output_type": "stream",
     "text": [
      "Saved 1 image to \u001b[1m..\\data\\detections\\lobelia4cosmetics631\u001b[0m\n"
     ]
    },
    {
     "name": "stdout",
     "output_type": "stream",
     "text": [
      "Detected bottle with confidence 0.70\n"
     ]
    },
    {
     "name": "stderr",
     "output_type": "stream",
     "text": [
      "Saved 1 image to \u001b[1m..\\data\\detections\\lobelia4cosmetics632\u001b[0m\n"
     ]
    },
    {
     "name": "stdout",
     "output_type": "stream",
     "text": [
      "Detected remote with confidence 0.50\n"
     ]
    },
    {
     "name": "stderr",
     "output_type": "stream",
     "text": [
      "Saved 1 image to \u001b[1m..\\data\\detections\\lobelia4cosmetics633\u001b[0m\n"
     ]
    },
    {
     "name": "stdout",
     "output_type": "stream",
     "text": [
      "Detected tie with confidence 0.50\n",
      "Detected remote with confidence 0.48\n"
     ]
    },
    {
     "name": "stderr",
     "output_type": "stream",
     "text": [
      "Saved 1 image to \u001b[1m..\\data\\detections\\lobelia4cosmetics634\u001b[0m\n",
      "Saved 1 image to \u001b[1m..\\data\\detections\\lobelia4cosmetics635\u001b[0m\n",
      "Saved 1 image to \u001b[1m..\\data\\detections\\lobelia4cosmetics636\u001b[0m\n",
      "Saved 1 image to \u001b[1m..\\data\\detections\\lobelia4cosmetics637\u001b[0m\n",
      "Saved 1 image to \u001b[1m..\\data\\detections\\lobelia4cosmetics638\u001b[0m\n",
      "Saved 1 image to \u001b[1m..\\data\\detections\\lobelia4cosmetics639\u001b[0m\n",
      "Saved 1 image to \u001b[1m..\\data\\detections\\lobelia4cosmetics640\u001b[0m\n"
     ]
    },
    {
     "name": "stdout",
     "output_type": "stream",
     "text": [
      "Detected toilet with confidence 0.39\n"
     ]
    },
    {
     "name": "stderr",
     "output_type": "stream",
     "text": [
      "Saved 1 image to \u001b[1m..\\data\\detections\\lobelia4cosmetics641\u001b[0m\n"
     ]
    },
    {
     "name": "stdout",
     "output_type": "stream",
     "text": [
      "Detected toilet with confidence 0.30\n"
     ]
    },
    {
     "name": "stderr",
     "output_type": "stream",
     "text": [
      "Saved 1 image to \u001b[1m..\\data\\detections\\lobelia4cosmetics642\u001b[0m\n",
      "Saved 1 image to \u001b[1m..\\data\\detections\\lobelia4cosmetics643\u001b[0m\n",
      "Saved 1 image to \u001b[1m..\\data\\detections\\lobelia4cosmetics644\u001b[0m\n",
      "Saved 1 image to \u001b[1m..\\data\\detections\\lobelia4cosmetics645\u001b[0m\n",
      "Saved 1 image to \u001b[1m..\\data\\detections\\lobelia4cosmetics646\u001b[0m\n",
      "Saved 1 image to \u001b[1m..\\data\\detections\\lobelia4cosmetics647\u001b[0m\n",
      "Saved 1 image to \u001b[1m..\\data\\detections\\lobelia4cosmetics648\u001b[0m\n",
      "Saved 1 image to \u001b[1m..\\data\\detections\\lobelia4cosmetics649\u001b[0m\n"
     ]
    },
    {
     "name": "stdout",
     "output_type": "stream",
     "text": [
      "Detected vase with confidence 0.26\n"
     ]
    },
    {
     "name": "stderr",
     "output_type": "stream",
     "text": [
      "Saved 1 image to \u001b[1m..\\data\\detections\\lobelia4cosmetics650\u001b[0m\n",
      "Saved 1 image to \u001b[1m..\\data\\detections\\lobelia4cosmetics651\u001b[0m\n",
      "Saved 1 image to \u001b[1m..\\data\\detections\\lobelia4cosmetics652\u001b[0m\n",
      "Saved 1 image to \u001b[1m..\\data\\detections\\lobelia4cosmetics653\u001b[0m\n",
      "Saved 1 image to \u001b[1m..\\data\\detections\\lobelia4cosmetics654\u001b[0m\n"
     ]
    },
    {
     "name": "stdout",
     "output_type": "stream",
     "text": [
      "Detected stop sign with confidence 0.33\n"
     ]
    },
    {
     "name": "stderr",
     "output_type": "stream",
     "text": [
      "Saved 1 image to \u001b[1m..\\data\\detections\\lobelia4cosmetics655\u001b[0m\n",
      "Saved 1 image to \u001b[1m..\\data\\detections\\lobelia4cosmetics656\u001b[0m\n"
     ]
    },
    {
     "name": "stdout",
     "output_type": "stream",
     "text": [
      "Detected bottle with confidence 0.35\n"
     ]
    },
    {
     "name": "stderr",
     "output_type": "stream",
     "text": [
      "Saved 1 image to \u001b[1m..\\data\\detections\\lobelia4cosmetics657\u001b[0m\n"
     ]
    },
    {
     "name": "stdout",
     "output_type": "stream",
     "text": [
      "Detected bottle with confidence 0.33\n"
     ]
    },
    {
     "name": "stderr",
     "output_type": "stream",
     "text": [
      "Saved 1 image to \u001b[1m..\\data\\detections\\lobelia4cosmetics658\u001b[0m\n"
     ]
    },
    {
     "name": "stdout",
     "output_type": "stream",
     "text": [
      "Detected bottle with confidence 0.34\n",
      "Detected parking meter with confidence 0.26\n"
     ]
    },
    {
     "name": "stderr",
     "output_type": "stream",
     "text": [
      "Saved 1 image to \u001b[1m..\\data\\detections\\lobelia4cosmetics659\u001b[0m\n"
     ]
    },
    {
     "name": "stdout",
     "output_type": "stream",
     "text": [
      "Detected parking meter with confidence 0.36\n",
      "Detected bottle with confidence 0.34\n"
     ]
    },
    {
     "name": "stderr",
     "output_type": "stream",
     "text": [
      "Saved 1 image to \u001b[1m..\\data\\detections\\lobelia4cosmetics660\u001b[0m\n",
      "Saved 1 image to \u001b[1m..\\data\\detections\\lobelia4cosmetics661\u001b[0m\n",
      "Saved 1 image to \u001b[1m..\\data\\detections\\lobelia4cosmetics662\u001b[0m\n"
     ]
    },
    {
     "name": "stdout",
     "output_type": "stream",
     "text": [
      "Detected tie with confidence 0.55\n",
      "Detected bottle with confidence 0.52\n"
     ]
    },
    {
     "name": "stderr",
     "output_type": "stream",
     "text": [
      "Saved 1 image to \u001b[1m..\\data\\detections\\lobelia4cosmetics663\u001b[0m\n"
     ]
    },
    {
     "name": "stdout",
     "output_type": "stream",
     "text": [
      "Detected tie with confidence 0.62\n",
      "Detected bottle with confidence 0.44\n"
     ]
    },
    {
     "name": "stderr",
     "output_type": "stream",
     "text": [
      "Saved 1 image to \u001b[1m..\\data\\detections\\lobelia4cosmetics664\u001b[0m\n"
     ]
    },
    {
     "name": "stdout",
     "output_type": "stream",
     "text": [
      "Detected bottle with confidence 0.37\n"
     ]
    },
    {
     "name": "stderr",
     "output_type": "stream",
     "text": [
      "Saved 1 image to \u001b[1m..\\data\\detections\\lobelia4cosmetics665\u001b[0m\n"
     ]
    },
    {
     "name": "stdout",
     "output_type": "stream",
     "text": [
      "Detected bottle with confidence 0.41\n"
     ]
    },
    {
     "name": "stderr",
     "output_type": "stream",
     "text": [
      "Saved 1 image to \u001b[1m..\\data\\detections\\lobelia4cosmetics666\u001b[0m\n"
     ]
    },
    {
     "name": "stdout",
     "output_type": "stream",
     "text": [
      "Detected tie with confidence 0.46\n"
     ]
    },
    {
     "name": "stderr",
     "output_type": "stream",
     "text": [
      "Saved 1 image to \u001b[1m..\\data\\detections\\lobelia4cosmetics667\u001b[0m\n"
     ]
    },
    {
     "name": "stdout",
     "output_type": "stream",
     "text": [
      "Detected tie with confidence 0.48\n"
     ]
    },
    {
     "name": "stderr",
     "output_type": "stream",
     "text": [
      "Saved 1 image to \u001b[1m..\\data\\detections\\lobelia4cosmetics668\u001b[0m\n",
      "Saved 1 image to \u001b[1m..\\data\\detections\\lobelia4cosmetics669\u001b[0m\n",
      "Saved 1 image to \u001b[1m..\\data\\detections\\lobelia4cosmetics670\u001b[0m\n",
      "Saved 1 image to \u001b[1m..\\data\\detections\\lobelia4cosmetics671\u001b[0m\n",
      "Saved 1 image to \u001b[1m..\\data\\detections\\lobelia4cosmetics672\u001b[0m\n",
      "Saved 1 image to \u001b[1m..\\data\\detections\\lobelia4cosmetics673\u001b[0m\n",
      "Saved 1 image to \u001b[1m..\\data\\detections\\lobelia4cosmetics674\u001b[0m\n",
      "Saved 1 image to \u001b[1m..\\data\\detections\\lobelia4cosmetics675\u001b[0m\n",
      "Saved 1 image to \u001b[1m..\\data\\detections\\lobelia4cosmetics676\u001b[0m\n"
     ]
    },
    {
     "name": "stdout",
     "output_type": "stream",
     "text": [
      "Detected book with confidence 0.33\n"
     ]
    },
    {
     "name": "stderr",
     "output_type": "stream",
     "text": [
      "Saved 1 image to \u001b[1m..\\data\\detections\\lobelia4cosmetics677\u001b[0m\n",
      "Saved 1 image to \u001b[1m..\\data\\detections\\lobelia4cosmetics678\u001b[0m\n",
      "Saved 1 image to \u001b[1m..\\data\\detections\\lobelia4cosmetics679\u001b[0m\n",
      "Saved 1 image to \u001b[1m..\\data\\detections\\lobelia4cosmetics680\u001b[0m\n",
      "Saved 1 image to \u001b[1m..\\data\\detections\\lobelia4cosmetics681\u001b[0m\n",
      "Saved 1 image to \u001b[1m..\\data\\detections\\lobelia4cosmetics682\u001b[0m\n",
      "Saved 1 image to \u001b[1m..\\data\\detections\\lobelia4cosmetics683\u001b[0m\n",
      "Saved 1 image to \u001b[1m..\\data\\detections\\lobelia4cosmetics684\u001b[0m\n",
      "Saved 1 image to \u001b[1m..\\data\\detections\\lobelia4cosmetics685\u001b[0m\n",
      "Saved 1 image to \u001b[1m..\\data\\detections\\lobelia4cosmetics686\u001b[0m\n",
      "Saved 1 image to \u001b[1m..\\data\\detections\\lobelia4cosmetics687\u001b[0m\n",
      "Saved 1 image to \u001b[1m..\\data\\detections\\lobelia4cosmetics688\u001b[0m\n"
     ]
    },
    {
     "name": "stdout",
     "output_type": "stream",
     "text": [
      "Detected book with confidence 0.26\n"
     ]
    },
    {
     "name": "stderr",
     "output_type": "stream",
     "text": [
      "Saved 1 image to \u001b[1m..\\data\\detections\\lobelia4cosmetics689\u001b[0m\n"
     ]
    },
    {
     "name": "stdout",
     "output_type": "stream",
     "text": [
      "Detected book with confidence 0.26\n"
     ]
    },
    {
     "name": "stderr",
     "output_type": "stream",
     "text": [
      "Saved 1 image to \u001b[1m..\\data\\detections\\lobelia4cosmetics690\u001b[0m\n",
      "Saved 1 image to \u001b[1m..\\data\\detections\\lobelia4cosmetics691\u001b[0m\n",
      "Saved 1 image to \u001b[1m..\\data\\detections\\lobelia4cosmetics692\u001b[0m\n",
      "Saved 1 image to \u001b[1m..\\data\\detections\\lobelia4cosmetics693\u001b[0m\n",
      "Saved 1 image to \u001b[1m..\\data\\detections\\lobelia4cosmetics694\u001b[0m\n"
     ]
    },
    {
     "name": "stdout",
     "output_type": "stream",
     "text": [
      "Detected cup with confidence 0.25\n"
     ]
    },
    {
     "name": "stderr",
     "output_type": "stream",
     "text": [
      "Saved 1 image to \u001b[1m..\\data\\detections\\lobelia4cosmetics695\u001b[0m\n"
     ]
    },
    {
     "name": "stdout",
     "output_type": "stream",
     "text": [
      "Detected cup with confidence 0.34\n"
     ]
    },
    {
     "name": "stderr",
     "output_type": "stream",
     "text": [
      "Saved 1 image to \u001b[1m..\\data\\detections\\lobelia4cosmetics696\u001b[0m\n"
     ]
    },
    {
     "name": "stdout",
     "output_type": "stream",
     "text": [
      "Detected cup with confidence 0.34\n"
     ]
    },
    {
     "name": "stderr",
     "output_type": "stream",
     "text": [
      "Saved 1 image to \u001b[1m..\\data\\detections\\lobelia4cosmetics697\u001b[0m\n",
      "Saved 1 image to \u001b[1m..\\data\\detections\\lobelia4cosmetics698\u001b[0m\n",
      "Saved 1 image to \u001b[1m..\\data\\detections\\lobelia4cosmetics699\u001b[0m\n",
      "Saved 1 image to \u001b[1m..\\data\\detections\\lobelia4cosmetics700\u001b[0m\n",
      "Saved 1 image to \u001b[1m..\\data\\detections\\lobelia4cosmetics701\u001b[0m\n",
      "Saved 1 image to \u001b[1m..\\data\\detections\\lobelia4cosmetics702\u001b[0m\n",
      "Saved 1 image to \u001b[1m..\\data\\detections\\lobelia4cosmetics703\u001b[0m\n",
      "Saved 1 image to \u001b[1m..\\data\\detections\\lobelia4cosmetics704\u001b[0m\n",
      "Saved 1 image to \u001b[1m..\\data\\detections\\lobelia4cosmetics705\u001b[0m\n",
      "Saved 1 image to \u001b[1m..\\data\\detections\\lobelia4cosmetics706\u001b[0m\n",
      "Saved 1 image to \u001b[1m..\\data\\detections\\lobelia4cosmetics707\u001b[0m\n",
      "Saved 1 image to \u001b[1m..\\data\\detections\\lobelia4cosmetics708\u001b[0m\n",
      "Saved 1 image to \u001b[1m..\\data\\detections\\lobelia4cosmetics709\u001b[0m\n",
      "Saved 1 image to \u001b[1m..\\data\\detections\\lobelia4cosmetics710\u001b[0m\n",
      "Saved 1 image to \u001b[1m..\\data\\detections\\lobelia4cosmetics711\u001b[0m\n",
      "Saved 1 image to \u001b[1m..\\data\\detections\\lobelia4cosmetics712\u001b[0m\n",
      "Saved 1 image to \u001b[1m..\\data\\detections\\lobelia4cosmetics713\u001b[0m\n",
      "Saved 1 image to \u001b[1m..\\data\\detections\\lobelia4cosmetics714\u001b[0m\n",
      "Saved 1 image to \u001b[1m..\\data\\detections\\lobelia4cosmetics715\u001b[0m\n"
     ]
    },
    {
     "name": "stdout",
     "output_type": "stream",
     "text": [
      "Detected bottle with confidence 0.66\n"
     ]
    },
    {
     "name": "stderr",
     "output_type": "stream",
     "text": [
      "Saved 1 image to \u001b[1m..\\data\\detections\\lobelia4cosmetics716\u001b[0m\n"
     ]
    },
    {
     "name": "stdout",
     "output_type": "stream",
     "text": [
      "Detected bottle with confidence 0.63\n"
     ]
    },
    {
     "name": "stderr",
     "output_type": "stream",
     "text": [
      "Saved 1 image to \u001b[1m..\\data\\detections\\lobelia4cosmetics717\u001b[0m\n"
     ]
    },
    {
     "name": "stdout",
     "output_type": "stream",
     "text": [
      "Detected bottle with confidence 0.63\n"
     ]
    },
    {
     "name": "stderr",
     "output_type": "stream",
     "text": [
      "Saved 1 image to \u001b[1m..\\data\\detections\\lobelia4cosmetics718\u001b[0m\n",
      "Saved 1 image to \u001b[1m..\\data\\detections\\lobelia4cosmetics719\u001b[0m\n"
     ]
    },
    {
     "name": "stdout",
     "output_type": "stream",
     "text": [
      "Detected parking meter with confidence 0.33\n"
     ]
    },
    {
     "name": "stderr",
     "output_type": "stream",
     "text": [
      "Saved 1 image to \u001b[1m..\\data\\detections\\lobelia4cosmetics720\u001b[0m\n",
      "Saved 1 image to \u001b[1m..\\data\\detections\\lobelia4cosmetics721\u001b[0m\n"
     ]
    },
    {
     "name": "stdout",
     "output_type": "stream",
     "text": [
      "Detected cell phone with confidence 0.32\n"
     ]
    },
    {
     "name": "stderr",
     "output_type": "stream",
     "text": [
      "Saved 1 image to \u001b[1m..\\data\\detections\\lobelia4cosmetics722\u001b[0m\n"
     ]
    },
    {
     "name": "stdout",
     "output_type": "stream",
     "text": [
      "Detected cell phone with confidence 0.32\n"
     ]
    },
    {
     "name": "stderr",
     "output_type": "stream",
     "text": [
      "Saved 1 image to \u001b[1m..\\data\\detections\\lobelia4cosmetics723\u001b[0m\n"
     ]
    },
    {
     "name": "stdout",
     "output_type": "stream",
     "text": [
      "Detected vase with confidence 0.51\n",
      "Detected bottle with confidence 0.43\n"
     ]
    },
    {
     "name": "stderr",
     "output_type": "stream",
     "text": [
      "Saved 1 image to \u001b[1m..\\data\\detections\\lobelia4cosmetics724\u001b[0m\n"
     ]
    },
    {
     "name": "stdout",
     "output_type": "stream",
     "text": [
      "Detected bottle with confidence 0.48\n",
      "Detected vase with confidence 0.25\n"
     ]
    },
    {
     "name": "stderr",
     "output_type": "stream",
     "text": [
      "Saved 1 image to \u001b[1m..\\data\\detections\\lobelia4cosmetics725\u001b[0m\n"
     ]
    },
    {
     "name": "stdout",
     "output_type": "stream",
     "text": [
      "Detected bottle with confidence 0.48\n",
      "Detected vase with confidence 0.25\n"
     ]
    },
    {
     "name": "stderr",
     "output_type": "stream",
     "text": [
      "Saved 1 image to \u001b[1m..\\data\\detections\\lobelia4cosmetics726\u001b[0m\n"
     ]
    },
    {
     "name": "stdout",
     "output_type": "stream",
     "text": [
      "Detected bottle with confidence 0.48\n",
      "Detected vase with confidence 0.25\n"
     ]
    },
    {
     "name": "stderr",
     "output_type": "stream",
     "text": [
      "Saved 1 image to \u001b[1m..\\data\\detections\\lobelia4cosmetics727\u001b[0m\n",
      "Saved 1 image to \u001b[1m..\\data\\detections\\lobelia4cosmetics728\u001b[0m\n",
      "Saved 1 image to \u001b[1m..\\data\\detections\\lobelia4cosmetics729\u001b[0m\n",
      "Saved 1 image to \u001b[1m..\\data\\detections\\lobelia4cosmetics730\u001b[0m\n"
     ]
    },
    {
     "name": "stdout",
     "output_type": "stream",
     "text": [
      "Detected bottle with confidence 0.28\n"
     ]
    },
    {
     "name": "stderr",
     "output_type": "stream",
     "text": [
      "Saved 1 image to \u001b[1m..\\data\\detections\\lobelia4cosmetics731\u001b[0m\n"
     ]
    },
    {
     "name": "stdout",
     "output_type": "stream",
     "text": [
      "Detected bottle with confidence 0.27\n"
     ]
    },
    {
     "name": "stderr",
     "output_type": "stream",
     "text": [
      "Saved 1 image to \u001b[1m..\\data\\detections\\lobelia4cosmetics732\u001b[0m\n",
      "Saved 1 image to \u001b[1m..\\data\\detections\\lobelia4cosmetics733\u001b[0m\n",
      "Saved 1 image to \u001b[1m..\\data\\detections\\lobelia4cosmetics734\u001b[0m\n",
      "Saved 1 image to \u001b[1m..\\data\\detections\\lobelia4cosmetics735\u001b[0m\n",
      "Saved 1 image to \u001b[1m..\\data\\detections\\lobelia4cosmetics736\u001b[0m\n",
      "Saved 1 image to \u001b[1m..\\data\\detections\\lobelia4cosmetics737\u001b[0m\n",
      "Saved 1 image to \u001b[1m..\\data\\detections\\lobelia4cosmetics738\u001b[0m\n",
      "Saved 1 image to \u001b[1m..\\data\\detections\\lobelia4cosmetics739\u001b[0m\n",
      "Saved 1 image to \u001b[1m..\\data\\detections\\lobelia4cosmetics740\u001b[0m\n",
      "Saved 1 image to \u001b[1m..\\data\\detections\\lobelia4cosmetics741\u001b[0m\n",
      "Saved 1 image to \u001b[1m..\\data\\detections\\lobelia4cosmetics742\u001b[0m\n",
      "Saved 1 image to \u001b[1m..\\data\\detections\\lobelia4cosmetics743\u001b[0m\n"
     ]
    },
    {
     "name": "stdout",
     "output_type": "stream",
     "text": [
      "Detected bottle with confidence 0.35\n"
     ]
    },
    {
     "name": "stderr",
     "output_type": "stream",
     "text": [
      "Saved 1 image to \u001b[1m..\\data\\detections\\lobelia4cosmetics744\u001b[0m\n"
     ]
    },
    {
     "name": "stdout",
     "output_type": "stream",
     "text": [
      "Detected bottle with confidence 0.33\n"
     ]
    },
    {
     "name": "stderr",
     "output_type": "stream",
     "text": [
      "Saved 1 image to \u001b[1m..\\data\\detections\\lobelia4cosmetics745\u001b[0m\n",
      "Saved 1 image to \u001b[1m..\\data\\detections\\lobelia4cosmetics746\u001b[0m\n",
      "Saved 1 image to \u001b[1m..\\data\\detections\\lobelia4cosmetics747\u001b[0m\n"
     ]
    },
    {
     "name": "stdout",
     "output_type": "stream",
     "text": [
      "Detected bottle with confidence 0.58\n"
     ]
    },
    {
     "name": "stderr",
     "output_type": "stream",
     "text": [
      "Saved 1 image to \u001b[1m..\\data\\detections\\lobelia4cosmetics748\u001b[0m\n"
     ]
    },
    {
     "name": "stdout",
     "output_type": "stream",
     "text": [
      "Detected bottle with confidence 0.64\n"
     ]
    },
    {
     "name": "stderr",
     "output_type": "stream",
     "text": [
      "Saved 1 image to \u001b[1m..\\data\\detections\\lobelia4cosmetics749\u001b[0m\n"
     ]
    },
    {
     "name": "stdout",
     "output_type": "stream",
     "text": [
      "Detected bottle with confidence 0.64\n"
     ]
    },
    {
     "name": "stderr",
     "output_type": "stream",
     "text": [
      "Saved 1 image to \u001b[1m..\\data\\detections\\lobelia4cosmetics750\u001b[0m\n"
     ]
    },
    {
     "name": "stdout",
     "output_type": "stream",
     "text": [
      "Detected bottle with confidence 0.56\n"
     ]
    },
    {
     "name": "stderr",
     "output_type": "stream",
     "text": [
      "Saved 1 image to \u001b[1m..\\data\\detections\\lobelia4cosmetics751\u001b[0m\n"
     ]
    },
    {
     "name": "stdout",
     "output_type": "stream",
     "text": [
      "Detected bottle with confidence 0.56\n"
     ]
    },
    {
     "name": "stderr",
     "output_type": "stream",
     "text": [
      "Saved 1 image to \u001b[1m..\\data\\detections\\lobelia4cosmetics752\u001b[0m\n"
     ]
    },
    {
     "name": "stdout",
     "output_type": "stream",
     "text": [
      "Detected bottle with confidence 0.51\n",
      "Detected bottle with confidence 0.32\n"
     ]
    },
    {
     "name": "stderr",
     "output_type": "stream",
     "text": [
      "Saved 1 image to \u001b[1m..\\data\\detections\\lobelia4cosmetics753\u001b[0m\n"
     ]
    },
    {
     "name": "stdout",
     "output_type": "stream",
     "text": [
      "Detected bottle with confidence 0.64\n",
      "Detected bottle with confidence 0.41\n"
     ]
    },
    {
     "name": "stderr",
     "output_type": "stream",
     "text": [
      "Saved 1 image to \u001b[1m..\\data\\detections\\lobelia4cosmetics754\u001b[0m\n",
      "Saved 1 image to \u001b[1m..\\data\\detections\\lobelia4cosmetics755\u001b[0m\n",
      "Saved 1 image to \u001b[1m..\\data\\detections\\lobelia4cosmetics756\u001b[0m\n"
     ]
    },
    {
     "name": "stdout",
     "output_type": "stream",
     "text": [
      "Detected tie with confidence 0.66\n"
     ]
    },
    {
     "name": "stderr",
     "output_type": "stream",
     "text": [
      "Saved 1 image to \u001b[1m..\\data\\detections\\lobelia4cosmetics757\u001b[0m\n"
     ]
    },
    {
     "name": "stdout",
     "output_type": "stream",
     "text": [
      "Detected tie with confidence 0.62\n"
     ]
    },
    {
     "name": "stderr",
     "output_type": "stream",
     "text": [
      "Saved 1 image to \u001b[1m..\\data\\detections\\lobelia4cosmetics758\u001b[0m\n"
     ]
    },
    {
     "name": "stdout",
     "output_type": "stream",
     "text": [
      "Detected tie with confidence 0.62\n"
     ]
    },
    {
     "name": "stderr",
     "output_type": "stream",
     "text": [
      "Saved 1 image to \u001b[1m..\\data\\detections\\lobelia4cosmetics759\u001b[0m\n"
     ]
    },
    {
     "name": "stdout",
     "output_type": "stream",
     "text": [
      "Detected bottle with confidence 0.51\n",
      "Detected bottle with confidence 0.42\n",
      "Detected tie with confidence 0.33\n"
     ]
    },
    {
     "name": "stderr",
     "output_type": "stream",
     "text": [
      "Saved 1 image to \u001b[1m..\\data\\detections\\lobelia4cosmetics760\u001b[0m\n"
     ]
    },
    {
     "name": "stdout",
     "output_type": "stream",
     "text": [
      "Detected bottle with confidence 0.67\n",
      "Detected bottle with confidence 0.60\n"
     ]
    },
    {
     "name": "stderr",
     "output_type": "stream",
     "text": [
      "Saved 1 image to \u001b[1m..\\data\\detections\\lobelia4cosmetics761\u001b[0m\n",
      "Saved 1 image to \u001b[1m..\\data\\detections\\lobelia4cosmetics762\u001b[0m\n",
      "Saved 1 image to \u001b[1m..\\data\\detections\\lobelia4cosmetics763\u001b[0m\n",
      "Saved 1 image to \u001b[1m..\\data\\detections\\lobelia4cosmetics764\u001b[0m\n",
      "Saved 1 image to \u001b[1m..\\data\\detections\\lobelia4cosmetics765\u001b[0m\n",
      "Saved 1 image to \u001b[1m..\\data\\detections\\lobelia4cosmetics766\u001b[0m\n",
      "Saved 1 image to \u001b[1m..\\data\\detections\\lobelia4cosmetics767\u001b[0m\n",
      "Saved 1 image to \u001b[1m..\\data\\detections\\lobelia4cosmetics768\u001b[0m\n",
      "Saved 1 image to \u001b[1m..\\data\\detections\\lobelia4cosmetics769\u001b[0m\n",
      "Saved 1 image to \u001b[1m..\\data\\detections\\lobelia4cosmetics770\u001b[0m\n",
      "Saved 1 image to \u001b[1m..\\data\\detections\\lobelia4cosmetics771\u001b[0m\n",
      "Saved 1 image to \u001b[1m..\\data\\detections\\lobelia4cosmetics772\u001b[0m\n",
      "Saved 1 image to \u001b[1m..\\data\\detections\\lobelia4cosmetics773\u001b[0m\n",
      "Saved 1 image to \u001b[1m..\\data\\detections\\lobelia4cosmetics774\u001b[0m\n",
      "Saved 1 image to \u001b[1m..\\data\\detections\\lobelia4cosmetics775\u001b[0m\n",
      "Saved 1 image to \u001b[1m..\\data\\detections\\lobelia4cosmetics776\u001b[0m\n",
      "Saved 1 image to \u001b[1m..\\data\\detections\\lobelia4cosmetics777\u001b[0m\n",
      "Saved 1 image to \u001b[1m..\\data\\detections\\lobelia4cosmetics778\u001b[0m\n",
      "Saved 1 image to \u001b[1m..\\data\\detections\\lobelia4cosmetics779\u001b[0m\n",
      "Saved 1 image to \u001b[1m..\\data\\detections\\lobelia4cosmetics780\u001b[0m\n",
      "Saved 1 image to \u001b[1m..\\data\\detections\\lobelia4cosmetics781\u001b[0m\n",
      "Saved 1 image to \u001b[1m..\\data\\detections\\lobelia4cosmetics782\u001b[0m\n"
     ]
    },
    {
     "name": "stdout",
     "output_type": "stream",
     "text": [
      "Detected bus with confidence 0.54\n"
     ]
    },
    {
     "name": "stderr",
     "output_type": "stream",
     "text": [
      "Saved 1 image to \u001b[1m..\\data\\detections\\lobelia4cosmetics783\u001b[0m\n"
     ]
    },
    {
     "name": "stdout",
     "output_type": "stream",
     "text": [
      "Detected cell phone with confidence 0.31\n",
      "Detected bus with confidence 0.26\n"
     ]
    },
    {
     "name": "stderr",
     "output_type": "stream",
     "text": [
      "Saved 1 image to \u001b[1m..\\data\\detections\\lobelia4cosmetics784\u001b[0m\n"
     ]
    },
    {
     "name": "stdout",
     "output_type": "stream",
     "text": [
      "Detected cell phone with confidence 0.31\n",
      "Detected bus with confidence 0.26\n"
     ]
    },
    {
     "name": "stderr",
     "output_type": "stream",
     "text": [
      "Saved 1 image to \u001b[1m..\\data\\detections\\lobelia4cosmetics785\u001b[0m\n",
      "Saved 1 image to \u001b[1m..\\data\\detections\\lobelia4cosmetics786\u001b[0m\n",
      "Saved 1 image to \u001b[1m..\\data\\detections\\lobelia4cosmetics787\u001b[0m\n",
      "Saved 1 image to \u001b[1m..\\data\\detections\\lobelia4cosmetics788\u001b[0m\n",
      "Saved 1 image to \u001b[1m..\\data\\detections\\lobelia4cosmetics789\u001b[0m\n",
      "Saved 1 image to \u001b[1m..\\data\\detections\\lobelia4cosmetics790\u001b[0m\n",
      "Saved 1 image to \u001b[1m..\\data\\detections\\lobelia4cosmetics791\u001b[0m\n",
      "Saved 1 image to \u001b[1m..\\data\\detections\\lobelia4cosmetics792\u001b[0m\n",
      "Saved 1 image to \u001b[1m..\\data\\detections\\lobelia4cosmetics793\u001b[0m\n",
      "Saved 1 image to \u001b[1m..\\data\\detections\\lobelia4cosmetics794\u001b[0m\n",
      "Saved 1 image to \u001b[1m..\\data\\detections\\lobelia4cosmetics795\u001b[0m\n",
      "Saved 1 image to \u001b[1m..\\data\\detections\\lobelia4cosmetics796\u001b[0m\n",
      "Saved 1 image to \u001b[1m..\\data\\detections\\lobelia4cosmetics797\u001b[0m\n",
      "Saved 1 image to \u001b[1m..\\data\\detections\\lobelia4cosmetics798\u001b[0m\n",
      "Saved 1 image to \u001b[1m..\\data\\detections\\lobelia4cosmetics799\u001b[0m\n",
      "Saved 1 image to \u001b[1m..\\data\\detections\\lobelia4cosmetics800\u001b[0m\n",
      "Saved 1 image to \u001b[1m..\\data\\detections\\lobelia4cosmetics801\u001b[0m\n",
      "Saved 1 image to \u001b[1m..\\data\\detections\\lobelia4cosmetics802\u001b[0m\n",
      "Saved 1 image to \u001b[1m..\\data\\detections\\lobelia4cosmetics803\u001b[0m\n",
      "Saved 1 image to \u001b[1m..\\data\\detections\\lobelia4cosmetics804\u001b[0m\n",
      "Saved 1 image to \u001b[1m..\\data\\detections\\lobelia4cosmetics805\u001b[0m\n",
      "Saved 1 image to \u001b[1m..\\data\\detections\\lobelia4cosmetics806\u001b[0m\n",
      "Saved 1 image to \u001b[1m..\\data\\detections\\lobelia4cosmetics807\u001b[0m\n",
      "Saved 1 image to \u001b[1m..\\data\\detections\\lobelia4cosmetics808\u001b[0m\n",
      "Saved 1 image to \u001b[1m..\\data\\detections\\lobelia4cosmetics809\u001b[0m\n",
      "Saved 1 image to \u001b[1m..\\data\\detections\\lobelia4cosmetics810\u001b[0m\n",
      "Saved 1 image to \u001b[1m..\\data\\detections\\lobelia4cosmetics811\u001b[0m\n",
      "Saved 1 image to \u001b[1m..\\data\\detections\\lobelia4cosmetics812\u001b[0m\n",
      "Saved 1 image to \u001b[1m..\\data\\detections\\lobelia4cosmetics813\u001b[0m\n",
      "Saved 1 image to \u001b[1m..\\data\\detections\\lobelia4cosmetics814\u001b[0m\n",
      "Saved 1 image to \u001b[1m..\\data\\detections\\lobelia4cosmetics815\u001b[0m\n",
      "Saved 1 image to \u001b[1m..\\data\\detections\\lobelia4cosmetics816\u001b[0m\n",
      "Saved 1 image to \u001b[1m..\\data\\detections\\lobelia4cosmetics817\u001b[0m\n",
      "Saved 1 image to \u001b[1m..\\data\\detections\\lobelia4cosmetics818\u001b[0m\n",
      "Saved 1 image to \u001b[1m..\\data\\detections\\lobelia4cosmetics819\u001b[0m\n"
     ]
    },
    {
     "name": "stdout",
     "output_type": "stream",
     "text": [
      "Detected book with confidence 0.58\n",
      "Detected book with confidence 0.50\n"
     ]
    },
    {
     "name": "stderr",
     "output_type": "stream",
     "text": [
      "Saved 1 image to \u001b[1m..\\data\\detections\\lobelia4cosmetics820\u001b[0m\n"
     ]
    },
    {
     "name": "stdout",
     "output_type": "stream",
     "text": [
      "Detected book with confidence 0.58\n",
      "Detected book with confidence 0.57\n"
     ]
    },
    {
     "name": "stderr",
     "output_type": "stream",
     "text": [
      "Saved 1 image to \u001b[1m..\\data\\detections\\lobelia4cosmetics821\u001b[0m\n"
     ]
    },
    {
     "name": "stdout",
     "output_type": "stream",
     "text": [
      "Detected bottle with confidence 0.57\n"
     ]
    },
    {
     "name": "stderr",
     "output_type": "stream",
     "text": [
      "Saved 1 image to \u001b[1m..\\data\\detections\\lobelia4cosmetics822\u001b[0m\n"
     ]
    },
    {
     "name": "stdout",
     "output_type": "stream",
     "text": [
      "Detected bottle with confidence 0.54\n"
     ]
    },
    {
     "name": "stderr",
     "output_type": "stream",
     "text": [
      "Saved 1 image to \u001b[1m..\\data\\detections\\lobelia4cosmetics823\u001b[0m\n"
     ]
    },
    {
     "name": "stdout",
     "output_type": "stream",
     "text": [
      "Detected bottle with confidence 0.63\n"
     ]
    },
    {
     "name": "stderr",
     "output_type": "stream",
     "text": [
      "Saved 1 image to \u001b[1m..\\data\\detections\\lobelia4cosmetics824\u001b[0m\n"
     ]
    },
    {
     "name": "stdout",
     "output_type": "stream",
     "text": [
      "Detected bottle with confidence 0.68\n"
     ]
    },
    {
     "name": "stderr",
     "output_type": "stream",
     "text": [
      "Saved 1 image to \u001b[1m..\\data\\detections\\lobelia4cosmetics825\u001b[0m\n"
     ]
    },
    {
     "name": "stdout",
     "output_type": "stream",
     "text": [
      "Detected bottle with confidence 0.68\n"
     ]
    },
    {
     "name": "stderr",
     "output_type": "stream",
     "text": [
      "Saved 1 image to \u001b[1m..\\data\\detections\\lobelia4cosmetics826\u001b[0m\n"
     ]
    },
    {
     "name": "stdout",
     "output_type": "stream",
     "text": [
      "Detected bottle with confidence 0.68\n"
     ]
    },
    {
     "name": "stderr",
     "output_type": "stream",
     "text": [
      "Saved 1 image to \u001b[1m..\\data\\detections\\lobelia4cosmetics827\u001b[0m\n"
     ]
    },
    {
     "name": "stdout",
     "output_type": "stream",
     "text": [
      "Detected bottle with confidence 0.48\n"
     ]
    },
    {
     "name": "stderr",
     "output_type": "stream",
     "text": [
      "Saved 1 image to \u001b[1m..\\data\\detections\\lobelia4cosmetics828\u001b[0m\n"
     ]
    },
    {
     "name": "stdout",
     "output_type": "stream",
     "text": [
      "Detected bottle with confidence 0.47\n"
     ]
    },
    {
     "name": "stderr",
     "output_type": "stream",
     "text": [
      "Saved 1 image to \u001b[1m..\\data\\detections\\lobelia4cosmetics829\u001b[0m\n",
      "Saved 1 image to \u001b[1m..\\data\\detections\\lobelia4cosmetics830\u001b[0m\n",
      "Saved 1 image to \u001b[1m..\\data\\detections\\lobelia4cosmetics831\u001b[0m\n",
      "Saved 1 image to \u001b[1m..\\data\\detections\\lobelia4cosmetics832\u001b[0m\n",
      "Saved 1 image to \u001b[1m..\\data\\detections\\lobelia4cosmetics833\u001b[0m\n",
      "Saved 1 image to \u001b[1m..\\data\\detections\\lobelia4cosmetics834\u001b[0m\n",
      "Saved 1 image to \u001b[1m..\\data\\detections\\lobelia4cosmetics835\u001b[0m\n",
      "Saved 1 image to \u001b[1m..\\data\\detections\\lobelia4cosmetics836\u001b[0m\n",
      "Saved 1 image to \u001b[1m..\\data\\detections\\lobelia4cosmetics837\u001b[0m\n",
      "Saved 1 image to \u001b[1m..\\data\\detections\\lobelia4cosmetics838\u001b[0m\n",
      "Saved 1 image to \u001b[1m..\\data\\detections\\lobelia4cosmetics839\u001b[0m\n"
     ]
    },
    {
     "name": "stdout",
     "output_type": "stream",
     "text": [
      "Detected bottle with confidence 0.55\n"
     ]
    },
    {
     "name": "stderr",
     "output_type": "stream",
     "text": [
      "Saved 1 image to \u001b[1m..\\data\\detections\\lobelia4cosmetics840\u001b[0m\n"
     ]
    },
    {
     "name": "stdout",
     "output_type": "stream",
     "text": [
      "Detected bottle with confidence 0.52\n"
     ]
    },
    {
     "name": "stderr",
     "output_type": "stream",
     "text": [
      "Saved 1 image to \u001b[1m..\\data\\detections\\lobelia4cosmetics841\u001b[0m\n"
     ]
    },
    {
     "name": "stdout",
     "output_type": "stream",
     "text": [
      "Detected bottle with confidence 0.52\n"
     ]
    },
    {
     "name": "stderr",
     "output_type": "stream",
     "text": [
      "Saved 1 image to \u001b[1m..\\data\\detections\\lobelia4cosmetics842\u001b[0m\n"
     ]
    },
    {
     "name": "stdout",
     "output_type": "stream",
     "text": [
      "Detected bottle with confidence 0.55\n"
     ]
    },
    {
     "name": "stderr",
     "output_type": "stream",
     "text": [
      "Saved 1 image to \u001b[1m..\\data\\detections\\lobelia4cosmetics843\u001b[0m\n"
     ]
    },
    {
     "name": "stdout",
     "output_type": "stream",
     "text": [
      "Detected bottle with confidence 0.46\n"
     ]
    },
    {
     "name": "stderr",
     "output_type": "stream",
     "text": [
      "Saved 1 image to \u001b[1m..\\data\\detections\\lobelia4cosmetics844\u001b[0m\n"
     ]
    },
    {
     "name": "stdout",
     "output_type": "stream",
     "text": [
      "Detected bottle with confidence 0.46\n"
     ]
    },
    {
     "name": "stderr",
     "output_type": "stream",
     "text": [
      "Saved 1 image to \u001b[1m..\\data\\detections\\lobelia4cosmetics845\u001b[0m\n"
     ]
    },
    {
     "name": "stdout",
     "output_type": "stream",
     "text": [
      "Detected bottle with confidence 0.46\n"
     ]
    },
    {
     "name": "stderr",
     "output_type": "stream",
     "text": [
      "Saved 1 image to \u001b[1m..\\data\\detections\\lobelia4cosmetics846\u001b[0m\n"
     ]
    },
    {
     "name": "stdout",
     "output_type": "stream",
     "text": [
      "Detected bottle with confidence 0.46\n"
     ]
    },
    {
     "name": "stderr",
     "output_type": "stream",
     "text": [
      "Saved 1 image to \u001b[1m..\\data\\detections\\lobelia4cosmetics847\u001b[0m\n"
     ]
    },
    {
     "name": "stdout",
     "output_type": "stream",
     "text": [
      "Detected bottle with confidence 0.46\n"
     ]
    },
    {
     "name": "stderr",
     "output_type": "stream",
     "text": [
      "Saved 1 image to \u001b[1m..\\data\\detections\\lobelia4cosmetics848\u001b[0m\n"
     ]
    },
    {
     "name": "stdout",
     "output_type": "stream",
     "text": [
      "Detected bottle with confidence 0.46\n"
     ]
    },
    {
     "name": "stderr",
     "output_type": "stream",
     "text": [
      "Saved 1 image to \u001b[1m..\\data\\detections\\lobelia4cosmetics849\u001b[0m\n"
     ]
    },
    {
     "name": "stdout",
     "output_type": "stream",
     "text": [
      "Detected bottle with confidence 0.46\n"
     ]
    },
    {
     "name": "stderr",
     "output_type": "stream",
     "text": [
      "Saved 1 image to \u001b[1m..\\data\\detections\\lobelia4cosmetics850\u001b[0m\n"
     ]
    },
    {
     "name": "stdout",
     "output_type": "stream",
     "text": [
      "Detected bottle with confidence 0.46\n"
     ]
    },
    {
     "name": "stderr",
     "output_type": "stream",
     "text": [
      "Saved 1 image to \u001b[1m..\\data\\detections\\lobelia4cosmetics851\u001b[0m\n"
     ]
    },
    {
     "name": "stdout",
     "output_type": "stream",
     "text": [
      "Detected bottle with confidence 0.46\n"
     ]
    },
    {
     "name": "stderr",
     "output_type": "stream",
     "text": [
      "Saved 1 image to \u001b[1m..\\data\\detections\\lobelia4cosmetics852\u001b[0m\n"
     ]
    },
    {
     "name": "stdout",
     "output_type": "stream",
     "text": [
      "Detected vase with confidence 0.39\n"
     ]
    },
    {
     "name": "stderr",
     "output_type": "stream",
     "text": [
      "Saved 1 image to \u001b[1m..\\data\\detections\\lobelia4cosmetics853\u001b[0m\n"
     ]
    },
    {
     "name": "stdout",
     "output_type": "stream",
     "text": [
      "Detected vase with confidence 0.35\n"
     ]
    },
    {
     "name": "stderr",
     "output_type": "stream",
     "text": [
      "Saved 1 image to \u001b[1m..\\data\\detections\\lobelia4cosmetics854\u001b[0m\n",
      "Saved 1 image to \u001b[1m..\\data\\detections\\lobelia4cosmetics855\u001b[0m\n",
      "Saved 1 image to \u001b[1m..\\data\\detections\\lobelia4cosmetics856\u001b[0m\n",
      "Saved 1 image to \u001b[1m..\\data\\detections\\lobelia4cosmetics857\u001b[0m\n",
      "Saved 1 image to \u001b[1m..\\data\\detections\\lobelia4cosmetics858\u001b[0m\n",
      "Saved 1 image to \u001b[1m..\\data\\detections\\lobelia4cosmetics859\u001b[0m\n",
      "Saved 1 image to \u001b[1m..\\data\\detections\\lobelia4cosmetics860\u001b[0m\n",
      "Saved 1 image to \u001b[1m..\\data\\detections\\lobelia4cosmetics861\u001b[0m\n",
      "Saved 1 image to \u001b[1m..\\data\\detections\\lobelia4cosmetics862\u001b[0m\n",
      "Saved 1 image to \u001b[1m..\\data\\detections\\lobelia4cosmetics863\u001b[0m\n",
      "Saved 1 image to \u001b[1m..\\data\\detections\\lobelia4cosmetics864\u001b[0m\n",
      "Saved 1 image to \u001b[1m..\\data\\detections\\lobelia4cosmetics865\u001b[0m\n",
      "Saved 1 image to \u001b[1m..\\data\\detections\\lobelia4cosmetics866\u001b[0m\n",
      "Saved 1 image to \u001b[1m..\\data\\detections\\lobelia4cosmetics867\u001b[0m\n",
      "Saved 1 image to \u001b[1m..\\data\\detections\\lobelia4cosmetics868\u001b[0m\n",
      "Saved 1 image to \u001b[1m..\\data\\detections\\lobelia4cosmetics869\u001b[0m\n",
      "Saved 1 image to \u001b[1m..\\data\\detections\\lobelia4cosmetics870\u001b[0m\n",
      "Saved 1 image to \u001b[1m..\\data\\detections\\lobelia4cosmetics871\u001b[0m\n",
      "Saved 1 image to \u001b[1m..\\data\\detections\\lobelia4cosmetics872\u001b[0m\n",
      "Saved 1 image to \u001b[1m..\\data\\detections\\lobelia4cosmetics873\u001b[0m\n",
      "Saved 1 image to \u001b[1m..\\data\\detections\\lobelia4cosmetics874\u001b[0m\n"
     ]
    },
    {
     "name": "stdout",
     "output_type": "stream",
     "text": [
      "Detected person with confidence 0.54\n"
     ]
    },
    {
     "name": "stderr",
     "output_type": "stream",
     "text": [
      "Saved 1 image to \u001b[1m..\\data\\detections\\lobelia4cosmetics875\u001b[0m\n"
     ]
    },
    {
     "name": "stdout",
     "output_type": "stream",
     "text": [
      "Detected person with confidence 0.75\n"
     ]
    },
    {
     "name": "stderr",
     "output_type": "stream",
     "text": [
      "Saved 1 image to \u001b[1m..\\data\\detections\\lobelia4cosmetics876\u001b[0m\n"
     ]
    },
    {
     "name": "stdout",
     "output_type": "stream",
     "text": [
      "Detected person with confidence 0.75\n"
     ]
    },
    {
     "name": "stderr",
     "output_type": "stream",
     "text": [
      "Saved 1 image to \u001b[1m..\\data\\detections\\lobelia4cosmetics877\u001b[0m\n"
     ]
    },
    {
     "name": "stdout",
     "output_type": "stream",
     "text": [
      "Detected person with confidence 0.75\n"
     ]
    },
    {
     "name": "stderr",
     "output_type": "stream",
     "text": [
      "Saved 1 image to \u001b[1m..\\data\\detections\\lobelia4cosmetics878\u001b[0m\n"
     ]
    },
    {
     "name": "stdout",
     "output_type": "stream",
     "text": [
      "Detected person with confidence 0.75\n"
     ]
    },
    {
     "name": "stderr",
     "output_type": "stream",
     "text": [
      "Saved 1 image to \u001b[1m..\\data\\detections\\lobelia4cosmetics879\u001b[0m\n"
     ]
    },
    {
     "name": "stdout",
     "output_type": "stream",
     "text": [
      "Detected person with confidence 0.75\n"
     ]
    },
    {
     "name": "stderr",
     "output_type": "stream",
     "text": [
      "Saved 1 image to \u001b[1m..\\data\\detections\\lobelia4cosmetics880\u001b[0m\n"
     ]
    },
    {
     "name": "stdout",
     "output_type": "stream",
     "text": [
      "Detected person with confidence 0.75\n"
     ]
    },
    {
     "name": "stderr",
     "output_type": "stream",
     "text": [
      "Saved 1 image to \u001b[1m..\\data\\detections\\lobelia4cosmetics881\u001b[0m\n"
     ]
    },
    {
     "name": "stdout",
     "output_type": "stream",
     "text": [
      "Detected person with confidence 0.75\n"
     ]
    },
    {
     "name": "stderr",
     "output_type": "stream",
     "text": [
      "Saved 1 image to \u001b[1m..\\data\\detections\\lobelia4cosmetics882\u001b[0m\n"
     ]
    },
    {
     "name": "stdout",
     "output_type": "stream",
     "text": [
      "Detected person with confidence 0.75\n"
     ]
    },
    {
     "name": "stderr",
     "output_type": "stream",
     "text": [
      "Saved 1 image to \u001b[1m..\\data\\detections\\lobelia4cosmetics883\u001b[0m\n"
     ]
    },
    {
     "name": "stdout",
     "output_type": "stream",
     "text": [
      "Detected person with confidence 0.75\n"
     ]
    },
    {
     "name": "stderr",
     "output_type": "stream",
     "text": [
      "Saved 1 image to \u001b[1m..\\data\\detections\\lobelia4cosmetics884\u001b[0m\n"
     ]
    },
    {
     "name": "stdout",
     "output_type": "stream",
     "text": [
      "Detected person with confidence 0.75\n"
     ]
    },
    {
     "name": "stderr",
     "output_type": "stream",
     "text": [
      "Saved 1 image to \u001b[1m..\\data\\detections\\lobelia4cosmetics885\u001b[0m\n"
     ]
    },
    {
     "name": "stdout",
     "output_type": "stream",
     "text": [
      "Detected person with confidence 0.75\n"
     ]
    },
    {
     "name": "stderr",
     "output_type": "stream",
     "text": [
      "Saved 1 image to \u001b[1m..\\data\\detections\\lobelia4cosmetics886\u001b[0m\n"
     ]
    },
    {
     "name": "stdout",
     "output_type": "stream",
     "text": [
      "Detected person with confidence 0.75\n"
     ]
    },
    {
     "name": "stderr",
     "output_type": "stream",
     "text": [
      "Saved 1 image to \u001b[1m..\\data\\detections\\lobelia4cosmetics887\u001b[0m\n"
     ]
    },
    {
     "name": "stdout",
     "output_type": "stream",
     "text": [
      "Detected stop sign with confidence 0.28\n"
     ]
    },
    {
     "name": "stderr",
     "output_type": "stream",
     "text": [
      "Saved 1 image to \u001b[1m..\\data\\detections\\lobelia4cosmetics888\u001b[0m\n",
      "Saved 1 image to \u001b[1m..\\data\\detections\\lobelia4cosmetics889\u001b[0m\n",
      "Saved 1 image to \u001b[1m..\\data\\detections\\lobelia4cosmetics890\u001b[0m\n",
      "Saved 1 image to \u001b[1m..\\data\\detections\\lobelia4cosmetics891\u001b[0m\n",
      "Saved 1 image to \u001b[1m..\\data\\detections\\lobelia4cosmetics892\u001b[0m\n",
      "Saved 1 image to \u001b[1m..\\data\\detections\\lobelia4cosmetics893\u001b[0m\n",
      "Saved 1 image to \u001b[1m..\\data\\detections\\lobelia4cosmetics894\u001b[0m\n",
      "Saved 1 image to \u001b[1m..\\data\\detections\\lobelia4cosmetics895\u001b[0m\n",
      "Saved 1 image to \u001b[1m..\\data\\detections\\lobelia4cosmetics896\u001b[0m\n"
     ]
    },
    {
     "name": "stdout",
     "output_type": "stream",
     "text": [
      "Detected bottle with confidence 0.56\n"
     ]
    },
    {
     "name": "stderr",
     "output_type": "stream",
     "text": [
      "Saved 1 image to \u001b[1m..\\data\\detections\\lobelia4cosmetics897\u001b[0m\n"
     ]
    },
    {
     "name": "stdout",
     "output_type": "stream",
     "text": [
      "Detected bottle with confidence 0.67\n"
     ]
    },
    {
     "name": "stderr",
     "output_type": "stream",
     "text": [
      "Saved 1 image to \u001b[1m..\\data\\detections\\lobelia4cosmetics898\u001b[0m\n"
     ]
    },
    {
     "name": "stdout",
     "output_type": "stream",
     "text": [
      "Detected bottle with confidence 0.67\n"
     ]
    },
    {
     "name": "stderr",
     "output_type": "stream",
     "text": [
      "Saved 1 image to \u001b[1m..\\data\\detections\\lobelia4cosmetics899\u001b[0m\n",
      "Saved 1 image to \u001b[1m..\\data\\detections\\lobelia4cosmetics900\u001b[0m\n"
     ]
    },
    {
     "name": "stdout",
     "output_type": "stream",
     "text": [
      "Detected vase with confidence 0.27\n"
     ]
    },
    {
     "name": "stderr",
     "output_type": "stream",
     "text": [
      "Saved 1 image to \u001b[1m..\\data\\detections\\lobelia4cosmetics901\u001b[0m\n"
     ]
    },
    {
     "name": "stdout",
     "output_type": "stream",
     "text": [
      "Detected book with confidence 0.36\n"
     ]
    },
    {
     "name": "stderr",
     "output_type": "stream",
     "text": [
      "Saved 1 image to \u001b[1m..\\data\\detections\\lobelia4cosmetics902\u001b[0m\n",
      "Saved 1 image to \u001b[1m..\\data\\detections\\lobelia4cosmetics903\u001b[0m\n"
     ]
    },
    {
     "name": "stdout",
     "output_type": "stream",
     "text": [
      "Detected vase with confidence 0.27\n"
     ]
    },
    {
     "name": "stderr",
     "output_type": "stream",
     "text": [
      "Saved 1 image to \u001b[1m..\\data\\detections\\lobelia4cosmetics904\u001b[0m\n",
      "Saved 1 image to \u001b[1m..\\data\\detections\\lobelia4cosmetics905\u001b[0m\n",
      "Saved 1 image to \u001b[1m..\\data\\detections\\lobelia4cosmetics906\u001b[0m\n",
      "Saved 1 image to \u001b[1m..\\data\\detections\\lobelia4cosmetics907\u001b[0m\n",
      "Saved 1 image to \u001b[1m..\\data\\detections\\lobelia4cosmetics908\u001b[0m\n"
     ]
    },
    {
     "name": "stdout",
     "output_type": "stream",
     "text": [
      "Detected suitcase with confidence 0.35\n"
     ]
    },
    {
     "name": "stderr",
     "output_type": "stream",
     "text": [
      "Saved 1 image to \u001b[1m..\\data\\detections\\lobelia4cosmetics909\u001b[0m\n"
     ]
    },
    {
     "name": "stdout",
     "output_type": "stream",
     "text": [
      "Detected suitcase with confidence 0.32\n"
     ]
    },
    {
     "name": "stderr",
     "output_type": "stream",
     "text": [
      "Saved 1 image to \u001b[1m..\\data\\detections\\lobelia4cosmetics910\u001b[0m\n"
     ]
    },
    {
     "name": "stdout",
     "output_type": "stream",
     "text": [
      "Detected bottle with confidence 0.27\n"
     ]
    },
    {
     "name": "stderr",
     "output_type": "stream",
     "text": [
      "Saved 1 image to \u001b[1m..\\data\\detections\\lobelia4cosmetics911\u001b[0m\n"
     ]
    },
    {
     "name": "stdout",
     "output_type": "stream",
     "text": [
      "Detected bottle with confidence 0.37\n"
     ]
    },
    {
     "name": "stderr",
     "output_type": "stream",
     "text": [
      "Saved 1 image to \u001b[1m..\\data\\detections\\lobelia4cosmetics912\u001b[0m\n",
      "Saved 1 image to \u001b[1m..\\data\\detections\\lobelia4cosmetics913\u001b[0m\n",
      "Saved 1 image to \u001b[1m..\\data\\detections\\lobelia4cosmetics914\u001b[0m\n",
      "Saved 1 image to \u001b[1m..\\data\\detections\\lobelia4cosmetics915\u001b[0m\n",
      "Saved 1 image to \u001b[1m..\\data\\detections\\lobelia4cosmetics916\u001b[0m\n",
      "Saved 1 image to \u001b[1m..\\data\\detections\\lobelia4cosmetics917\u001b[0m\n",
      "Saved 1 image to \u001b[1m..\\data\\detections\\lobelia4cosmetics918\u001b[0m\n",
      "Saved 1 image to \u001b[1m..\\data\\detections\\lobelia4cosmetics919\u001b[0m\n",
      "Saved 1 image to \u001b[1m..\\data\\detections\\lobelia4cosmetics920\u001b[0m\n"
     ]
    },
    {
     "name": "stdout",
     "output_type": "stream",
     "text": [
      "Detected bottle with confidence 0.32\n"
     ]
    },
    {
     "name": "stderr",
     "output_type": "stream",
     "text": [
      "Saved 1 image to \u001b[1m..\\data\\detections\\lobelia4cosmetics921\u001b[0m\n",
      "Saved 1 image to \u001b[1m..\\data\\detections\\lobelia4cosmetics922\u001b[0m\n",
      "Saved 1 image to \u001b[1m..\\data\\detections\\lobelia4cosmetics923\u001b[0m\n",
      "Saved 1 image to \u001b[1m..\\data\\detections\\lobelia4cosmetics924\u001b[0m\n",
      "Saved 1 image to \u001b[1m..\\data\\detections\\lobelia4cosmetics925\u001b[0m\n",
      "Saved 1 image to \u001b[1m..\\data\\detections\\lobelia4cosmetics926\u001b[0m\n",
      "Saved 1 image to \u001b[1m..\\data\\detections\\lobelia4cosmetics927\u001b[0m\n",
      "Saved 1 image to \u001b[1m..\\data\\detections\\lobelia4cosmetics928\u001b[0m\n",
      "Saved 1 image to \u001b[1m..\\data\\detections\\lobelia4cosmetics929\u001b[0m\n",
      "Saved 1 image to \u001b[1m..\\data\\detections\\lobelia4cosmetics930\u001b[0m\n"
     ]
    },
    {
     "name": "stdout",
     "output_type": "stream",
     "text": [
      "Detected bottle with confidence 0.48\n"
     ]
    },
    {
     "name": "stderr",
     "output_type": "stream",
     "text": [
      "Saved 1 image to \u001b[1m..\\data\\detections\\lobelia4cosmetics931\u001b[0m\n",
      "Saved 1 image to \u001b[1m..\\data\\detections\\lobelia4cosmetics932\u001b[0m\n",
      "Saved 1 image to \u001b[1m..\\data\\detections\\lobelia4cosmetics933\u001b[0m\n",
      "Saved 1 image to \u001b[1m..\\data\\detections\\lobelia4cosmetics934\u001b[0m\n",
      "Saved 1 image to \u001b[1m..\\data\\detections\\lobelia4cosmetics935\u001b[0m\n",
      "Saved 1 image to \u001b[1m..\\data\\detections\\lobelia4cosmetics936\u001b[0m\n",
      "Saved 1 image to \u001b[1m..\\data\\detections\\lobelia4cosmetics937\u001b[0m\n",
      "Saved 1 image to \u001b[1m..\\data\\detections\\lobelia4cosmetics938\u001b[0m\n",
      "Saved 1 image to \u001b[1m..\\data\\detections\\lobelia4cosmetics939\u001b[0m\n",
      "Saved 1 image to \u001b[1m..\\data\\detections\\lobelia4cosmetics940\u001b[0m\n",
      "Saved 1 image to \u001b[1m..\\data\\detections\\lobelia4cosmetics941\u001b[0m\n",
      "Saved 1 image to \u001b[1m..\\data\\detections\\lobelia4cosmetics942\u001b[0m\n",
      "Saved 1 image to \u001b[1m..\\data\\detections\\lobelia4cosmetics943\u001b[0m\n",
      "Saved 1 image to \u001b[1m..\\data\\detections\\lobelia4cosmetics944\u001b[0m\n",
      "Saved 1 image to \u001b[1m..\\data\\detections\\lobelia4cosmetics945\u001b[0m\n",
      "Saved 1 image to \u001b[1m..\\data\\detections\\lobelia4cosmetics946\u001b[0m\n",
      "Saved 1 image to \u001b[1m..\\data\\detections\\lobelia4cosmetics947\u001b[0m\n",
      "Saved 1 image to \u001b[1m..\\data\\detections\\lobelia4cosmetics948\u001b[0m\n",
      "Saved 1 image to \u001b[1m..\\data\\detections\\lobelia4cosmetics949\u001b[0m\n",
      "Saved 1 image to \u001b[1m..\\data\\detections\\lobelia4cosmetics950\u001b[0m\n",
      "Saved 1 image to \u001b[1m..\\data\\detections\\lobelia4cosmetics951\u001b[0m\n",
      "Saved 1 image to \u001b[1m..\\data\\detections\\lobelia4cosmetics952\u001b[0m\n",
      "Saved 1 image to \u001b[1m..\\data\\detections\\lobelia4cosmetics953\u001b[0m\n",
      "Saved 1 image to \u001b[1m..\\data\\detections\\lobelia4cosmetics954\u001b[0m\n",
      "Saved 1 image to \u001b[1m..\\data\\detections\\lobelia4cosmetics955\u001b[0m\n",
      "Saved 1 image to \u001b[1m..\\data\\detections\\lobelia4cosmetics956\u001b[0m\n",
      "Saved 1 image to \u001b[1m..\\data\\detections\\lobelia4cosmetics957\u001b[0m\n",
      "Saved 1 image to \u001b[1m..\\data\\detections\\lobelia4cosmetics958\u001b[0m\n",
      "Saved 1 image to \u001b[1m..\\data\\detections\\lobelia4cosmetics959\u001b[0m\n"
     ]
    },
    {
     "name": "stdout",
     "output_type": "stream",
     "text": [
      "Detected bottle with confidence 0.40\n"
     ]
    },
    {
     "name": "stderr",
     "output_type": "stream",
     "text": [
      "Saved 1 image to \u001b[1m..\\data\\detections\\lobelia4cosmetics960\u001b[0m\n"
     ]
    },
    {
     "name": "stdout",
     "output_type": "stream",
     "text": [
      "Detected bottle with confidence 0.57\n"
     ]
    },
    {
     "name": "stderr",
     "output_type": "stream",
     "text": [
      "Saved 1 image to \u001b[1m..\\data\\detections\\lobelia4cosmetics961\u001b[0m\n"
     ]
    },
    {
     "name": "stdout",
     "output_type": "stream",
     "text": [
      "Detected bottle with confidence 0.59\n"
     ]
    },
    {
     "name": "stderr",
     "output_type": "stream",
     "text": [
      "Saved 1 image to \u001b[1m..\\data\\detections\\lobelia4cosmetics962\u001b[0m\n"
     ]
    },
    {
     "name": "stdout",
     "output_type": "stream",
     "text": [
      "Detected bottle with confidence 0.54\n"
     ]
    },
    {
     "name": "stderr",
     "output_type": "stream",
     "text": [
      "Saved 1 image to \u001b[1m..\\data\\detections\\lobelia4cosmetics963\u001b[0m\n"
     ]
    },
    {
     "name": "stdout",
     "output_type": "stream",
     "text": [
      "Detected bottle with confidence 0.54\n"
     ]
    },
    {
     "name": "stderr",
     "output_type": "stream",
     "text": [
      "Saved 1 image to \u001b[1m..\\data\\detections\\lobelia4cosmetics964\u001b[0m\n"
     ]
    },
    {
     "name": "stdout",
     "output_type": "stream",
     "text": [
      "Detected bottle with confidence 0.44\n"
     ]
    },
    {
     "name": "stderr",
     "output_type": "stream",
     "text": [
      "Saved 1 image to \u001b[1m..\\data\\detections\\lobelia4cosmetics965\u001b[0m\n"
     ]
    },
    {
     "name": "stdout",
     "output_type": "stream",
     "text": [
      "Detected bottle with confidence 0.55\n"
     ]
    },
    {
     "name": "stderr",
     "output_type": "stream",
     "text": [
      "Saved 1 image to \u001b[1m..\\data\\detections\\lobelia4cosmetics966\u001b[0m\n"
     ]
    },
    {
     "name": "stdout",
     "output_type": "stream",
     "text": [
      "Detected bottle with confidence 0.55\n"
     ]
    },
    {
     "name": "stderr",
     "output_type": "stream",
     "text": [
      "Saved 1 image to \u001b[1m..\\data\\detections\\lobelia4cosmetics967\u001b[0m\n"
     ]
    },
    {
     "name": "stdout",
     "output_type": "stream",
     "text": [
      "Detected bottle with confidence 0.83\n"
     ]
    },
    {
     "name": "stderr",
     "output_type": "stream",
     "text": [
      "Saved 1 image to \u001b[1m..\\data\\detections\\lobelia4cosmetics968\u001b[0m\n"
     ]
    },
    {
     "name": "stdout",
     "output_type": "stream",
     "text": [
      "Detected bottle with confidence 0.90\n"
     ]
    },
    {
     "name": "stderr",
     "output_type": "stream",
     "text": [
      "Saved 1 image to \u001b[1m..\\data\\detections\\lobelia4cosmetics969\u001b[0m\n"
     ]
    },
    {
     "name": "stdout",
     "output_type": "stream",
     "text": [
      "Detected bottle with confidence 0.90\n"
     ]
    },
    {
     "name": "stderr",
     "output_type": "stream",
     "text": [
      "Saved 1 image to \u001b[1m..\\data\\detections\\lobelia4cosmetics970\u001b[0m\n"
     ]
    },
    {
     "name": "stdout",
     "output_type": "stream",
     "text": [
      "Detected bottle with confidence 0.47\n"
     ]
    },
    {
     "name": "stderr",
     "output_type": "stream",
     "text": [
      "Saved 1 image to \u001b[1m..\\data\\detections\\lobelia4cosmetics971\u001b[0m\n"
     ]
    },
    {
     "name": "stdout",
     "output_type": "stream",
     "text": [
      "Detected bottle with confidence 0.67\n"
     ]
    },
    {
     "name": "stderr",
     "output_type": "stream",
     "text": [
      "Saved 1 image to \u001b[1m..\\data\\detections\\lobelia4cosmetics972\u001b[0m\n"
     ]
    },
    {
     "name": "stdout",
     "output_type": "stream",
     "text": [
      "Detected bottle with confidence 0.67\n"
     ]
    },
    {
     "name": "stderr",
     "output_type": "stream",
     "text": [
      "Saved 1 image to \u001b[1m..\\data\\detections\\lobelia4cosmetics973\u001b[0m\n"
     ]
    },
    {
     "name": "stdout",
     "output_type": "stream",
     "text": [
      "Detected bottle with confidence 0.47\n"
     ]
    },
    {
     "name": "stderr",
     "output_type": "stream",
     "text": [
      "Saved 1 image to \u001b[1m..\\data\\detections\\lobelia4cosmetics974\u001b[0m\n"
     ]
    },
    {
     "name": "stdout",
     "output_type": "stream",
     "text": [
      "Detected bottle with confidence 0.69\n"
     ]
    },
    {
     "name": "stderr",
     "output_type": "stream",
     "text": [
      "Saved 1 image to \u001b[1m..\\data\\detections\\lobelia4cosmetics975\u001b[0m\n"
     ]
    },
    {
     "name": "stdout",
     "output_type": "stream",
     "text": [
      "Detected bottle with confidence 0.69\n"
     ]
    },
    {
     "name": "stderr",
     "output_type": "stream",
     "text": [
      "Saved 1 image to \u001b[1m..\\data\\detections\\lobelia4cosmetics976\u001b[0m\n"
     ]
    },
    {
     "name": "stdout",
     "output_type": "stream",
     "text": [
      "Detected bottle with confidence 0.69\n"
     ]
    },
    {
     "name": "stderr",
     "output_type": "stream",
     "text": [
      "Saved 1 image to \u001b[1m..\\data\\detections\\lobelia4cosmetics977\u001b[0m\n"
     ]
    },
    {
     "name": "stdout",
     "output_type": "stream",
     "text": [
      "Detected bottle with confidence 0.69\n"
     ]
    },
    {
     "name": "stderr",
     "output_type": "stream",
     "text": [
      "Saved 1 image to \u001b[1m..\\data\\detections\\lobelia4cosmetics978\u001b[0m\n",
      "Saved 1 image to \u001b[1m..\\data\\detections\\lobelia4cosmetics979\u001b[0m\n",
      "Saved 1 image to \u001b[1m..\\data\\detections\\lobelia4cosmetics980\u001b[0m\n",
      "Saved 1 image to \u001b[1m..\\data\\detections\\lobelia4cosmetics981\u001b[0m\n"
     ]
    },
    {
     "name": "stdout",
     "output_type": "stream",
     "text": [
      "Detected bottle with confidence 0.60\n"
     ]
    },
    {
     "name": "stderr",
     "output_type": "stream",
     "text": [
      "Saved 1 image to \u001b[1m..\\data\\detections\\lobelia4cosmetics982\u001b[0m\n"
     ]
    },
    {
     "name": "stdout",
     "output_type": "stream",
     "text": [
      "Detected bottle with confidence 0.72\n"
     ]
    },
    {
     "name": "stderr",
     "output_type": "stream",
     "text": [
      "Saved 1 image to \u001b[1m..\\data\\detections\\lobelia4cosmetics983\u001b[0m\n"
     ]
    },
    {
     "name": "stdout",
     "output_type": "stream",
     "text": [
      "Detected bottle with confidence 0.72\n"
     ]
    },
    {
     "name": "stderr",
     "output_type": "stream",
     "text": [
      "Saved 1 image to \u001b[1m..\\data\\detections\\lobelia4cosmetics984\u001b[0m\n"
     ]
    },
    {
     "name": "stdout",
     "output_type": "stream",
     "text": [
      "Detected donut with confidence 0.31\n"
     ]
    },
    {
     "name": "stderr",
     "output_type": "stream",
     "text": [
      "Saved 1 image to \u001b[1m..\\data\\detections\\lobelia4cosmetics985\u001b[0m\n",
      "Saved 1 image to \u001b[1m..\\data\\detections\\lobelia4cosmetics986\u001b[0m\n",
      "Saved 1 image to \u001b[1m..\\data\\detections\\lobelia4cosmetics987\u001b[0m\n",
      "Saved 1 image to \u001b[1m..\\data\\detections\\lobelia4cosmetics988\u001b[0m\n",
      "Saved 1 image to \u001b[1m..\\data\\detections\\lobelia4cosmetics989\u001b[0m\n",
      "Saved 1 image to \u001b[1m..\\data\\detections\\lobelia4cosmetics990\u001b[0m\n",
      "Saved 1 image to \u001b[1m..\\data\\detections\\lobelia4cosmetics991\u001b[0m\n",
      "Saved 1 image to \u001b[1m..\\data\\detections\\lobelia4cosmetics992\u001b[0m\n",
      "Saved 1 image to \u001b[1m..\\data\\detections\\lobelia4cosmetics993\u001b[0m\n",
      "Saved 1 image to \u001b[1m..\\data\\detections\\lobelia4cosmetics994\u001b[0m\n",
      "Saved 1 image to \u001b[1m..\\data\\detections\\lobelia4cosmetics995\u001b[0m\n",
      "Saved 1 image to \u001b[1m..\\data\\detections\\lobelia4cosmetics996\u001b[0m\n",
      "Saved 1 image to \u001b[1m..\\data\\detections\\lobelia4cosmetics997\u001b[0m\n",
      "Saved 1 image to \u001b[1m..\\data\\detections\\lobelia4cosmetics998\u001b[0m\n",
      "Saved 1 image to \u001b[1m..\\data\\detections\\lobelia4cosmetics999\u001b[0m\n",
      "Saved 1 image to \u001b[1m..\\data\\detections\\lobelia4cosmetics1000\u001b[0m\n",
      "Saved 1 image to \u001b[1m..\\data\\detections\\lobelia4cosmetics1001\u001b[0m\n",
      "Saved 1 image to \u001b[1m..\\data\\detections\\lobelia4cosmetics1002\u001b[0m\n",
      "Saved 1 image to \u001b[1m..\\data\\detections\\lobelia4cosmetics1003\u001b[0m\n",
      "Saved 1 image to \u001b[1m..\\data\\detections\\lobelia4cosmetics1004\u001b[0m\n",
      "Saved 1 image to \u001b[1m..\\data\\detections\\lobelia4cosmetics1005\u001b[0m\n",
      "Saved 1 image to \u001b[1m..\\data\\detections\\lobelia4cosmetics1006\u001b[0m\n",
      "Saved 1 image to \u001b[1m..\\data\\detections\\lobelia4cosmetics1007\u001b[0m\n",
      "Saved 1 image to \u001b[1m..\\data\\detections\\lobelia4cosmetics1008\u001b[0m\n",
      "Saved 1 image to \u001b[1m..\\data\\detections\\lobelia4cosmetics1009\u001b[0m\n",
      "Saved 1 image to \u001b[1m..\\data\\detections\\lobelia4cosmetics1010\u001b[0m\n",
      "Saved 1 image to \u001b[1m..\\data\\detections\\lobelia4cosmetics1011\u001b[0m\n",
      "Saved 1 image to \u001b[1m..\\data\\detections\\lobelia4cosmetics1012\u001b[0m\n",
      "Saved 1 image to \u001b[1m..\\data\\detections\\lobelia4cosmetics1013\u001b[0m\n"
     ]
    },
    {
     "name": "stdout",
     "output_type": "stream",
     "text": [
      "Detected bottle with confidence 0.31\n"
     ]
    },
    {
     "name": "stderr",
     "output_type": "stream",
     "text": [
      "Saved 1 image to \u001b[1m..\\data\\detections\\lobelia4cosmetics1014\u001b[0m\n"
     ]
    },
    {
     "name": "stdout",
     "output_type": "stream",
     "text": [
      "Detected bottle with confidence 0.31\n"
     ]
    },
    {
     "name": "stderr",
     "output_type": "stream",
     "text": [
      "Saved 1 image to \u001b[1m..\\data\\detections\\lobelia4cosmetics1015\u001b[0m\n"
     ]
    },
    {
     "name": "stdout",
     "output_type": "stream",
     "text": [
      "Detected bottle with confidence 0.31\n"
     ]
    },
    {
     "name": "stderr",
     "output_type": "stream",
     "text": [
      "Saved 1 image to \u001b[1m..\\data\\detections\\lobelia4cosmetics1016\u001b[0m\n"
     ]
    },
    {
     "name": "stdout",
     "output_type": "stream",
     "text": [
      "Detected bottle with confidence 0.43\n"
     ]
    },
    {
     "name": "stderr",
     "output_type": "stream",
     "text": [
      "Saved 1 image to \u001b[1m..\\data\\detections\\lobelia4cosmetics1017\u001b[0m\n"
     ]
    },
    {
     "name": "stdout",
     "output_type": "stream",
     "text": [
      "Detected bottle with confidence 0.55\n"
     ]
    },
    {
     "name": "stderr",
     "output_type": "stream",
     "text": [
      "Saved 1 image to \u001b[1m..\\data\\detections\\lobelia4cosmetics1018\u001b[0m\n"
     ]
    },
    {
     "name": "stdout",
     "output_type": "stream",
     "text": [
      "Detected bottle with confidence 0.55\n"
     ]
    },
    {
     "name": "stderr",
     "output_type": "stream",
     "text": [
      "Saved 1 image to \u001b[1m..\\data\\detections\\lobelia4cosmetics1019\u001b[0m\n",
      "Saved 1 image to \u001b[1m..\\data\\detections\\lobelia4cosmetics1020\u001b[0m\n",
      "Saved 1 image to \u001b[1m..\\data\\detections\\lobelia4cosmetics1021\u001b[0m\n",
      "Saved 1 image to \u001b[1m..\\data\\detections\\lobelia4cosmetics1022\u001b[0m\n",
      "Saved 1 image to \u001b[1m..\\data\\detections\\lobelia4cosmetics1023\u001b[0m\n",
      "Saved 1 image to \u001b[1m..\\data\\detections\\lobelia4cosmetics1024\u001b[0m\n",
      "Saved 1 image to \u001b[1m..\\data\\detections\\lobelia4cosmetics1025\u001b[0m\n",
      "Saved 1 image to \u001b[1m..\\data\\detections\\lobelia4cosmetics1026\u001b[0m\n",
      "Saved 1 image to \u001b[1m..\\data\\detections\\lobelia4cosmetics1027\u001b[0m\n",
      "Saved 1 image to \u001b[1m..\\data\\detections\\lobelia4cosmetics1028\u001b[0m\n",
      "Saved 1 image to \u001b[1m..\\data\\detections\\lobelia4cosmetics1029\u001b[0m\n",
      "Saved 1 image to \u001b[1m..\\data\\detections\\lobelia4cosmetics1030\u001b[0m\n",
      "Saved 1 image to \u001b[1m..\\data\\detections\\lobelia4cosmetics1031\u001b[0m\n",
      "Saved 1 image to \u001b[1m..\\data\\detections\\lobelia4cosmetics1032\u001b[0m\n"
     ]
    },
    {
     "name": "stdout",
     "output_type": "stream",
     "text": [
      "Detected clock with confidence 0.70\n"
     ]
    },
    {
     "name": "stderr",
     "output_type": "stream",
     "text": [
      "Saved 1 image to \u001b[1m..\\data\\detections\\lobelia4cosmetics1033\u001b[0m\n"
     ]
    },
    {
     "name": "stdout",
     "output_type": "stream",
     "text": [
      "Detected clock with confidence 0.75\n"
     ]
    },
    {
     "name": "stderr",
     "output_type": "stream",
     "text": [
      "Saved 1 image to \u001b[1m..\\data\\detections\\lobelia4cosmetics1034\u001b[0m\n"
     ]
    },
    {
     "name": "stdout",
     "output_type": "stream",
     "text": [
      "Detected clock with confidence 0.75\n"
     ]
    },
    {
     "name": "stderr",
     "output_type": "stream",
     "text": [
      "Saved 1 image to \u001b[1m..\\data\\detections\\lobelia4cosmetics1035\u001b[0m\n"
     ]
    },
    {
     "name": "stdout",
     "output_type": "stream",
     "text": [
      "Detected clock with confidence 0.75\n"
     ]
    },
    {
     "name": "stderr",
     "output_type": "stream",
     "text": [
      "Saved 1 image to \u001b[1m..\\data\\detections\\lobelia4cosmetics1036\u001b[0m\n"
     ]
    },
    {
     "name": "stdout",
     "output_type": "stream",
     "text": [
      "Detected clock with confidence 0.75\n"
     ]
    },
    {
     "name": "stderr",
     "output_type": "stream",
     "text": [
      "Saved 1 image to \u001b[1m..\\data\\detections\\lobelia4cosmetics1037\u001b[0m\n",
      "Saved 1 image to \u001b[1m..\\data\\detections\\lobelia4cosmetics1038\u001b[0m\n",
      "Saved 1 image to \u001b[1m..\\data\\detections\\lobelia4cosmetics1039\u001b[0m\n",
      "Saved 1 image to \u001b[1m..\\data\\detections\\lobelia4cosmetics1040\u001b[0m\n",
      "Saved 1 image to \u001b[1m..\\data\\detections\\lobelia4cosmetics1041\u001b[0m\n",
      "Saved 1 image to \u001b[1m..\\data\\detections\\lobelia4cosmetics1042\u001b[0m\n",
      "Saved 1 image to \u001b[1m..\\data\\detections\\lobelia4cosmetics1043\u001b[0m\n"
     ]
    },
    {
     "name": "stdout",
     "output_type": "stream",
     "text": [
      "Detected cup with confidence 0.30\n"
     ]
    },
    {
     "name": "stderr",
     "output_type": "stream",
     "text": [
      "Saved 1 image to \u001b[1m..\\data\\detections\\lobelia4cosmetics1044\u001b[0m\n",
      "Saved 1 image to \u001b[1m..\\data\\detections\\lobelia4cosmetics1045\u001b[0m\n",
      "Saved 1 image to \u001b[1m..\\data\\detections\\lobelia4cosmetics1046\u001b[0m\n",
      "Saved 1 image to \u001b[1m..\\data\\detections\\lobelia4cosmetics1047\u001b[0m\n",
      "Saved 1 image to \u001b[1m..\\data\\detections\\lobelia4cosmetics1048\u001b[0m\n",
      "Saved 1 image to \u001b[1m..\\data\\detections\\lobelia4cosmetics1049\u001b[0m\n",
      "Saved 1 image to \u001b[1m..\\data\\detections\\lobelia4cosmetics1050\u001b[0m\n",
      "Saved 1 image to \u001b[1m..\\data\\detections\\lobelia4cosmetics1051\u001b[0m\n",
      "Saved 1 image to \u001b[1m..\\data\\detections\\lobelia4cosmetics1052\u001b[0m\n"
     ]
    },
    {
     "name": "stdout",
     "output_type": "stream",
     "text": [
      "Detected book with confidence 0.32\n"
     ]
    },
    {
     "name": "stderr",
     "output_type": "stream",
     "text": [
      "Saved 1 image to \u001b[1m..\\data\\detections\\lobelia4cosmetics1053\u001b[0m\n"
     ]
    },
    {
     "name": "stdout",
     "output_type": "stream",
     "text": [
      "Detected book with confidence 0.29\n"
     ]
    },
    {
     "name": "stderr",
     "output_type": "stream",
     "text": [
      "Saved 1 image to \u001b[1m..\\data\\detections\\lobelia4cosmetics1054\u001b[0m\n"
     ]
    },
    {
     "name": "stdout",
     "output_type": "stream",
     "text": [
      "Detected book with confidence 0.29\n"
     ]
    },
    {
     "name": "stderr",
     "output_type": "stream",
     "text": [
      "Saved 1 image to \u001b[1m..\\data\\detections\\lobelia4cosmetics1055\u001b[0m\n"
     ]
    },
    {
     "name": "stdout",
     "output_type": "stream",
     "text": [
      "Detected book with confidence 0.29\n"
     ]
    },
    {
     "name": "stderr",
     "output_type": "stream",
     "text": [
      "Saved 1 image to \u001b[1m..\\data\\detections\\lobelia4cosmetics1056\u001b[0m\n"
     ]
    },
    {
     "name": "stdout",
     "output_type": "stream",
     "text": [
      "Detected book with confidence 0.29\n"
     ]
    },
    {
     "name": "stderr",
     "output_type": "stream",
     "text": [
      "Saved 1 image to \u001b[1m..\\data\\detections\\lobelia4cosmetics1057\u001b[0m\n"
     ]
    },
    {
     "name": "stdout",
     "output_type": "stream",
     "text": [
      "Detected book with confidence 0.29\n"
     ]
    },
    {
     "name": "stderr",
     "output_type": "stream",
     "text": [
      "Saved 1 image to \u001b[1m..\\data\\detections\\lobelia4cosmetics1058\u001b[0m\n",
      "Saved 1 image to \u001b[1m..\\data\\detections\\lobelia4cosmetics1059\u001b[0m\n",
      "Saved 1 image to \u001b[1m..\\data\\detections\\lobelia4cosmetics1060\u001b[0m\n",
      "Saved 1 image to \u001b[1m..\\data\\detections\\lobelia4cosmetics1061\u001b[0m\n",
      "Saved 1 image to \u001b[1m..\\data\\detections\\lobelia4cosmetics1062\u001b[0m\n"
     ]
    },
    {
     "name": "stdout",
     "output_type": "stream",
     "text": [
      "Detected stop sign with confidence 0.72\n"
     ]
    },
    {
     "name": "stderr",
     "output_type": "stream",
     "text": [
      "Saved 1 image to \u001b[1m..\\data\\detections\\lobelia4cosmetics1063\u001b[0m\n"
     ]
    },
    {
     "name": "stdout",
     "output_type": "stream",
     "text": [
      "Detected stop sign with confidence 0.74\n"
     ]
    },
    {
     "name": "stderr",
     "output_type": "stream",
     "text": [
      "Saved 1 image to \u001b[1m..\\data\\detections\\lobelia4cosmetics1064\u001b[0m\n"
     ]
    },
    {
     "name": "stdout",
     "output_type": "stream",
     "text": [
      "Detected stop sign with confidence 0.55\n"
     ]
    },
    {
     "name": "stderr",
     "output_type": "stream",
     "text": [
      "Saved 1 image to \u001b[1m..\\data\\detections\\lobelia4cosmetics1065\u001b[0m\n"
     ]
    },
    {
     "name": "stdout",
     "output_type": "stream",
     "text": [
      "Detected stop sign with confidence 0.74\n"
     ]
    },
    {
     "name": "stderr",
     "output_type": "stream",
     "text": [
      "Saved 1 image to \u001b[1m..\\data\\detections\\lobelia4cosmetics1066\u001b[0m\n"
     ]
    },
    {
     "name": "stdout",
     "output_type": "stream",
     "text": [
      "Detected train with confidence 0.34\n"
     ]
    },
    {
     "name": "stderr",
     "output_type": "stream",
     "text": [
      "Saved 1 image to \u001b[1m..\\data\\detections\\lobelia4cosmetics1067\u001b[0m\n",
      "Saved 1 image to \u001b[1m..\\data\\detections\\lobelia4cosmetics1068\u001b[0m\n",
      "Saved 1 image to \u001b[1m..\\data\\detections\\lobelia4cosmetics1069\u001b[0m\n",
      "Saved 1 image to \u001b[1m..\\data\\detections\\lobelia4cosmetics1070\u001b[0m\n",
      "Saved 1 image to \u001b[1m..\\data\\detections\\lobelia4cosmetics1071\u001b[0m\n",
      "Saved 1 image to \u001b[1m..\\data\\detections\\lobelia4cosmetics1072\u001b[0m\n"
     ]
    },
    {
     "name": "stdout",
     "output_type": "stream",
     "text": [
      "Detected bottle with confidence 0.47\n",
      "Detected cat with confidence 0.47\n"
     ]
    },
    {
     "name": "stderr",
     "output_type": "stream",
     "text": [
      "Saved 1 image to \u001b[1m..\\data\\detections\\lobelia4cosmetics1073\u001b[0m\n"
     ]
    },
    {
     "name": "stdout",
     "output_type": "stream",
     "text": [
      "Detected cat with confidence 0.53\n",
      "Detected bottle with confidence 0.48\n"
     ]
    },
    {
     "name": "stderr",
     "output_type": "stream",
     "text": [
      "Saved 1 image to \u001b[1m..\\data\\detections\\lobelia4cosmetics1074\u001b[0m\n"
     ]
    },
    {
     "name": "stdout",
     "output_type": "stream",
     "text": [
      "Detected cat with confidence 0.53\n",
      "Detected bottle with confidence 0.48\n"
     ]
    },
    {
     "name": "stderr",
     "output_type": "stream",
     "text": [
      "Saved 1 image to \u001b[1m..\\data\\detections\\lobelia4cosmetics1075\u001b[0m\n"
     ]
    },
    {
     "name": "stdout",
     "output_type": "stream",
     "text": [
      "Detected bottle with confidence 0.35\n"
     ]
    },
    {
     "name": "stderr",
     "output_type": "stream",
     "text": [
      "Saved 1 image to \u001b[1m..\\data\\detections\\lobelia4cosmetics1076\u001b[0m\n"
     ]
    },
    {
     "name": "stdout",
     "output_type": "stream",
     "text": [
      "Detected bottle with confidence 0.43\n"
     ]
    },
    {
     "name": "stderr",
     "output_type": "stream",
     "text": [
      "Saved 1 image to \u001b[1m..\\data\\detections\\lobelia4cosmetics1077\u001b[0m\n"
     ]
    },
    {
     "name": "stdout",
     "output_type": "stream",
     "text": [
      "Detected bottle with confidence 0.43\n"
     ]
    },
    {
     "name": "stderr",
     "output_type": "stream",
     "text": [
      "Saved 1 image to \u001b[1m..\\data\\detections\\lobelia4cosmetics1078\u001b[0m\n"
     ]
    },
    {
     "name": "stdout",
     "output_type": "stream",
     "text": [
      "Detected bottle with confidence 0.43\n"
     ]
    },
    {
     "name": "stderr",
     "output_type": "stream",
     "text": [
      "Saved 1 image to \u001b[1m..\\data\\detections\\lobelia4cosmetics1079\u001b[0m\n",
      "Saved 1 image to \u001b[1m..\\data\\detections\\lobelia4cosmetics1080\u001b[0m\n",
      "Saved 1 image to \u001b[1m..\\data\\detections\\lobelia4cosmetics1081\u001b[0m\n",
      "Saved 1 image to \u001b[1m..\\data\\detections\\lobelia4cosmetics1082\u001b[0m\n",
      "Saved 1 image to \u001b[1m..\\data\\detections\\lobelia4cosmetics1083\u001b[0m\n",
      "Saved 1 image to \u001b[1m..\\data\\detections\\lobelia4cosmetics1084\u001b[0m\n",
      "Saved 1 image to \u001b[1m..\\data\\detections\\lobelia4cosmetics1085\u001b[0m\n",
      "Saved 1 image to \u001b[1m..\\data\\detections\\lobelia4cosmetics1086\u001b[0m\n",
      "Saved 1 image to \u001b[1m..\\data\\detections\\lobelia4cosmetics1087\u001b[0m\n",
      "Saved 1 image to \u001b[1m..\\data\\detections\\lobelia4cosmetics1088\u001b[0m\n",
      "Saved 1 image to \u001b[1m..\\data\\detections\\lobelia4cosmetics1089\u001b[0m\n",
      "Saved 1 image to \u001b[1m..\\data\\detections\\lobelia4cosmetics1090\u001b[0m\n",
      "Saved 1 image to \u001b[1m..\\data\\detections\\lobelia4cosmetics1091\u001b[0m\n"
     ]
    },
    {
     "name": "stdout",
     "output_type": "stream",
     "text": [
      "Detected bottle with confidence 0.26\n"
     ]
    },
    {
     "name": "stderr",
     "output_type": "stream",
     "text": [
      "Saved 1 image to \u001b[1m..\\data\\detections\\lobelia4cosmetics1092\u001b[0m\n"
     ]
    },
    {
     "name": "stdout",
     "output_type": "stream",
     "text": [
      "Detected bottle with confidence 0.37\n"
     ]
    },
    {
     "name": "stderr",
     "output_type": "stream",
     "text": [
      "Saved 1 image to \u001b[1m..\\data\\detections\\lobelia4cosmetics1093\u001b[0m\n"
     ]
    },
    {
     "name": "stdout",
     "output_type": "stream",
     "text": [
      "Detected bottle with confidence 0.37\n"
     ]
    },
    {
     "name": "stderr",
     "output_type": "stream",
     "text": [
      "Saved 1 image to \u001b[1m..\\data\\detections\\lobelia4cosmetics1094\u001b[0m\n"
     ]
    },
    {
     "name": "stdout",
     "output_type": "stream",
     "text": [
      "Detected bottle with confidence 0.37\n"
     ]
    },
    {
     "name": "stderr",
     "output_type": "stream",
     "text": [
      "Saved 1 image to \u001b[1m..\\data\\detections\\lobelia4cosmetics1095\u001b[0m\n"
     ]
    },
    {
     "name": "stdout",
     "output_type": "stream",
     "text": [
      "Detected bottle with confidence 0.37\n"
     ]
    },
    {
     "name": "stderr",
     "output_type": "stream",
     "text": [
      "Saved 1 image to \u001b[1m..\\data\\detections\\lobelia4cosmetics1096\u001b[0m\n"
     ]
    },
    {
     "name": "stdout",
     "output_type": "stream",
     "text": [
      "Detected bottle with confidence 0.69\n"
     ]
    },
    {
     "name": "stderr",
     "output_type": "stream",
     "text": [
      "Saved 1 image to \u001b[1m..\\data\\detections\\lobelia4cosmetics1097\u001b[0m\n"
     ]
    },
    {
     "name": "stdout",
     "output_type": "stream",
     "text": [
      "Detected bottle with confidence 0.75\n"
     ]
    },
    {
     "name": "stderr",
     "output_type": "stream",
     "text": [
      "Saved 1 image to \u001b[1m..\\data\\detections\\lobelia4cosmetics1098\u001b[0m\n"
     ]
    },
    {
     "name": "stdout",
     "output_type": "stream",
     "text": [
      "Detected bottle with confidence 0.75\n"
     ]
    },
    {
     "name": "stderr",
     "output_type": "stream",
     "text": [
      "Saved 1 image to \u001b[1m..\\data\\detections\\lobelia4cosmetics1099\u001b[0m\n"
     ]
    },
    {
     "name": "stdout",
     "output_type": "stream",
     "text": [
      "Detected bottle with confidence 0.75\n"
     ]
    },
    {
     "name": "stderr",
     "output_type": "stream",
     "text": [
      "Saved 1 image to \u001b[1m..\\data\\detections\\lobelia4cosmetics1100\u001b[0m\n"
     ]
    },
    {
     "name": "stdout",
     "output_type": "stream",
     "text": [
      "Detected bottle with confidence 0.25\n"
     ]
    },
    {
     "name": "stderr",
     "output_type": "stream",
     "text": [
      "Saved 1 image to \u001b[1m..\\data\\detections\\lobelia4cosmetics1101\u001b[0m\n"
     ]
    },
    {
     "name": "stdout",
     "output_type": "stream",
     "text": [
      "Detected bottle with confidence 0.33\n"
     ]
    },
    {
     "name": "stderr",
     "output_type": "stream",
     "text": [
      "Saved 1 image to \u001b[1m..\\data\\detections\\lobelia4cosmetics1102\u001b[0m\n",
      "Saved 1 image to \u001b[1m..\\data\\detections\\lobelia4cosmetics1103\u001b[0m\n",
      "Saved 1 image to \u001b[1m..\\data\\detections\\lobelia4cosmetics1104\u001b[0m\n",
      "Saved 1 image to \u001b[1m..\\data\\detections\\lobelia4cosmetics1105\u001b[0m\n",
      "Saved 1 image to \u001b[1m..\\data\\detections\\lobelia4cosmetics1106\u001b[0m\n"
     ]
    },
    {
     "name": "stdout",
     "output_type": "stream",
     "text": [
      "Detected bottle with confidence 0.37\n"
     ]
    },
    {
     "name": "stderr",
     "output_type": "stream",
     "text": [
      "Saved 1 image to \u001b[1m..\\data\\detections\\lobelia4cosmetics1107\u001b[0m\n"
     ]
    },
    {
     "name": "stdout",
     "output_type": "stream",
     "text": [
      "Detected bottle with confidence 0.46\n"
     ]
    },
    {
     "name": "stderr",
     "output_type": "stream",
     "text": [
      "Saved 1 image to \u001b[1m..\\data\\detections\\lobelia4cosmetics1108\u001b[0m\n"
     ]
    },
    {
     "name": "stdout",
     "output_type": "stream",
     "text": [
      "Detected bottle with confidence 0.46\n"
     ]
    },
    {
     "name": "stderr",
     "output_type": "stream",
     "text": [
      "Saved 1 image to \u001b[1m..\\data\\detections\\lobelia4cosmetics1109\u001b[0m\n",
      "Saved 1 image to \u001b[1m..\\data\\detections\\lobelia4cosmetics1110\u001b[0m\n",
      "Saved 1 image to \u001b[1m..\\data\\detections\\lobelia4cosmetics1111\u001b[0m\n",
      "Saved 1 image to \u001b[1m..\\data\\detections\\lobelia4cosmetics1112\u001b[0m\n",
      "Saved 1 image to \u001b[1m..\\data\\detections\\lobelia4cosmetics1113\u001b[0m\n",
      "Saved 1 image to \u001b[1m..\\data\\detections\\lobelia4cosmetics1114\u001b[0m\n",
      "Saved 1 image to \u001b[1m..\\data\\detections\\lobelia4cosmetics1115\u001b[0m\n"
     ]
    },
    {
     "name": "stdout",
     "output_type": "stream",
     "text": [
      "Detected tie with confidence 0.26\n"
     ]
    },
    {
     "name": "stderr",
     "output_type": "stream",
     "text": [
      "Saved 1 image to \u001b[1m..\\data\\detections\\lobelia4cosmetics1116\u001b[0m\n"
     ]
    },
    {
     "name": "stdout",
     "output_type": "stream",
     "text": [
      "Detected tie with confidence 0.27\n"
     ]
    },
    {
     "name": "stderr",
     "output_type": "stream",
     "text": [
      "Saved 1 image to \u001b[1m..\\data\\detections\\lobelia4cosmetics1117\u001b[0m\n",
      "Saved 1 image to \u001b[1m..\\data\\detections\\lobelia4cosmetics1118\u001b[0m\n",
      "Saved 1 image to \u001b[1m..\\data\\detections\\lobelia4cosmetics1119\u001b[0m\n",
      "Saved 1 image to \u001b[1m..\\data\\detections\\lobelia4cosmetics1120\u001b[0m\n",
      "Saved 1 image to \u001b[1m..\\data\\detections\\lobelia4cosmetics1121\u001b[0m\n",
      "Saved 1 image to \u001b[1m..\\data\\detections\\lobelia4cosmetics1122\u001b[0m\n",
      "Saved 1 image to \u001b[1m..\\data\\detections\\lobelia4cosmetics1123\u001b[0m\n",
      "Saved 1 image to \u001b[1m..\\data\\detections\\lobelia4cosmetics1124\u001b[0m\n",
      "Saved 1 image to \u001b[1m..\\data\\detections\\lobelia4cosmetics1125\u001b[0m\n",
      "Saved 1 image to \u001b[1m..\\data\\detections\\lobelia4cosmetics1126\u001b[0m\n",
      "Saved 1 image to \u001b[1m..\\data\\detections\\lobelia4cosmetics1127\u001b[0m\n",
      "Saved 1 image to \u001b[1m..\\data\\detections\\lobelia4cosmetics1128\u001b[0m\n",
      "Saved 1 image to \u001b[1m..\\data\\detections\\lobelia4cosmetics1129\u001b[0m\n",
      "Saved 1 image to \u001b[1m..\\data\\detections\\lobelia4cosmetics1130\u001b[0m\n",
      "Saved 1 image to \u001b[1m..\\data\\detections\\lobelia4cosmetics1131\u001b[0m\n",
      "Saved 1 image to \u001b[1m..\\data\\detections\\lobelia4cosmetics1132\u001b[0m\n",
      "Saved 1 image to \u001b[1m..\\data\\detections\\lobelia4cosmetics1133\u001b[0m\n",
      "Saved 1 image to \u001b[1m..\\data\\detections\\lobelia4cosmetics1134\u001b[0m\n",
      "Saved 1 image to \u001b[1m..\\data\\detections\\lobelia4cosmetics1135\u001b[0m\n",
      "Saved 1 image to \u001b[1m..\\data\\detections\\lobelia4cosmetics1136\u001b[0m\n",
      "Saved 1 image to \u001b[1m..\\data\\detections\\lobelia4cosmetics1137\u001b[0m\n",
      "Saved 1 image to \u001b[1m..\\data\\detections\\lobelia4cosmetics1138\u001b[0m\n"
     ]
    },
    {
     "name": "stdout",
     "output_type": "stream",
     "text": [
      "Detected surfboard with confidence 0.31\n",
      "Detected tie with confidence 0.28\n"
     ]
    },
    {
     "name": "stderr",
     "output_type": "stream",
     "text": [
      "Saved 1 image to \u001b[1m..\\data\\detections\\lobelia4cosmetics1139\u001b[0m\n"
     ]
    },
    {
     "name": "stdout",
     "output_type": "stream",
     "text": [
      "Detected surfboard with confidence 0.31\n",
      "Detected tie with confidence 0.28\n"
     ]
    },
    {
     "name": "stderr",
     "output_type": "stream",
     "text": [
      "Saved 1 image to \u001b[1m..\\data\\detections\\lobelia4cosmetics1140\u001b[0m\n"
     ]
    },
    {
     "name": "stdout",
     "output_type": "stream",
     "text": [
      "Detected surfboard with confidence 0.31\n",
      "Detected tie with confidence 0.28\n"
     ]
    },
    {
     "name": "stderr",
     "output_type": "stream",
     "text": [
      "Saved 1 image to \u001b[1m..\\data\\detections\\lobelia4cosmetics1141\u001b[0m\n"
     ]
    },
    {
     "name": "stdout",
     "output_type": "stream",
     "text": [
      "Detected bottle with confidence 0.28\n"
     ]
    },
    {
     "name": "stderr",
     "output_type": "stream",
     "text": [
      "Saved 1 image to \u001b[1m..\\data\\detections\\lobelia4cosmetics1142\u001b[0m\n"
     ]
    },
    {
     "name": "stdout",
     "output_type": "stream",
     "text": [
      "Detected bottle with confidence 0.33\n"
     ]
    },
    {
     "name": "stderr",
     "output_type": "stream",
     "text": [
      "Saved 1 image to \u001b[1m..\\data\\detections\\lobelia4cosmetics1143\u001b[0m\n"
     ]
    },
    {
     "name": "stdout",
     "output_type": "stream",
     "text": [
      "Detected bottle with confidence 0.33\n"
     ]
    },
    {
     "name": "stderr",
     "output_type": "stream",
     "text": [
      "Saved 1 image to \u001b[1m..\\data\\detections\\lobelia4cosmetics1144\u001b[0m\n"
     ]
    },
    {
     "name": "stdout",
     "output_type": "stream",
     "text": [
      "Detected bottle with confidence 0.33\n"
     ]
    },
    {
     "name": "stderr",
     "output_type": "stream",
     "text": [
      "Saved 1 image to \u001b[1m..\\data\\detections\\lobelia4cosmetics1145\u001b[0m\n"
     ]
    },
    {
     "name": "stdout",
     "output_type": "stream",
     "text": [
      "Detected bottle with confidence 0.70\n",
      "Detected cell phone with confidence 0.44\n"
     ]
    },
    {
     "name": "stderr",
     "output_type": "stream",
     "text": [
      "Saved 1 image to \u001b[1m..\\data\\detections\\lobelia4cosmetics1146\u001b[0m\n"
     ]
    },
    {
     "name": "stdout",
     "output_type": "stream",
     "text": [
      "Detected bottle with confidence 0.67\n",
      "Detected cell phone with confidence 0.49\n"
     ]
    },
    {
     "name": "stderr",
     "output_type": "stream",
     "text": [
      "Saved 1 image to \u001b[1m..\\data\\detections\\lobelia4cosmetics1147\u001b[0m\n"
     ]
    },
    {
     "name": "stdout",
     "output_type": "stream",
     "text": [
      "Detected bottle with confidence 0.67\n",
      "Detected cell phone with confidence 0.49\n"
     ]
    },
    {
     "name": "stderr",
     "output_type": "stream",
     "text": [
      "Saved 1 image to \u001b[1m..\\data\\detections\\lobelia4cosmetics1148\u001b[0m\n"
     ]
    },
    {
     "name": "stdout",
     "output_type": "stream",
     "text": [
      "Detected bottle with confidence 0.67\n",
      "Detected cell phone with confidence 0.49\n"
     ]
    },
    {
     "name": "stderr",
     "output_type": "stream",
     "text": [
      "Saved 1 image to \u001b[1m..\\data\\detections\\lobelia4cosmetics1149\u001b[0m\n",
      "Saved 1 image to \u001b[1m..\\data\\detections\\lobelia4cosmetics1150\u001b[0m\n",
      "Saved 1 image to \u001b[1m..\\data\\detections\\lobelia4cosmetics1151\u001b[0m\n",
      "Saved 1 image to \u001b[1m..\\data\\detections\\lobelia4cosmetics1152\u001b[0m\n",
      "Saved 1 image to \u001b[1m..\\data\\detections\\lobelia4cosmetics1153\u001b[0m\n",
      "Saved 1 image to \u001b[1m..\\data\\detections\\lobelia4cosmetics1154\u001b[0m\n",
      "Saved 1 image to \u001b[1m..\\data\\detections\\lobelia4cosmetics1155\u001b[0m\n",
      "Saved 1 image to \u001b[1m..\\data\\detections\\lobelia4cosmetics1156\u001b[0m\n",
      "Saved 1 image to \u001b[1m..\\data\\detections\\lobelia4cosmetics1157\u001b[0m\n",
      "Saved 1 image to \u001b[1m..\\data\\detections\\lobelia4cosmetics1158\u001b[0m\n",
      "Saved 1 image to \u001b[1m..\\data\\detections\\lobelia4cosmetics1159\u001b[0m\n",
      "Saved 1 image to \u001b[1m..\\data\\detections\\lobelia4cosmetics1160\u001b[0m\n",
      "Saved 1 image to \u001b[1m..\\data\\detections\\lobelia4cosmetics1161\u001b[0m\n",
      "Saved 1 image to \u001b[1m..\\data\\detections\\lobelia4cosmetics1162\u001b[0m\n",
      "Saved 1 image to \u001b[1m..\\data\\detections\\lobelia4cosmetics1163\u001b[0m\n",
      "Saved 1 image to \u001b[1m..\\data\\detections\\lobelia4cosmetics1164\u001b[0m\n",
      "Saved 1 image to \u001b[1m..\\data\\detections\\lobelia4cosmetics1165\u001b[0m\n",
      "Saved 1 image to \u001b[1m..\\data\\detections\\lobelia4cosmetics1166\u001b[0m\n",
      "Saved 1 image to \u001b[1m..\\data\\detections\\lobelia4cosmetics1167\u001b[0m\n",
      "Saved 1 image to \u001b[1m..\\data\\detections\\lobelia4cosmetics1168\u001b[0m\n",
      "Saved 1 image to \u001b[1m..\\data\\detections\\lobelia4cosmetics1169\u001b[0m\n",
      "Saved 1 image to \u001b[1m..\\data\\detections\\lobelia4cosmetics1170\u001b[0m\n",
      "Saved 1 image to \u001b[1m..\\data\\detections\\lobelia4cosmetics1171\u001b[0m\n",
      "Saved 1 image to \u001b[1m..\\data\\detections\\lobelia4cosmetics1172\u001b[0m\n",
      "Saved 1 image to \u001b[1m..\\data\\detections\\lobelia4cosmetics1173\u001b[0m\n",
      "Saved 1 image to \u001b[1m..\\data\\detections\\lobelia4cosmetics1174\u001b[0m\n"
     ]
    },
    {
     "name": "stdout",
     "output_type": "stream",
     "text": [
      "Detected cell phone with confidence 0.32\n"
     ]
    },
    {
     "name": "stderr",
     "output_type": "stream",
     "text": [
      "Saved 1 image to \u001b[1m..\\data\\detections\\lobelia4cosmetics1175\u001b[0m\n"
     ]
    },
    {
     "name": "stdout",
     "output_type": "stream",
     "text": [
      "Detected cell phone with confidence 0.26\n"
     ]
    },
    {
     "name": "stderr",
     "output_type": "stream",
     "text": [
      "Saved 1 image to \u001b[1m..\\data\\detections\\lobelia4cosmetics1176\u001b[0m\n"
     ]
    },
    {
     "name": "stdout",
     "output_type": "stream",
     "text": [
      "Detected cell phone with confidence 0.29\n"
     ]
    },
    {
     "name": "stderr",
     "output_type": "stream",
     "text": [
      "Saved 1 image to \u001b[1m..\\data\\detections\\lobelia4cosmetics1177\u001b[0m\n",
      "Saved 1 image to \u001b[1m..\\data\\detections\\lobelia4cosmetics1178\u001b[0m\n",
      "Saved 1 image to \u001b[1m..\\data\\detections\\lobelia4cosmetics1179\u001b[0m\n",
      "Saved 1 image to \u001b[1m..\\data\\detections\\lobelia4cosmetics1180\u001b[0m\n"
     ]
    },
    {
     "name": "stdout",
     "output_type": "stream",
     "text": [
      "Detected bottle with confidence 0.89\n",
      "Detected bottle with confidence 0.29\n"
     ]
    },
    {
     "name": "stderr",
     "output_type": "stream",
     "text": [
      "Saved 1 image to \u001b[1m..\\data\\detections\\lobelia4cosmetics1181\u001b[0m\n"
     ]
    },
    {
     "name": "stdout",
     "output_type": "stream",
     "text": [
      "Detected bottle with confidence 0.89\n",
      "Detected bottle with confidence 0.27\n"
     ]
    },
    {
     "name": "stderr",
     "output_type": "stream",
     "text": [
      "Saved 1 image to \u001b[1m..\\data\\detections\\lobelia4cosmetics1182\u001b[0m\n"
     ]
    },
    {
     "name": "stdout",
     "output_type": "stream",
     "text": [
      "Detected bottle with confidence 0.89\n",
      "Detected bottle with confidence 0.27\n"
     ]
    },
    {
     "name": "stderr",
     "output_type": "stream",
     "text": [
      "Saved 1 image to \u001b[1m..\\data\\detections\\lobelia4cosmetics1183\u001b[0m\n"
     ]
    },
    {
     "name": "stdout",
     "output_type": "stream",
     "text": [
      "Detected bottle with confidence 0.89\n",
      "Detected bottle with confidence 0.27\n"
     ]
    },
    {
     "name": "stderr",
     "output_type": "stream",
     "text": [
      "Saved 1 image to \u001b[1m..\\data\\detections\\lobelia4cosmetics1184\u001b[0m\n"
     ]
    },
    {
     "name": "stdout",
     "output_type": "stream",
     "text": [
      "Detected bottle with confidence 0.89\n",
      "Detected bottle with confidence 0.27\n"
     ]
    },
    {
     "name": "stderr",
     "output_type": "stream",
     "text": [
      "Saved 1 image to \u001b[1m..\\data\\detections\\lobelia4cosmetics1185\u001b[0m\n"
     ]
    },
    {
     "name": "stdout",
     "output_type": "stream",
     "text": [
      "Detected bottle with confidence 0.89\n",
      "Detected bottle with confidence 0.27\n"
     ]
    },
    {
     "name": "stderr",
     "output_type": "stream",
     "text": [
      "Saved 1 image to \u001b[1m..\\data\\detections\\lobelia4cosmetics1186\u001b[0m\n"
     ]
    },
    {
     "name": "stdout",
     "output_type": "stream",
     "text": [
      "Detected bottle with confidence 0.89\n",
      "Detected bottle with confidence 0.27\n"
     ]
    },
    {
     "name": "stderr",
     "output_type": "stream",
     "text": [
      "Saved 1 image to \u001b[1m..\\data\\detections\\lobelia4cosmetics1187\u001b[0m\n"
     ]
    },
    {
     "name": "stdout",
     "output_type": "stream",
     "text": [
      "Detected toothbrush with confidence 0.54\n"
     ]
    },
    {
     "name": "stderr",
     "output_type": "stream",
     "text": [
      "Saved 1 image to \u001b[1m..\\data\\detections\\lobelia4cosmetics1188\u001b[0m\n"
     ]
    },
    {
     "name": "stdout",
     "output_type": "stream",
     "text": [
      "Detected toothbrush with confidence 0.55\n"
     ]
    },
    {
     "name": "stderr",
     "output_type": "stream",
     "text": [
      "Saved 1 image to \u001b[1m..\\data\\detections\\lobelia4cosmetics1189\u001b[0m\n"
     ]
    },
    {
     "name": "stdout",
     "output_type": "stream",
     "text": [
      "Detected toothbrush with confidence 0.55\n"
     ]
    },
    {
     "name": "stderr",
     "output_type": "stream",
     "text": [
      "Saved 1 image to \u001b[1m..\\data\\detections\\lobelia4cosmetics1190\u001b[0m\n",
      "Saved 1 image to \u001b[1m..\\data\\detections\\lobelia4cosmetics1191\u001b[0m\n",
      "Saved 1 image to \u001b[1m..\\data\\detections\\lobelia4cosmetics1192\u001b[0m\n",
      "Saved 1 image to \u001b[1m..\\data\\detections\\lobelia4cosmetics1193\u001b[0m\n",
      "Saved 1 image to \u001b[1m..\\data\\detections\\lobelia4cosmetics1194\u001b[0m\n",
      "Saved 1 image to \u001b[1m..\\data\\detections\\lobelia4cosmetics1195\u001b[0m\n",
      "Saved 1 image to \u001b[1m..\\data\\detections\\lobelia4cosmetics1196\u001b[0m\n",
      "Saved 1 image to \u001b[1m..\\data\\detections\\lobelia4cosmetics1197\u001b[0m\n",
      "Saved 1 image to \u001b[1m..\\data\\detections\\lobelia4cosmetics1198\u001b[0m\n",
      "Saved 1 image to \u001b[1m..\\data\\detections\\lobelia4cosmetics1199\u001b[0m\n",
      "Saved 1 image to \u001b[1m..\\data\\detections\\lobelia4cosmetics1200\u001b[0m\n",
      "Saved 1 image to \u001b[1m..\\data\\detections\\lobelia4cosmetics1201\u001b[0m\n",
      "Saved 1 image to \u001b[1m..\\data\\detections\\lobelia4cosmetics1202\u001b[0m\n",
      "Saved 1 image to \u001b[1m..\\data\\detections\\lobelia4cosmetics1203\u001b[0m\n",
      "Saved 1 image to \u001b[1m..\\data\\detections\\lobelia4cosmetics1204\u001b[0m\n",
      "Saved 1 image to \u001b[1m..\\data\\detections\\lobelia4cosmetics1205\u001b[0m\n",
      "Saved 1 image to \u001b[1m..\\data\\detections\\lobelia4cosmetics1206\u001b[0m\n",
      "Saved 1 image to \u001b[1m..\\data\\detections\\lobelia4cosmetics1207\u001b[0m\n",
      "Saved 1 image to \u001b[1m..\\data\\detections\\lobelia4cosmetics1208\u001b[0m\n",
      "Saved 1 image to \u001b[1m..\\data\\detections\\lobelia4cosmetics1209\u001b[0m\n",
      "Saved 1 image to \u001b[1m..\\data\\detections\\lobelia4cosmetics1210\u001b[0m\n",
      "Saved 1 image to \u001b[1m..\\data\\detections\\lobelia4cosmetics1211\u001b[0m\n",
      "Saved 1 image to \u001b[1m..\\data\\detections\\lobelia4cosmetics1212\u001b[0m\n",
      "Saved 1 image to \u001b[1m..\\data\\detections\\lobelia4cosmetics1213\u001b[0m\n",
      "Saved 1 image to \u001b[1m..\\data\\detections\\lobelia4cosmetics1214\u001b[0m\n"
     ]
    },
    {
     "name": "stdout",
     "output_type": "stream",
     "text": [
      "Detected parking meter with confidence 0.26\n"
     ]
    },
    {
     "name": "stderr",
     "output_type": "stream",
     "text": [
      "Saved 1 image to \u001b[1m..\\data\\detections\\lobelia4cosmetics1215\u001b[0m\n",
      "Saved 1 image to \u001b[1m..\\data\\detections\\lobelia4cosmetics1216\u001b[0m\n",
      "Saved 1 image to \u001b[1m..\\data\\detections\\lobelia4cosmetics1217\u001b[0m\n",
      "Saved 1 image to \u001b[1m..\\data\\detections\\lobelia4cosmetics1218\u001b[0m\n",
      "Saved 1 image to \u001b[1m..\\data\\detections\\lobelia4cosmetics1219\u001b[0m\n",
      "Saved 1 image to \u001b[1m..\\data\\detections\\lobelia4cosmetics1220\u001b[0m\n",
      "Saved 1 image to \u001b[1m..\\data\\detections\\lobelia4cosmetics1221\u001b[0m\n",
      "Saved 1 image to \u001b[1m..\\data\\detections\\lobelia4cosmetics1222\u001b[0m\n",
      "Saved 1 image to \u001b[1m..\\data\\detections\\lobelia4cosmetics1223\u001b[0m\n",
      "Saved 1 image to \u001b[1m..\\data\\detections\\lobelia4cosmetics1224\u001b[0m\n",
      "Saved 1 image to \u001b[1m..\\data\\detections\\lobelia4cosmetics1225\u001b[0m\n",
      "Saved 1 image to \u001b[1m..\\data\\detections\\lobelia4cosmetics1226\u001b[0m\n",
      "Saved 1 image to \u001b[1m..\\data\\detections\\lobelia4cosmetics1227\u001b[0m\n",
      "Saved 1 image to \u001b[1m..\\data\\detections\\lobelia4cosmetics1228\u001b[0m\n"
     ]
    },
    {
     "name": "stdout",
     "output_type": "stream",
     "text": [
      "Detected refrigerator with confidence 0.36\n"
     ]
    },
    {
     "name": "stderr",
     "output_type": "stream",
     "text": [
      "Saved 1 image to \u001b[1m..\\data\\detections\\lobelia4cosmetics1229\u001b[0m\n"
     ]
    },
    {
     "name": "stdout",
     "output_type": "stream",
     "text": [
      "Detected refrigerator with confidence 0.32\n"
     ]
    },
    {
     "name": "stderr",
     "output_type": "stream",
     "text": [
      "Saved 1 image to \u001b[1m..\\data\\detections\\lobelia4cosmetics1230\u001b[0m\n"
     ]
    },
    {
     "name": "stdout",
     "output_type": "stream",
     "text": [
      "Detected refrigerator with confidence 0.32\n"
     ]
    },
    {
     "name": "stderr",
     "output_type": "stream",
     "text": [
      "Saved 1 image to \u001b[1m..\\data\\detections\\lobelia4cosmetics1231\u001b[0m\n"
     ]
    },
    {
     "name": "stdout",
     "output_type": "stream",
     "text": [
      "Detected refrigerator with confidence 0.32\n"
     ]
    },
    {
     "name": "stderr",
     "output_type": "stream",
     "text": [
      "Saved 1 image to \u001b[1m..\\data\\detections\\lobelia4cosmetics1232\u001b[0m\n",
      "Saved 1 image to \u001b[1m..\\data\\detections\\lobelia4cosmetics1233\u001b[0m\n",
      "Saved 1 image to \u001b[1m..\\data\\detections\\lobelia4cosmetics1234\u001b[0m\n",
      "Saved 1 image to \u001b[1m..\\data\\detections\\lobelia4cosmetics1235\u001b[0m\n",
      "Saved 1 image to \u001b[1m..\\data\\detections\\lobelia4cosmetics1236\u001b[0m\n",
      "Saved 1 image to \u001b[1m..\\data\\detections\\lobelia4cosmetics1237\u001b[0m\n",
      "Saved 1 image to \u001b[1m..\\data\\detections\\lobelia4cosmetics1238\u001b[0m\n"
     ]
    },
    {
     "name": "stdout",
     "output_type": "stream",
     "text": [
      "Detected book with confidence 0.61\n"
     ]
    },
    {
     "name": "stderr",
     "output_type": "stream",
     "text": [
      "Saved 1 image to \u001b[1m..\\data\\detections\\lobelia4cosmetics1239\u001b[0m\n"
     ]
    },
    {
     "name": "stdout",
     "output_type": "stream",
     "text": [
      "Detected book with confidence 0.35\n"
     ]
    },
    {
     "name": "stderr",
     "output_type": "stream",
     "text": [
      "Saved 1 image to \u001b[1m..\\data\\detections\\lobelia4cosmetics1240\u001b[0m\n"
     ]
    },
    {
     "name": "stdout",
     "output_type": "stream",
     "text": [
      "Detected book with confidence 0.35\n"
     ]
    },
    {
     "name": "stderr",
     "output_type": "stream",
     "text": [
      "Saved 1 image to \u001b[1m..\\data\\detections\\lobelia4cosmetics1241\u001b[0m\n"
     ]
    },
    {
     "name": "stdout",
     "output_type": "stream",
     "text": [
      "Detected book with confidence 0.35\n"
     ]
    },
    {
     "name": "stderr",
     "output_type": "stream",
     "text": [
      "Saved 1 image to \u001b[1m..\\data\\detections\\lobelia4cosmetics1242\u001b[0m\n"
     ]
    },
    {
     "name": "stdout",
     "output_type": "stream",
     "text": [
      "Detected bottle with confidence 0.31\n",
      "Detected book with confidence 0.25\n"
     ]
    },
    {
     "name": "stderr",
     "output_type": "stream",
     "text": [
      "Saved 1 image to \u001b[1m..\\data\\detections\\lobelia4cosmetics1243\u001b[0m\n"
     ]
    },
    {
     "name": "stdout",
     "output_type": "stream",
     "text": [
      "Detected bottle with confidence 0.30\n"
     ]
    },
    {
     "name": "stderr",
     "output_type": "stream",
     "text": [
      "Saved 1 image to \u001b[1m..\\data\\detections\\lobelia4cosmetics1244\u001b[0m\n"
     ]
    },
    {
     "name": "stdout",
     "output_type": "stream",
     "text": [
      "Detected bottle with confidence 0.30\n"
     ]
    },
    {
     "name": "stderr",
     "output_type": "stream",
     "text": [
      "Saved 1 image to \u001b[1m..\\data\\detections\\lobelia4cosmetics1245\u001b[0m\n"
     ]
    },
    {
     "name": "stdout",
     "output_type": "stream",
     "text": [
      "Detected bottle with confidence 0.30\n"
     ]
    },
    {
     "name": "stderr",
     "output_type": "stream",
     "text": [
      "Saved 1 image to \u001b[1m..\\data\\detections\\lobelia4cosmetics1246\u001b[0m\n",
      "Saved 1 image to \u001b[1m..\\data\\detections\\lobelia4cosmetics1247\u001b[0m\n",
      "Saved 1 image to \u001b[1m..\\data\\detections\\lobelia4cosmetics1248\u001b[0m\n",
      "Saved 1 image to \u001b[1m..\\data\\detections\\lobelia4cosmetics1249\u001b[0m\n",
      "Saved 1 image to \u001b[1m..\\data\\detections\\lobelia4cosmetics1250\u001b[0m\n",
      "Saved 1 image to \u001b[1m..\\data\\detections\\lobelia4cosmetics1251\u001b[0m\n",
      "Saved 1 image to \u001b[1m..\\data\\detections\\lobelia4cosmetics1252\u001b[0m\n",
      "Saved 1 image to \u001b[1m..\\data\\detections\\lobelia4cosmetics1253\u001b[0m\n",
      "Saved 1 image to \u001b[1m..\\data\\detections\\lobelia4cosmetics1254\u001b[0m\n"
     ]
    },
    {
     "name": "stdout",
     "output_type": "stream",
     "text": [
      "Detected bottle with confidence 0.63\n",
      "Detected refrigerator with confidence 0.47\n"
     ]
    },
    {
     "name": "stderr",
     "output_type": "stream",
     "text": [
      "Saved 1 image to \u001b[1m..\\data\\detections\\lobelia4cosmetics1255\u001b[0m\n"
     ]
    },
    {
     "name": "stdout",
     "output_type": "stream",
     "text": [
      "Detected refrigerator with confidence 0.50\n",
      "Detected bottle with confidence 0.50\n"
     ]
    },
    {
     "name": "stderr",
     "output_type": "stream",
     "text": [
      "Saved 1 image to \u001b[1m..\\data\\detections\\lobelia4cosmetics1256\u001b[0m\n"
     ]
    },
    {
     "name": "stdout",
     "output_type": "stream",
     "text": [
      "Detected refrigerator with confidence 0.50\n",
      "Detected bottle with confidence 0.50\n"
     ]
    },
    {
     "name": "stderr",
     "output_type": "stream",
     "text": [
      "Saved 1 image to \u001b[1m..\\data\\detections\\lobelia4cosmetics1257\u001b[0m\n"
     ]
    },
    {
     "name": "stdout",
     "output_type": "stream",
     "text": [
      "Detected refrigerator with confidence 0.50\n",
      "Detected bottle with confidence 0.50\n"
     ]
    },
    {
     "name": "stderr",
     "output_type": "stream",
     "text": [
      "Saved 1 image to \u001b[1m..\\data\\detections\\lobelia4cosmetics1258\u001b[0m\n",
      "Saved 1 image to \u001b[1m..\\data\\detections\\lobelia4cosmetics1259\u001b[0m\n",
      "Saved 1 image to \u001b[1m..\\data\\detections\\lobelia4cosmetics1260\u001b[0m\n"
     ]
    },
    {
     "name": "stdout",
     "output_type": "stream",
     "text": [
      "Detected cup with confidence 0.63\n"
     ]
    },
    {
     "name": "stderr",
     "output_type": "stream",
     "text": [
      "Saved 1 image to \u001b[1m..\\data\\detections\\lobelia4cosmetics1261\u001b[0m\n"
     ]
    },
    {
     "name": "stdout",
     "output_type": "stream",
     "text": [
      "Detected cup with confidence 0.59\n"
     ]
    },
    {
     "name": "stderr",
     "output_type": "stream",
     "text": [
      "Saved 1 image to \u001b[1m..\\data\\detections\\lobelia4cosmetics1262\u001b[0m\n"
     ]
    },
    {
     "name": "stdout",
     "output_type": "stream",
     "text": [
      "Detected remote with confidence 0.40\n"
     ]
    },
    {
     "name": "stderr",
     "output_type": "stream",
     "text": [
      "Saved 1 image to \u001b[1m..\\data\\detections\\lobelia4cosmetics1263\u001b[0m\n"
     ]
    },
    {
     "name": "stdout",
     "output_type": "stream",
     "text": [
      "Detected remote with confidence 0.35\n"
     ]
    },
    {
     "name": "stderr",
     "output_type": "stream",
     "text": [
      "Saved 1 image to \u001b[1m..\\data\\detections\\lobelia4cosmetics1264\u001b[0m\n"
     ]
    },
    {
     "name": "stdout",
     "output_type": "stream",
     "text": [
      "Detected remote with confidence 0.35\n"
     ]
    },
    {
     "name": "stderr",
     "output_type": "stream",
     "text": [
      "Saved 1 image to \u001b[1m..\\data\\detections\\lobelia4cosmetics1265\u001b[0m\n"
     ]
    },
    {
     "name": "stdout",
     "output_type": "stream",
     "text": [
      "Detected remote with confidence 0.35\n"
     ]
    },
    {
     "name": "stderr",
     "output_type": "stream",
     "text": [
      "Saved 1 image to \u001b[1m..\\data\\detections\\lobelia4cosmetics1266\u001b[0m\n"
     ]
    },
    {
     "name": "stdout",
     "output_type": "stream",
     "text": [
      "Detected remote with confidence 0.35\n"
     ]
    },
    {
     "name": "stderr",
     "output_type": "stream",
     "text": [
      "Saved 1 image to \u001b[1m..\\data\\detections\\lobelia4cosmetics1267\u001b[0m\n"
     ]
    },
    {
     "name": "stdout",
     "output_type": "stream",
     "text": [
      "Detected remote with confidence 0.35\n"
     ]
    },
    {
     "name": "stderr",
     "output_type": "stream",
     "text": [
      "Saved 1 image to \u001b[1m..\\data\\detections\\lobelia4cosmetics1268\u001b[0m\n",
      "Saved 1 image to \u001b[1m..\\data\\detections\\lobelia4cosmetics1269\u001b[0m\n",
      "Saved 1 image to \u001b[1m..\\data\\detections\\lobelia4cosmetics1270\u001b[0m\n",
      "Saved 1 image to \u001b[1m..\\data\\detections\\lobelia4cosmetics1271\u001b[0m\n",
      "Saved 1 image to \u001b[1m..\\data\\detections\\lobelia4cosmetics1272\u001b[0m\n",
      "Saved 1 image to \u001b[1m..\\data\\detections\\lobelia4cosmetics1273\u001b[0m\n",
      "Saved 1 image to \u001b[1m..\\data\\detections\\lobelia4cosmetics1274\u001b[0m\n",
      "Saved 1 image to \u001b[1m..\\data\\detections\\lobelia4cosmetics1275\u001b[0m\n",
      "Saved 1 image to \u001b[1m..\\data\\detections\\lobelia4cosmetics1276\u001b[0m\n",
      "Saved 1 image to \u001b[1m..\\data\\detections\\lobelia4cosmetics1277\u001b[0m\n"
     ]
    },
    {
     "name": "stdout",
     "output_type": "stream",
     "text": [
      "Detected bottle with confidence 0.26\n"
     ]
    },
    {
     "name": "stderr",
     "output_type": "stream",
     "text": [
      "Saved 1 image to \u001b[1m..\\data\\detections\\lobelia4cosmetics1278\u001b[0m\n",
      "Saved 1 image to \u001b[1m..\\data\\detections\\lobelia4cosmetics1279\u001b[0m\n",
      "Saved 1 image to \u001b[1m..\\data\\detections\\lobelia4cosmetics1280\u001b[0m\n",
      "Saved 1 image to \u001b[1m..\\data\\detections\\lobelia4cosmetics1281\u001b[0m\n",
      "Saved 1 image to \u001b[1m..\\data\\detections\\lobelia4cosmetics1282\u001b[0m\n",
      "Saved 1 image to \u001b[1m..\\data\\detections\\lobelia4cosmetics1283\u001b[0m\n",
      "Saved 1 image to \u001b[1m..\\data\\detections\\lobelia4cosmetics1284\u001b[0m\n"
     ]
    },
    {
     "name": "stdout",
     "output_type": "stream",
     "text": [
      "Detected bottle with confidence 0.42\n",
      "Detected vase with confidence 0.30\n"
     ]
    },
    {
     "name": "stderr",
     "output_type": "stream",
     "text": [
      "Saved 1 image to \u001b[1m..\\data\\detections\\lobelia4cosmetics1285\u001b[0m\n"
     ]
    },
    {
     "name": "stdout",
     "output_type": "stream",
     "text": [
      "Detected bottle with confidence 0.49\n"
     ]
    },
    {
     "name": "stderr",
     "output_type": "stream",
     "text": [
      "Saved 1 image to \u001b[1m..\\data\\detections\\lobelia4cosmetics1286\u001b[0m\n"
     ]
    },
    {
     "name": "stdout",
     "output_type": "stream",
     "text": [
      "Detected tie with confidence 0.56\n"
     ]
    },
    {
     "name": "stderr",
     "output_type": "stream",
     "text": [
      "Saved 1 image to \u001b[1m..\\data\\detections\\lobelia4cosmetics1287\u001b[0m\n"
     ]
    },
    {
     "name": "stdout",
     "output_type": "stream",
     "text": [
      "Detected tie with confidence 0.54\n"
     ]
    },
    {
     "name": "stderr",
     "output_type": "stream",
     "text": [
      "Saved 1 image to \u001b[1m..\\data\\detections\\lobelia4cosmetics1288\u001b[0m\n"
     ]
    },
    {
     "name": "stdout",
     "output_type": "stream",
     "text": [
      "Detected tie with confidence 0.54\n"
     ]
    },
    {
     "name": "stderr",
     "output_type": "stream",
     "text": [
      "Saved 1 image to \u001b[1m..\\data\\detections\\lobelia4cosmetics1289\u001b[0m\n"
     ]
    },
    {
     "name": "stdout",
     "output_type": "stream",
     "text": [
      "Detected tie with confidence 0.54\n"
     ]
    },
    {
     "name": "stderr",
     "output_type": "stream",
     "text": [
      "Saved 1 image to \u001b[1m..\\data\\detections\\lobelia4cosmetics1290\u001b[0m\n"
     ]
    },
    {
     "name": "stdout",
     "output_type": "stream",
     "text": [
      "Detected bottle with confidence 0.69\n",
      "Detected bottle with confidence 0.31\n",
      "Detected book with confidence 0.31\n"
     ]
    },
    {
     "name": "stderr",
     "output_type": "stream",
     "text": [
      "Saved 1 image to \u001b[1m..\\data\\detections\\lobelia4cosmetics1291\u001b[0m\n"
     ]
    },
    {
     "name": "stdout",
     "output_type": "stream",
     "text": [
      "Detected bottle with confidence 0.76\n",
      "Detected bottle with confidence 0.65\n"
     ]
    },
    {
     "name": "stderr",
     "output_type": "stream",
     "text": [
      "Saved 1 image to \u001b[1m..\\data\\detections\\lobelia4cosmetics1292\u001b[0m\n"
     ]
    },
    {
     "name": "stdout",
     "output_type": "stream",
     "text": [
      "Detected bottle with confidence 0.76\n",
      "Detected bottle with confidence 0.65\n"
     ]
    },
    {
     "name": "stderr",
     "output_type": "stream",
     "text": [
      "Saved 1 image to \u001b[1m..\\data\\detections\\lobelia4cosmetics1293\u001b[0m\n"
     ]
    },
    {
     "name": "stdout",
     "output_type": "stream",
     "text": [
      "Detected bottle with confidence 0.54\n"
     ]
    },
    {
     "name": "stderr",
     "output_type": "stream",
     "text": [
      "Saved 1 image to \u001b[1m..\\data\\detections\\lobelia4cosmetics1294\u001b[0m\n"
     ]
    },
    {
     "name": "stdout",
     "output_type": "stream",
     "text": [
      "Detected bottle with confidence 0.55\n"
     ]
    },
    {
     "name": "stderr",
     "output_type": "stream",
     "text": [
      "Saved 1 image to \u001b[1m..\\data\\detections\\lobelia4cosmetics1295\u001b[0m\n"
     ]
    },
    {
     "name": "stdout",
     "output_type": "stream",
     "text": [
      "Detected bottle with confidence 0.55\n"
     ]
    },
    {
     "name": "stderr",
     "output_type": "stream",
     "text": [
      "Saved 1 image to \u001b[1m..\\data\\detections\\lobelia4cosmetics1296\u001b[0m\n"
     ]
    },
    {
     "name": "stdout",
     "output_type": "stream",
     "text": [
      "Detected bottle with confidence 0.55\n"
     ]
    },
    {
     "name": "stderr",
     "output_type": "stream",
     "text": [
      "Saved 1 image to \u001b[1m..\\data\\detections\\lobelia4cosmetics1297\u001b[0m\n",
      "Saved 1 image to \u001b[1m..\\data\\detections\\lobelia4cosmetics1298\u001b[0m\n",
      "Saved 1 image to \u001b[1m..\\data\\detections\\lobelia4cosmetics1299\u001b[0m\n"
     ]
    },
    {
     "name": "stdout",
     "output_type": "stream",
     "text": [
      "Detected cell phone with confidence 0.29\n",
      "Detected toothbrush with confidence 0.28\n"
     ]
    },
    {
     "name": "stderr",
     "output_type": "stream",
     "text": [
      "Saved 1 image to \u001b[1m..\\data\\detections\\lobelia4cosmetics1300\u001b[0m\n"
     ]
    },
    {
     "name": "stdout",
     "output_type": "stream",
     "text": [
      "Detected cell phone with confidence 0.36\n"
     ]
    },
    {
     "name": "stderr",
     "output_type": "stream",
     "text": [
      "Saved 1 image to \u001b[1m..\\data\\detections\\lobelia4cosmetics1301\u001b[0m\n"
     ]
    },
    {
     "name": "stdout",
     "output_type": "stream",
     "text": [
      "Detected cell phone with confidence 0.36\n"
     ]
    },
    {
     "name": "stderr",
     "output_type": "stream",
     "text": [
      "Saved 1 image to \u001b[1m..\\data\\detections\\lobelia4cosmetics1302\u001b[0m\n"
     ]
    },
    {
     "name": "stdout",
     "output_type": "stream",
     "text": [
      "Detected cell phone with confidence 0.36\n"
     ]
    },
    {
     "name": "stderr",
     "output_type": "stream",
     "text": [
      "Saved 1 image to \u001b[1m..\\data\\detections\\lobelia4cosmetics1303\u001b[0m\n"
     ]
    },
    {
     "name": "stdout",
     "output_type": "stream",
     "text": [
      "Detected cell phone with confidence 0.36\n"
     ]
    },
    {
     "name": "stderr",
     "output_type": "stream",
     "text": [
      "Saved 1 image to \u001b[1m..\\data\\detections\\lobelia4cosmetics1304\u001b[0m\n"
     ]
    },
    {
     "name": "stdout",
     "output_type": "stream",
     "text": [
      "Detected cell phone with confidence 0.28\n"
     ]
    },
    {
     "name": "stderr",
     "output_type": "stream",
     "text": [
      "Saved 1 image to \u001b[1m..\\data\\detections\\lobelia4cosmetics1305\u001b[0m\n"
     ]
    },
    {
     "name": "stdout",
     "output_type": "stream",
     "text": [
      "Detected cell phone with confidence 0.58\n"
     ]
    },
    {
     "name": "stderr",
     "output_type": "stream",
     "text": [
      "Saved 1 image to \u001b[1m..\\data\\detections\\lobelia4cosmetics1306\u001b[0m\n"
     ]
    },
    {
     "name": "stdout",
     "output_type": "stream",
     "text": [
      "Detected cell phone with confidence 0.58\n"
     ]
    },
    {
     "name": "stderr",
     "output_type": "stream",
     "text": [
      "Saved 1 image to \u001b[1m..\\data\\detections\\lobelia4cosmetics1307\u001b[0m\n"
     ]
    },
    {
     "name": "stdout",
     "output_type": "stream",
     "text": [
      "Detected cell phone with confidence 0.58\n"
     ]
    },
    {
     "name": "stderr",
     "output_type": "stream",
     "text": [
      "Saved 1 image to \u001b[1m..\\data\\detections\\lobelia4cosmetics1308\u001b[0m\n"
     ]
    },
    {
     "name": "stdout",
     "output_type": "stream",
     "text": [
      "Detected cell phone with confidence 0.58\n"
     ]
    },
    {
     "name": "stderr",
     "output_type": "stream",
     "text": [
      "Saved 1 image to \u001b[1m..\\data\\detections\\lobelia4cosmetics1309\u001b[0m\n"
     ]
    },
    {
     "name": "stdout",
     "output_type": "stream",
     "text": [
      "Detected apple with confidence 0.41\n"
     ]
    },
    {
     "name": "stderr",
     "output_type": "stream",
     "text": [
      "Saved 1 image to \u001b[1m..\\data\\detections\\lobelia4cosmetics1310\u001b[0m\n"
     ]
    },
    {
     "name": "stdout",
     "output_type": "stream",
     "text": [
      "Detected apple with confidence 0.35\n"
     ]
    },
    {
     "name": "stderr",
     "output_type": "stream",
     "text": [
      "Saved 1 image to \u001b[1m..\\data\\detections\\lobelia4cosmetics1311\u001b[0m\n"
     ]
    },
    {
     "name": "stdout",
     "output_type": "stream",
     "text": [
      "Detected apple with confidence 0.35\n"
     ]
    },
    {
     "name": "stderr",
     "output_type": "stream",
     "text": [
      "Saved 1 image to \u001b[1m..\\data\\detections\\lobelia4cosmetics1312\u001b[0m\n"
     ]
    },
    {
     "name": "stdout",
     "output_type": "stream",
     "text": [
      "Detected apple with confidence 0.35\n"
     ]
    },
    {
     "name": "stderr",
     "output_type": "stream",
     "text": [
      "Saved 1 image to \u001b[1m..\\data\\detections\\lobelia4cosmetics1313\u001b[0m\n"
     ]
    },
    {
     "name": "stdout",
     "output_type": "stream",
     "text": [
      "Detected apple with confidence 0.35\n"
     ]
    },
    {
     "name": "stderr",
     "output_type": "stream",
     "text": [
      "Saved 1 image to \u001b[1m..\\data\\detections\\lobelia4cosmetics1314\u001b[0m\n"
     ]
    },
    {
     "name": "stdout",
     "output_type": "stream",
     "text": [
      "Detected apple with confidence 0.40\n"
     ]
    },
    {
     "name": "stderr",
     "output_type": "stream",
     "text": [
      "Saved 1 image to \u001b[1m..\\data\\detections\\lobelia4cosmetics1315\u001b[0m\n"
     ]
    },
    {
     "name": "stdout",
     "output_type": "stream",
     "text": [
      "Detected apple with confidence 0.40\n"
     ]
    },
    {
     "name": "stderr",
     "output_type": "stream",
     "text": [
      "Saved 1 image to \u001b[1m..\\data\\detections\\lobelia4cosmetics1316\u001b[0m\n"
     ]
    },
    {
     "name": "stdout",
     "output_type": "stream",
     "text": [
      "Detected apple with confidence 0.40\n"
     ]
    },
    {
     "name": "stderr",
     "output_type": "stream",
     "text": [
      "Saved 1 image to \u001b[1m..\\data\\detections\\lobelia4cosmetics1317\u001b[0m\n"
     ]
    },
    {
     "name": "stdout",
     "output_type": "stream",
     "text": [
      "Detected apple with confidence 0.40\n"
     ]
    },
    {
     "name": "stderr",
     "output_type": "stream",
     "text": [
      "Saved 1 image to \u001b[1m..\\data\\detections\\lobelia4cosmetics1318\u001b[0m\n"
     ]
    },
    {
     "name": "stdout",
     "output_type": "stream",
     "text": [
      "Detected apple with confidence 0.40\n"
     ]
    },
    {
     "name": "stderr",
     "output_type": "stream",
     "text": [
      "Saved 1 image to \u001b[1m..\\data\\detections\\lobelia4cosmetics1319\u001b[0m\n",
      "Saved 1 image to \u001b[1m..\\data\\detections\\lobelia4cosmetics1320\u001b[0m\n",
      "Saved 1 image to \u001b[1m..\\data\\detections\\lobelia4cosmetics1321\u001b[0m\n",
      "Saved 1 image to \u001b[1m..\\data\\detections\\lobelia4cosmetics1322\u001b[0m\n",
      "Saved 1 image to \u001b[1m..\\data\\detections\\lobelia4cosmetics1323\u001b[0m\n",
      "Saved 1 image to \u001b[1m..\\data\\detections\\lobelia4cosmetics1324\u001b[0m\n",
      "Saved 1 image to \u001b[1m..\\data\\detections\\lobelia4cosmetics1325\u001b[0m\n",
      "Saved 1 image to \u001b[1m..\\data\\detections\\lobelia4cosmetics1326\u001b[0m\n"
     ]
    },
    {
     "name": "stdout",
     "output_type": "stream",
     "text": [
      "Detected cup with confidence 0.52\n"
     ]
    },
    {
     "name": "stderr",
     "output_type": "stream",
     "text": [
      "Saved 1 image to \u001b[1m..\\data\\detections\\lobelia4cosmetics1327\u001b[0m\n"
     ]
    },
    {
     "name": "stdout",
     "output_type": "stream",
     "text": [
      "Detected cup with confidence 0.45\n"
     ]
    },
    {
     "name": "stderr",
     "output_type": "stream",
     "text": [
      "Saved 1 image to \u001b[1m..\\data\\detections\\lobelia4cosmetics1328\u001b[0m\n"
     ]
    },
    {
     "name": "stdout",
     "output_type": "stream",
     "text": [
      "Detected cup with confidence 0.45\n"
     ]
    },
    {
     "name": "stderr",
     "output_type": "stream",
     "text": [
      "Saved 1 image to \u001b[1m..\\data\\detections\\lobelia4cosmetics1329\u001b[0m\n",
      "Saved 1 image to \u001b[1m..\\data\\detections\\lobelia4cosmetics1330\u001b[0m\n",
      "Saved 1 image to \u001b[1m..\\data\\detections\\lobelia4cosmetics1331\u001b[0m\n",
      "Saved 1 image to \u001b[1m..\\data\\detections\\lobelia4cosmetics1332\u001b[0m\n",
      "Saved 1 image to \u001b[1m..\\data\\detections\\lobelia4cosmetics1333\u001b[0m\n",
      "Saved 1 image to \u001b[1m..\\data\\detections\\lobelia4cosmetics1334\u001b[0m\n",
      "Saved 1 image to \u001b[1m..\\data\\detections\\lobelia4cosmetics1335\u001b[0m\n",
      "Saved 1 image to \u001b[1m..\\data\\detections\\lobelia4cosmetics1336\u001b[0m\n",
      "Saved 1 image to \u001b[1m..\\data\\detections\\lobelia4cosmetics1337\u001b[0m\n",
      "Saved 1 image to \u001b[1m..\\data\\detections\\lobelia4cosmetics1338\u001b[0m\n"
     ]
    },
    {
     "name": "stdout",
     "output_type": "stream",
     "text": [
      "Detected bottle with confidence 0.59\n"
     ]
    },
    {
     "name": "stderr",
     "output_type": "stream",
     "text": [
      "Saved 1 image to \u001b[1m..\\data\\detections\\lobelia4cosmetics1339\u001b[0m\n"
     ]
    },
    {
     "name": "stdout",
     "output_type": "stream",
     "text": [
      "Detected bottle with confidence 0.57\n"
     ]
    },
    {
     "name": "stderr",
     "output_type": "stream",
     "text": [
      "Saved 1 image to \u001b[1m..\\data\\detections\\lobelia4cosmetics1340\u001b[0m\n",
      "Saved 1 image to \u001b[1m..\\data\\detections\\lobelia4cosmetics1341\u001b[0m\n",
      "Saved 1 image to \u001b[1m..\\data\\detections\\lobelia4cosmetics1342\u001b[0m\n",
      "Saved 1 image to \u001b[1m..\\data\\detections\\lobelia4cosmetics1343\u001b[0m\n",
      "Saved 1 image to \u001b[1m..\\data\\detections\\lobelia4cosmetics1344\u001b[0m\n"
     ]
    },
    {
     "name": "stdout",
     "output_type": "stream",
     "text": [
      "Detected parking meter with confidence 0.29\n"
     ]
    },
    {
     "name": "stderr",
     "output_type": "stream",
     "text": [
      "Saved 1 image to \u001b[1m..\\data\\detections\\lobelia4cosmetics1345\u001b[0m\n",
      "Saved 1 image to \u001b[1m..\\data\\detections\\lobelia4cosmetics1346\u001b[0m\n",
      "Saved 1 image to \u001b[1m..\\data\\detections\\lobelia4cosmetics1347\u001b[0m\n",
      "Saved 1 image to \u001b[1m..\\data\\detections\\lobelia4cosmetics1348\u001b[0m\n",
      "Saved 1 image to \u001b[1m..\\data\\detections\\lobelia4cosmetics1349\u001b[0m\n",
      "Saved 1 image to \u001b[1m..\\data\\detections\\lobelia4cosmetics1350\u001b[0m\n"
     ]
    },
    {
     "name": "stdout",
     "output_type": "stream",
     "text": [
      "Detected bottle with confidence 0.25\n"
     ]
    },
    {
     "name": "stderr",
     "output_type": "stream",
     "text": [
      "Saved 1 image to \u001b[1m..\\data\\detections\\lobelia4cosmetics1351\u001b[0m\n"
     ]
    },
    {
     "name": "stdout",
     "output_type": "stream",
     "text": [
      "Detected bottle with confidence 0.27\n"
     ]
    },
    {
     "name": "stderr",
     "output_type": "stream",
     "text": [
      "Saved 1 image to \u001b[1m..\\data\\detections\\lobelia4cosmetics1352\u001b[0m\n"
     ]
    },
    {
     "name": "stdout",
     "output_type": "stream",
     "text": [
      "Detected bottle with confidence 0.68\n"
     ]
    },
    {
     "name": "stderr",
     "output_type": "stream",
     "text": [
      "Saved 1 image to \u001b[1m..\\data\\detections\\lobelia4cosmetics1353\u001b[0m\n"
     ]
    },
    {
     "name": "stdout",
     "output_type": "stream",
     "text": [
      "Detected bottle with confidence 0.64\n"
     ]
    },
    {
     "name": "stderr",
     "output_type": "stream",
     "text": [
      "Saved 1 image to \u001b[1m..\\data\\detections\\lobelia4cosmetics1354\u001b[0m\n"
     ]
    },
    {
     "name": "stdout",
     "output_type": "stream",
     "text": [
      "Detected bottle with confidence 0.50\n"
     ]
    },
    {
     "name": "stderr",
     "output_type": "stream",
     "text": [
      "Saved 1 image to \u001b[1m..\\data\\detections\\lobelia4cosmetics1355\u001b[0m\n"
     ]
    },
    {
     "name": "stdout",
     "output_type": "stream",
     "text": [
      "Detected bottle with confidence 0.39\n"
     ]
    },
    {
     "name": "stderr",
     "output_type": "stream",
     "text": [
      "Saved 1 image to \u001b[1m..\\data\\detections\\lobelia4cosmetics1356\u001b[0m\n",
      "Saved 1 image to \u001b[1m..\\data\\detections\\lobelia4cosmetics1357\u001b[0m\n",
      "Saved 1 image to \u001b[1m..\\data\\detections\\lobelia4cosmetics1358\u001b[0m\n",
      "Saved 1 image to \u001b[1m..\\data\\detections\\lobelia4cosmetics1359\u001b[0m\n",
      "Saved 1 image to \u001b[1m..\\data\\detections\\lobelia4cosmetics1360\u001b[0m\n",
      "Saved 1 image to \u001b[1m..\\data\\detections\\lobelia4cosmetics1361\u001b[0m\n",
      "Saved 1 image to \u001b[1m..\\data\\detections\\lobelia4cosmetics1362\u001b[0m\n",
      "Saved 1 image to \u001b[1m..\\data\\detections\\lobelia4cosmetics1363\u001b[0m\n"
     ]
    },
    {
     "name": "stdout",
     "output_type": "stream",
     "text": [
      "Detected parking meter with confidence 0.33\n"
     ]
    },
    {
     "name": "stderr",
     "output_type": "stream",
     "text": [
      "Saved 1 image to \u001b[1m..\\data\\detections\\lobelia4cosmetics1364\u001b[0m\n"
     ]
    },
    {
     "name": "stdout",
     "output_type": "stream",
     "text": [
      "Detected parking meter with confidence 0.39\n"
     ]
    },
    {
     "name": "stderr",
     "output_type": "stream",
     "text": [
      "Saved 1 image to \u001b[1m..\\data\\detections\\lobelia4cosmetics1365\u001b[0m\n"
     ]
    },
    {
     "name": "stdout",
     "output_type": "stream",
     "text": [
      "Detected parking meter with confidence 0.39\n"
     ]
    },
    {
     "name": "stderr",
     "output_type": "stream",
     "text": [
      "Saved 1 image to \u001b[1m..\\data\\detections\\lobelia4cosmetics1366\u001b[0m\n"
     ]
    },
    {
     "name": "stdout",
     "output_type": "stream",
     "text": [
      "Detected parking meter with confidence 0.39\n"
     ]
    },
    {
     "name": "stderr",
     "output_type": "stream",
     "text": [
      "Saved 1 image to \u001b[1m..\\data\\detections\\lobelia4cosmetics1367\u001b[0m\n"
     ]
    },
    {
     "name": "stdout",
     "output_type": "stream",
     "text": [
      "Detected parking meter with confidence 0.39\n"
     ]
    },
    {
     "name": "stderr",
     "output_type": "stream",
     "text": [
      "Saved 1 image to \u001b[1m..\\data\\detections\\lobelia4cosmetics1368\u001b[0m\n",
      "Saved 1 image to \u001b[1m..\\data\\detections\\lobelia4cosmetics1369\u001b[0m\n",
      "Saved 1 image to \u001b[1m..\\data\\detections\\lobelia4cosmetics1370\u001b[0m\n",
      "Saved 1 image to \u001b[1m..\\data\\detections\\lobelia4cosmetics1371\u001b[0m\n",
      "Saved 1 image to \u001b[1m..\\data\\detections\\lobelia4cosmetics1372\u001b[0m\n",
      "Saved 1 image to \u001b[1m..\\data\\detections\\lobelia4cosmetics1373\u001b[0m\n",
      "Saved 1 image to \u001b[1m..\\data\\detections\\lobelia4cosmetics1374\u001b[0m\n",
      "Saved 1 image to \u001b[1m..\\data\\detections\\lobelia4cosmetics1375\u001b[0m\n",
      "Saved 1 image to \u001b[1m..\\data\\detections\\lobelia4cosmetics1376\u001b[0m\n",
      "Saved 1 image to \u001b[1m..\\data\\detections\\lobelia4cosmetics1377\u001b[0m\n"
     ]
    },
    {
     "name": "stdout",
     "output_type": "stream",
     "text": [
      "Detected cup with confidence 0.75\n"
     ]
    },
    {
     "name": "stderr",
     "output_type": "stream",
     "text": [
      "Saved 1 image to \u001b[1m..\\data\\detections\\lobelia4cosmetics1378\u001b[0m\n"
     ]
    },
    {
     "name": "stdout",
     "output_type": "stream",
     "text": [
      "Detected cup with confidence 0.72\n"
     ]
    },
    {
     "name": "stderr",
     "output_type": "stream",
     "text": [
      "Saved 1 image to \u001b[1m..\\data\\detections\\lobelia4cosmetics1379\u001b[0m\n"
     ]
    },
    {
     "name": "stdout",
     "output_type": "stream",
     "text": [
      "Detected cup with confidence 0.72\n"
     ]
    },
    {
     "name": "stderr",
     "output_type": "stream",
     "text": [
      "Saved 1 image to \u001b[1m..\\data\\detections\\lobelia4cosmetics1380\u001b[0m\n"
     ]
    },
    {
     "name": "stdout",
     "output_type": "stream",
     "text": [
      "Detected cup with confidence 0.72\n"
     ]
    },
    {
     "name": "stderr",
     "output_type": "stream",
     "text": [
      "Saved 1 image to \u001b[1m..\\data\\detections\\lobelia4cosmetics1381\u001b[0m\n"
     ]
    },
    {
     "name": "stdout",
     "output_type": "stream",
     "text": [
      "Detected cup with confidence 0.72\n"
     ]
    },
    {
     "name": "stderr",
     "output_type": "stream",
     "text": [
      "Saved 1 image to \u001b[1m..\\data\\detections\\lobelia4cosmetics1382\u001b[0m\n"
     ]
    },
    {
     "name": "stdout",
     "output_type": "stream",
     "text": [
      "Detected cup with confidence 0.72\n"
     ]
    },
    {
     "name": "stderr",
     "output_type": "stream",
     "text": [
      "Saved 1 image to \u001b[1m..\\data\\detections\\lobelia4cosmetics1383\u001b[0m\n"
     ]
    },
    {
     "name": "stdout",
     "output_type": "stream",
     "text": [
      "Detected cup with confidence 0.72\n"
     ]
    },
    {
     "name": "stderr",
     "output_type": "stream",
     "text": [
      "Saved 1 image to \u001b[1m..\\data\\detections\\lobelia4cosmetics1384\u001b[0m\n"
     ]
    },
    {
     "name": "stdout",
     "output_type": "stream",
     "text": [
      "Detected cup with confidence 0.72\n"
     ]
    },
    {
     "name": "stderr",
     "output_type": "stream",
     "text": [
      "Saved 1 image to \u001b[1m..\\data\\detections\\lobelia4cosmetics1385\u001b[0m\n"
     ]
    },
    {
     "name": "stdout",
     "output_type": "stream",
     "text": [
      "Detected cup with confidence 0.72\n"
     ]
    },
    {
     "name": "stderr",
     "output_type": "stream",
     "text": [
      "Saved 1 image to \u001b[1m..\\data\\detections\\lobelia4cosmetics1386\u001b[0m\n"
     ]
    },
    {
     "name": "stdout",
     "output_type": "stream",
     "text": [
      "Detected cup with confidence 0.72\n"
     ]
    },
    {
     "name": "stderr",
     "output_type": "stream",
     "text": [
      "Saved 1 image to \u001b[1m..\\data\\detections\\lobelia4cosmetics1387\u001b[0m\n"
     ]
    },
    {
     "name": "stdout",
     "output_type": "stream",
     "text": [
      "Detected cup with confidence 0.72\n"
     ]
    },
    {
     "name": "stderr",
     "output_type": "stream",
     "text": [
      "Saved 1 image to \u001b[1m..\\data\\detections\\lobelia4cosmetics1388\u001b[0m\n"
     ]
    },
    {
     "name": "stdout",
     "output_type": "stream",
     "text": [
      "Detected cup with confidence 0.72\n"
     ]
    },
    {
     "name": "stderr",
     "output_type": "stream",
     "text": [
      "Saved 1 image to \u001b[1m..\\data\\detections\\lobelia4cosmetics1389\u001b[0m\n"
     ]
    },
    {
     "name": "stdout",
     "output_type": "stream",
     "text": [
      "Detected cup with confidence 0.72\n"
     ]
    },
    {
     "name": "stderr",
     "output_type": "stream",
     "text": [
      "Saved 1 image to \u001b[1m..\\data\\detections\\lobelia4cosmetics1390\u001b[0m\n"
     ]
    },
    {
     "name": "stdout",
     "output_type": "stream",
     "text": [
      "Detected cup with confidence 0.72\n"
     ]
    },
    {
     "name": "stderr",
     "output_type": "stream",
     "text": [
      "Saved 1 image to \u001b[1m..\\data\\detections\\lobelia4cosmetics1391\u001b[0m\n"
     ]
    },
    {
     "name": "stdout",
     "output_type": "stream",
     "text": [
      "Detected cup with confidence 0.72\n"
     ]
    },
    {
     "name": "stderr",
     "output_type": "stream",
     "text": [
      "Saved 1 image to \u001b[1m..\\data\\detections\\lobelia4cosmetics1392\u001b[0m\n"
     ]
    },
    {
     "name": "stdout",
     "output_type": "stream",
     "text": [
      "Detected cup with confidence 0.72\n"
     ]
    },
    {
     "name": "stderr",
     "output_type": "stream",
     "text": [
      "Saved 1 image to \u001b[1m..\\data\\detections\\lobelia4cosmetics1393\u001b[0m\n",
      "Saved 1 image to \u001b[1m..\\data\\detections\\lobelia4cosmetics1394\u001b[0m\n",
      "Saved 1 image to \u001b[1m..\\data\\detections\\lobelia4cosmetics1395\u001b[0m\n",
      "Saved 1 image to \u001b[1m..\\data\\detections\\lobelia4cosmetics1396\u001b[0m\n",
      "Saved 1 image to \u001b[1m..\\data\\detections\\lobelia4cosmetics1397\u001b[0m\n"
     ]
    }
   ],
   "source": [
    "import logging\n",
    "import torch\n",
    "import cv2\n",
    "import os\n",
    "import psycopg2\n",
    "from psycopg2 import sql\n",
    "\n",
    "# Configure logging\n",
    "logging.basicConfig(filename='app2.log', filemode='w', format='%(name)s - %(levelname)s - %(message)s', level=logging.INFO)\n",
    "\n",
    "# Connect to PostgreSQL database\n",
    "try:\n",
    "    conn = psycopg2.connect(\n",
    "        dbname='kara_solutions_db',\n",
    "        user='postgres',\n",
    "        password='postgres',\n",
    "        host='localhost',\n",
    "        port='5432'\n",
    "    )\n",
    "    cur = conn.cursor()\n",
    "    logging.info('Connected to PostgreSQL database')\n",
    "except Exception as e:\n",
    "    logging.error(f'Error connecting to PostgreSQL database: {e}')\n",
    "    raise\n",
    "\n",
    "# Load YOLO model\n",
    "model = torch.hub.load('ultralytics/yolov5', 'yolov5s')\n",
    "\n",
    "# Directory containing images\n",
    "image_dir = '../data/images/lobelia4cosmetics'\n",
    "\n",
    "# Output directory for results\n",
    "output_dir = '../data/detections/lobelia4cosmetics'\n",
    "if not os.path.exists(output_dir):\n",
    "    os.makedirs(output_dir)\n",
    "\n",
    "# Process each image in the directory\n",
    "for image_name in os.listdir(image_dir):\n",
    "    image_path = os.path.join(image_dir, image_name)\n",
    "    image = cv2.imread(image_path)\n",
    "\n",
    "    # Perform detection\n",
    "    results = model(image)\n",
    "\n",
    "    # Extract detection results\n",
    "    for result in results.xyxy[0].numpy():\n",
    "        x1, y1, x2, y2, conf, cls = result\n",
    "        x1, y1, x2, y2, conf = map(float, (x1, y1, x2, y2, conf))  # Convert to native Python types\n",
    "        label = model.names[int(cls)]\n",
    "        print(f\"Detected {label} with confidence {conf:.2f}\")\n",
    "\n",
    "        # Insert detection data into PostgreSQL\n",
    "        try:\n",
    "            insert_query = sql.SQL(\n",
    "                \"\"\"\n",
    "                INSERT INTO detections_lobelia4cosmetics (image_name, x1, y1, x2, y2, confidence, classes)\n",
    "                VALUES (%s, %s, %s, %s, %s, %s, %s)\n",
    "                \"\"\"\n",
    "            )\n",
    "            cur.execute(insert_query, (image_name, x1, y1, x2, y2, conf, label))\n",
    "            logging.info(f'Inserted detection for {image_name}')\n",
    "            conn.commit()  # Commit after each successful insert\n",
    "        except Exception as e:\n",
    "            logging.error(f'Error inserting detection for {image_name}: {e}')\n",
    "            conn.rollback()  # Rollback the transaction if there's an error\n",
    "\n",
    "    # Save the results\n",
    "    results.save(save_dir=output_dir)\n",
    "\n",
    "# Close the connection\n",
    "try:\n",
    "    cur.close()\n",
    "    conn.close()\n",
    "    logging.info('PostgreSQL connection closed')\n",
    "except Exception as e:\n",
    "    logging.error(f'Error closing PostgreSQL connection: {e}')\n"
   ]
  },
  {
   "cell_type": "code",
   "execution_count": null,
   "metadata": {},
   "outputs": [],
   "source": []
  }
 ],
 "metadata": {
  "kernelspec": {
   "display_name": "venv",
   "language": "python",
   "name": "python3"
  },
  "language_info": {
   "codemirror_mode": {
    "name": "ipython",
    "version": 3
   },
   "file_extension": ".py",
   "mimetype": "text/x-python",
   "name": "python",
   "nbconvert_exporter": "python",
   "pygments_lexer": "ipython3",
   "version": "3.12.1"
  }
 },
 "nbformat": 4,
 "nbformat_minor": 2
}
